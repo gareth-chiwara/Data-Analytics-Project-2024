{
 "cells": [
  {
   "cell_type": "code",
   "execution_count": 60,
   "id": "863498d9-2ded-4b86-bd6e-78c0cf5a3e7a",
   "metadata": {},
   "outputs": [],
   "source": [
    "import numpy as np \n",
    "import pandas as pd \n",
    "%matplotlib inline\n",
    "import matplotlib.pyplot as plt\n",
    "import seaborn as sns\n",
    "import plotly.express as px\n",
    "from plotly.offline import iplot, plot\n",
    "from plotly.subplots import make_subplots\n",
    "import plotly.graph_objects as go\n",
    "from sklearn.preprocessing import LabelEncoder, StandardScaler\n",
    "from scipy.stats import norm\n",
    "from sklearn.model_selection import train_test_split #used to split a dataset into training and testing sets.\n",
    "from sklearn.preprocessing import StandardScaler #used to standardize features by removing the mean and scaling to unit variance.\n",
    "from sklearn.ensemble import RandomForestClassifier #code trains a Random Forest classifier on the Iris dataset and evaluates its accuracy on unseen test data.\n",
    "from sklearn.metrics import classification_report #provides a detailed performance evaluation of a classification model. "
   ]
  },
  {
   "cell_type": "markdown",
   "id": "22c99db0-b23b-4e6a-ae69-8737ffe41e46",
   "metadata": {},
   "source": [
    "# **Introduction to AI in the Workforce: A Job Market Analysis**\n",
    "This analysis delves into the \"AI-Powered Job Market Insights\" dataset, offering a comprehensive exploration of how artificial intelligence (AI) and automation are influencing the modern job market. The dataset provides a snapshot of job listings across various industries, highlighting factors such as AI adoption levels, automation risk, and salary ranges. By examining these elements, we aim to uncover key trends and insights into how AI is reshaping employment opportunities and job market dynamics.\n",
    "\n",
    "**Objective**\n",
    "The primary objective of this analysis is to identify and understand key patterns related to salaries, required skills, remote work, and job market trends influenced by AI. By employing various analytical techniques, we seek to reveal how AI adoption impacts compensation, skill requirements, and job growth, as well as how it correlates with the likelihood of remote work.\n",
    "\n",
    "**Data Overview**\n",
    "The dataset includes the following key features:\n",
    "\n",
    "- Job_Title: The title of the job role.\n",
    "- Industry: The industry in which the job is located.\n",
    "- Company_Size: The size of the company offering the job.\n",
    "- Location: The geographic location of the job.\n",
    "- AI_Adoption_Level: The extent to which the company has adopted AI in its operations.\n",
    "- Automation_Risk: The estimated risk of the job being automated within the next 10 years.\n",
    "- Required_Skills: The key skills required for the job role.\n",
    "- Salary_USD: The annual salary offered for the job in USD.\n",
    "- Remote_Friendly: Indicates whether the job can be performed remotely.\n",
    "- Job_Growth_Projection: The projected growth or decline of the job role over the next five years.\n",
    "\n",
    "**Analysis Highlights**\n",
    "- Distribution of Salaries Across Industries and AI Adoption Levels: A box plot will illustrate how salaries differ across various industries, segmented by AI adoption levels. This analysis will help identify high-paying industries and assess the impact of AI on compensation.\n",
    "- Skill Frequency Analysis: A count plot will show the frequency of required skills, segmented by AI adoption levels. This will reveal which skills are more common in roles with high AI adoption.\n",
    "- Correlation Matrix: A heatmap will explore the relationships between numerical features such as salary, AI adoption, automation risk, and job growth. This will uncover trends and correlations, such as whether higher AI adoption is linked to increased salaries or reduced automation risk.\n",
    "- AI Adoption Level Impact on Remote Work: A heatmap will examine the relationship between AI adoption levels and the likelihood of a job being remote-friendly, exploring if AI adoption promotes remote work opportunities.\n",
    "- Industry-Specific Salary Distribution: A focused box plot will analyze salary distributions within the Technology industry, segmented by AI adoption level and automation risk, providing deeper insights into compensation within this sector.\n",
    "- Clustering Analysis: KMeans clustering will group similar job roles based on AI adoption level, automation risk, and salary, helping to identify patterns and categorize jobs with similar characteristics.\n",
    "- Point-Biserial Correlation: An analysis of the point-biserial correlation will explore the relationship between AI adoption levels and the correlation between remote work and salary, revealing how AI adoption influences this dynamic.\n",
    "\n",
    "By combining these analyses, this report aims to provide a thorough understanding of how AI is transforming the job market, offering valuable insights into compensation trends, skill demands, and employment opportunities in an AI-driven landscape."
   ]
  },
  {
   "cell_type": "code",
   "execution_count": 61,
   "id": "b0db7ebb-f44a-4a1d-bbe4-dc920e1b6aa5",
   "metadata": {},
   "outputs": [],
   "source": [
    "job_Market= pd.read_csv(r\"C:\\Users\\garet\\Downloads\\Gareth-ai_job_market_insights.csv\")"
   ]
  },
  {
   "cell_type": "code",
   "execution_count": null,
   "id": "4475d2f1-af55-4b11-9260-05f93982b627",
   "metadata": {},
   "outputs": [],
   "source": []
  },
  {
   "cell_type": "markdown",
   "id": "e7e0e50c-569a-47b4-9cd1-f881e906b64d",
   "metadata": {},
   "source": [
    "# 1. Initial Data Inspection"
   ]
  },
  {
   "cell_type": "code",
   "execution_count": 62,
   "id": "12404627-f7c1-4059-a27d-6df938c342fa",
   "metadata": {},
   "outputs": [
    {
     "name": "stdout",
     "output_type": "stream",
     "text": [
      "<class 'pandas.core.frame.DataFrame'>\n",
      "RangeIndex: 500 entries, 0 to 499\n",
      "Data columns (total 10 columns):\n",
      " #   Column                 Non-Null Count  Dtype  \n",
      "---  ------                 --------------  -----  \n",
      " 0   Job_Title              500 non-null    object \n",
      " 1   Industry               500 non-null    object \n",
      " 2   Company_Size           500 non-null    object \n",
      " 3   Location               500 non-null    object \n",
      " 4   AI_Adoption_Level      500 non-null    object \n",
      " 5   Automation_Risk        500 non-null    object \n",
      " 6   Required_Skills        500 non-null    object \n",
      " 7   Salary_USD             500 non-null    float64\n",
      " 8   Remote_Friendly        500 non-null    object \n",
      " 9   Job_Growth_Projection  500 non-null    object \n",
      "dtypes: float64(1), object(9)\n",
      "memory usage: 39.2+ KB\n"
     ]
    }
   ],
   "source": [
    "job_Market.info()"
   ]
  },
  {
   "cell_type": "code",
   "execution_count": 63,
   "id": "73244585-3745-4e79-9efd-37fb8ed0fa16",
   "metadata": {},
   "outputs": [
    {
     "data": {
      "text/html": [
       "<div>\n",
       "<style scoped>\n",
       "    .dataframe tbody tr th:only-of-type {\n",
       "        vertical-align: middle;\n",
       "    }\n",
       "\n",
       "    .dataframe tbody tr th {\n",
       "        vertical-align: top;\n",
       "    }\n",
       "\n",
       "    .dataframe thead th {\n",
       "        text-align: right;\n",
       "    }\n",
       "</style>\n",
       "<table border=\"1\" class=\"dataframe\">\n",
       "  <thead>\n",
       "    <tr style=\"text-align: right;\">\n",
       "      <th></th>\n",
       "      <th>Salary_USD</th>\n",
       "    </tr>\n",
       "  </thead>\n",
       "  <tbody>\n",
       "    <tr>\n",
       "      <th>count</th>\n",
       "      <td>500.000000</td>\n",
       "    </tr>\n",
       "    <tr>\n",
       "      <th>mean</th>\n",
       "      <td>91222.390974</td>\n",
       "    </tr>\n",
       "    <tr>\n",
       "      <th>std</th>\n",
       "      <td>20504.291453</td>\n",
       "    </tr>\n",
       "    <tr>\n",
       "      <th>min</th>\n",
       "      <td>31969.526346</td>\n",
       "    </tr>\n",
       "    <tr>\n",
       "      <th>25%</th>\n",
       "      <td>78511.514863</td>\n",
       "    </tr>\n",
       "    <tr>\n",
       "      <th>50%</th>\n",
       "      <td>91998.195286</td>\n",
       "    </tr>\n",
       "    <tr>\n",
       "      <th>75%</th>\n",
       "      <td>103971.282092</td>\n",
       "    </tr>\n",
       "    <tr>\n",
       "      <th>max</th>\n",
       "      <td>155209.821614</td>\n",
       "    </tr>\n",
       "  </tbody>\n",
       "</table>\n",
       "</div>"
      ],
      "text/plain": [
       "          Salary_USD\n",
       "count     500.000000\n",
       "mean    91222.390974\n",
       "std     20504.291453\n",
       "min     31969.526346\n",
       "25%     78511.514863\n",
       "50%     91998.195286\n",
       "75%    103971.282092\n",
       "max    155209.821614"
      ]
     },
     "execution_count": 63,
     "metadata": {},
     "output_type": "execute_result"
    }
   ],
   "source": [
    "job_Market.describe()"
   ]
  },
  {
   "cell_type": "code",
   "execution_count": 64,
   "id": "0a796ac6-c42c-48fe-a827-7ab648f21b75",
   "metadata": {},
   "outputs": [
    {
     "data": {
      "text/html": [
       "<div>\n",
       "<style scoped>\n",
       "    .dataframe tbody tr th:only-of-type {\n",
       "        vertical-align: middle;\n",
       "    }\n",
       "\n",
       "    .dataframe tbody tr th {\n",
       "        vertical-align: top;\n",
       "    }\n",
       "\n",
       "    .dataframe thead th {\n",
       "        text-align: right;\n",
       "    }\n",
       "</style>\n",
       "<table border=\"1\" class=\"dataframe\">\n",
       "  <thead>\n",
       "    <tr style=\"text-align: right;\">\n",
       "      <th></th>\n",
       "      <th>Job_Title</th>\n",
       "      <th>Industry</th>\n",
       "      <th>Company_Size</th>\n",
       "      <th>Location</th>\n",
       "      <th>AI_Adoption_Level</th>\n",
       "      <th>Automation_Risk</th>\n",
       "      <th>Required_Skills</th>\n",
       "      <th>Salary_USD</th>\n",
       "      <th>Remote_Friendly</th>\n",
       "      <th>Job_Growth_Projection</th>\n",
       "    </tr>\n",
       "  </thead>\n",
       "  <tbody>\n",
       "    <tr>\n",
       "      <th>0</th>\n",
       "      <td>Cybersecurity Analyst</td>\n",
       "      <td>Entertainment</td>\n",
       "      <td>Small</td>\n",
       "      <td>Dubai</td>\n",
       "      <td>Medium</td>\n",
       "      <td>High</td>\n",
       "      <td>UX/UI Design</td>\n",
       "      <td>111392.165243</td>\n",
       "      <td>Yes</td>\n",
       "      <td>Growth</td>\n",
       "    </tr>\n",
       "    <tr>\n",
       "      <th>1</th>\n",
       "      <td>Marketing Specialist</td>\n",
       "      <td>Technology</td>\n",
       "      <td>Large</td>\n",
       "      <td>Singapore</td>\n",
       "      <td>Medium</td>\n",
       "      <td>High</td>\n",
       "      <td>Marketing</td>\n",
       "      <td>93792.562466</td>\n",
       "      <td>No</td>\n",
       "      <td>Decline</td>\n",
       "    </tr>\n",
       "    <tr>\n",
       "      <th>2</th>\n",
       "      <td>AI Researcher</td>\n",
       "      <td>Technology</td>\n",
       "      <td>Large</td>\n",
       "      <td>Singapore</td>\n",
       "      <td>Medium</td>\n",
       "      <td>High</td>\n",
       "      <td>UX/UI Design</td>\n",
       "      <td>107170.263069</td>\n",
       "      <td>Yes</td>\n",
       "      <td>Growth</td>\n",
       "    </tr>\n",
       "    <tr>\n",
       "      <th>3</th>\n",
       "      <td>Sales Manager</td>\n",
       "      <td>Retail</td>\n",
       "      <td>Small</td>\n",
       "      <td>Berlin</td>\n",
       "      <td>Low</td>\n",
       "      <td>High</td>\n",
       "      <td>Project Management</td>\n",
       "      <td>93027.953758</td>\n",
       "      <td>No</td>\n",
       "      <td>Growth</td>\n",
       "    </tr>\n",
       "    <tr>\n",
       "      <th>4</th>\n",
       "      <td>Cybersecurity Analyst</td>\n",
       "      <td>Entertainment</td>\n",
       "      <td>Small</td>\n",
       "      <td>Tokyo</td>\n",
       "      <td>Low</td>\n",
       "      <td>Low</td>\n",
       "      <td>JavaScript</td>\n",
       "      <td>87752.922171</td>\n",
       "      <td>Yes</td>\n",
       "      <td>Decline</td>\n",
       "    </tr>\n",
       "  </tbody>\n",
       "</table>\n",
       "</div>"
      ],
      "text/plain": [
       "               Job_Title       Industry Company_Size   Location  \\\n",
       "0  Cybersecurity Analyst  Entertainment        Small      Dubai   \n",
       "1   Marketing Specialist     Technology        Large  Singapore   \n",
       "2          AI Researcher     Technology        Large  Singapore   \n",
       "3          Sales Manager         Retail        Small     Berlin   \n",
       "4  Cybersecurity Analyst  Entertainment        Small      Tokyo   \n",
       "\n",
       "  AI_Adoption_Level Automation_Risk     Required_Skills     Salary_USD  \\\n",
       "0            Medium            High        UX/UI Design  111392.165243   \n",
       "1            Medium            High           Marketing   93792.562466   \n",
       "2            Medium            High        UX/UI Design  107170.263069   \n",
       "3               Low            High  Project Management   93027.953758   \n",
       "4               Low             Low          JavaScript   87752.922171   \n",
       "\n",
       "  Remote_Friendly Job_Growth_Projection  \n",
       "0             Yes                Growth  \n",
       "1              No               Decline  \n",
       "2             Yes                Growth  \n",
       "3              No                Growth  \n",
       "4             Yes               Decline  "
      ]
     },
     "execution_count": 64,
     "metadata": {},
     "output_type": "execute_result"
    }
   ],
   "source": [
    "job_Market.head()"
   ]
  },
  {
   "cell_type": "code",
   "execution_count": 76,
   "id": "0bd1100a-982b-42b0-98ec-ef7ecf1b58ed",
   "metadata": {},
   "outputs": [
    {
     "name": "stdout",
     "output_type": "stream",
     "text": [
      "      Salary_USD  Job_Title_Cybersecurity Analyst  Job_Title_Data Scientist  \\\n",
      "0  111392.165243                             True                     False   \n",
      "1   93792.562466                            False                     False   \n",
      "2  107170.263069                            False                     False   \n",
      "3   93027.953758                            False                     False   \n",
      "4   87752.922171                             True                     False   \n",
      "\n",
      "   Job_Title_HR Manager  Job_Title_Marketing Specialist  \\\n",
      "0                 False                           False   \n",
      "1                 False                            True   \n",
      "2                 False                           False   \n",
      "3                 False                           False   \n",
      "4                 False                           False   \n",
      "\n",
      "   Job_Title_Operations Manager  Job_Title_Product Manager  \\\n",
      "0                         False                      False   \n",
      "1                         False                      False   \n",
      "2                         False                      False   \n",
      "3                         False                      False   \n",
      "4                         False                      False   \n",
      "\n",
      "   Job_Title_Sales Manager  Job_Title_Software Engineer  \\\n",
      "0                    False                        False   \n",
      "1                    False                        False   \n",
      "2                    False                        False   \n",
      "3                     True                        False   \n",
      "4                    False                        False   \n",
      "\n",
      "   Job_Title_UX Designer  ...  Required_Skills_JavaScript  \\\n",
      "0                  False  ...                       False   \n",
      "1                  False  ...                       False   \n",
      "2                  False  ...                       False   \n",
      "3                  False  ...                       False   \n",
      "4                  False  ...                        True   \n",
      "\n",
      "   Required_Skills_Machine Learning  Required_Skills_Marketing  \\\n",
      "0                             False                      False   \n",
      "1                             False                       True   \n",
      "2                             False                      False   \n",
      "3                             False                      False   \n",
      "4                             False                      False   \n",
      "\n",
      "   Required_Skills_Project Management  Required_Skills_Python  \\\n",
      "0                               False                   False   \n",
      "1                               False                   False   \n",
      "2                               False                   False   \n",
      "3                                True                   False   \n",
      "4                               False                   False   \n",
      "\n",
      "   Required_Skills_Sales  Required_Skills_UX/UI Design  Remote_Friendly_Yes  \\\n",
      "0                  False                          True                 True   \n",
      "1                  False                         False                False   \n",
      "2                  False                          True                 True   \n",
      "3                  False                         False                False   \n",
      "4                  False                         False                 True   \n",
      "\n",
      "   Job_Growth_Projection_Growth  Job_Growth_Projection_Stable  \n",
      "0                          True                         False  \n",
      "1                         False                         False  \n",
      "2                          True                         False  \n",
      "3                          True                         False  \n",
      "4                         False                         False  \n",
      "\n",
      "[5 rows x 46 columns]\n"
     ]
    }
   ],
   "source": [
    "# Convert categorical columns using one-hot encoding\n",
    "job_Market = pd.get_dummies(job_Market, columns=['Job_Title', 'Industry', 'Company_Size', 'Location', 'AI_Adoption_Level', 'Automation_Risk', 'Required_Skills', 'Remote_Friendly', 'Job_Growth_Projection'], drop_first=True)\n",
    "\n",
    "# Check the encoded dataset\n",
    "print(job_Market.head())\n",
    "\n",
    "# This code takes a DataFrame with categorical columns and transforms them into \n",
    "# numerical format using one-hot encoding."
   ]
  },
  {
   "cell_type": "markdown",
   "id": "5c3e8d69-6744-4f14-8455-4b9d5b378aeb",
   "metadata": {},
   "source": [
    "# 2. Checking for Missing Values"
   ]
  },
  {
   "cell_type": "code",
   "execution_count": 77,
   "id": "9248ba67-9b2e-48eb-97fc-0b89e2ff12b2",
   "metadata": {},
   "outputs": [
    {
     "name": "stdout",
     "output_type": "stream",
     "text": [
      "\n",
      "Missing Values:\n",
      "Salary_USD                            0\n",
      "Job_Title_Cybersecurity Analyst       0\n",
      "Job_Title_Data Scientist              0\n",
      "Job_Title_HR Manager                  0\n",
      "Job_Title_Marketing Specialist        0\n",
      "Job_Title_Operations Manager          0\n",
      "Job_Title_Product Manager             0\n",
      "Job_Title_Sales Manager               0\n",
      "Job_Title_Software Engineer           0\n",
      "Job_Title_UX Designer                 0\n",
      "Industry_Energy                       0\n",
      "Industry_Entertainment                0\n",
      "Industry_Finance                      0\n",
      "Industry_Healthcare                   0\n",
      "Industry_Manufacturing                0\n",
      "Industry_Retail                       0\n",
      "Industry_Technology                   0\n",
      "Industry_Telecommunications           0\n",
      "Industry_Transportation               0\n",
      "Company_Size_Medium                   0\n",
      "Company_Size_Small                    0\n",
      "Location_Dubai                        0\n",
      "Location_London                       0\n",
      "Location_New York                     0\n",
      "Location_Paris                        0\n",
      "Location_San Francisco                0\n",
      "Location_Singapore                    0\n",
      "Location_Sydney                       0\n",
      "Location_Tokyo                        0\n",
      "Location_Toronto                      0\n",
      "AI_Adoption_Level_Low                 0\n",
      "AI_Adoption_Level_Medium              0\n",
      "Automation_Risk_Low                   0\n",
      "Automation_Risk_Medium                0\n",
      "Required_Skills_Cybersecurity         0\n",
      "Required_Skills_Data Analysis         0\n",
      "Required_Skills_JavaScript            0\n",
      "Required_Skills_Machine Learning      0\n",
      "Required_Skills_Marketing             0\n",
      "Required_Skills_Project Management    0\n",
      "Required_Skills_Python                0\n",
      "Required_Skills_Sales                 0\n",
      "Required_Skills_UX/UI Design          0\n",
      "Remote_Friendly_Yes                   0\n",
      "Job_Growth_Projection_Growth          0\n",
      "Job_Growth_Projection_Stable          0\n",
      "dtype: int64\n"
     ]
    }
   ],
   "source": [
    "print(\"\\nMissing Values:\")\n",
    "missing_values = job_Market.isnull().sum()\n",
    "print(missing_values)"
   ]
  },
  {
   "cell_type": "markdown",
   "id": "dad23cb1-11d1-4a46-9a4c-86e712911770",
   "metadata": {},
   "source": [
    "# 3. Checking for Duplicates"
   ]
  },
  {
   "cell_type": "code",
   "execution_count": 78,
   "id": "31e665c2-2c97-41ce-b976-1c76b42da7f3",
   "metadata": {},
   "outputs": [
    {
     "name": "stdout",
     "output_type": "stream",
     "text": [
      "\n",
      "Checking for Duplicates:\n",
      "Number of duplicate rows: 0\n"
     ]
    }
   ],
   "source": [
    "print(\"\\nChecking for Duplicates:\")\n",
    "duplicates = job_Market.duplicated()\n",
    "print(f\"Number of duplicate rows: {duplicates.sum()}\")\n",
    "job_Market.drop_duplicates(inplace=True)"
   ]
  },
  {
   "cell_type": "code",
   "execution_count": 79,
   "id": "a9db7be7-21c9-47c6-9e4e-a2f3bc294c03",
   "metadata": {},
   "outputs": [
    {
     "ename": "KeyError",
     "evalue": "'Job_Title'",
     "output_type": "error",
     "traceback": [
      "\u001b[1;31m---------------------------------------------------------------------------\u001b[0m",
      "\u001b[1;31mKeyError\u001b[0m                                  Traceback (most recent call last)",
      "File \u001b[1;32mC:\\ProgramData\\anaconda3\\Lib\\site-packages\\pandas\\core\\indexes\\base.py:3805\u001b[0m, in \u001b[0;36mIndex.get_loc\u001b[1;34m(self, key)\u001b[0m\n\u001b[0;32m   3804\u001b[0m \u001b[38;5;28;01mtry\u001b[39;00m:\n\u001b[1;32m-> 3805\u001b[0m     \u001b[38;5;28;01mreturn\u001b[39;00m \u001b[38;5;28mself\u001b[39m\u001b[38;5;241m.\u001b[39m_engine\u001b[38;5;241m.\u001b[39mget_loc(casted_key)\n\u001b[0;32m   3806\u001b[0m \u001b[38;5;28;01mexcept\u001b[39;00m \u001b[38;5;167;01mKeyError\u001b[39;00m \u001b[38;5;28;01mas\u001b[39;00m err:\n",
      "File \u001b[1;32mindex.pyx:167\u001b[0m, in \u001b[0;36mpandas._libs.index.IndexEngine.get_loc\u001b[1;34m()\u001b[0m\n",
      "File \u001b[1;32mindex.pyx:196\u001b[0m, in \u001b[0;36mpandas._libs.index.IndexEngine.get_loc\u001b[1;34m()\u001b[0m\n",
      "File \u001b[1;32mpandas\\\\_libs\\\\hashtable_class_helper.pxi:7081\u001b[0m, in \u001b[0;36mpandas._libs.hashtable.PyObjectHashTable.get_item\u001b[1;34m()\u001b[0m\n",
      "File \u001b[1;32mpandas\\\\_libs\\\\hashtable_class_helper.pxi:7089\u001b[0m, in \u001b[0;36mpandas._libs.hashtable.PyObjectHashTable.get_item\u001b[1;34m()\u001b[0m\n",
      "\u001b[1;31mKeyError\u001b[0m: 'Job_Title'",
      "\nThe above exception was the direct cause of the following exception:\n",
      "\u001b[1;31mKeyError\u001b[0m                                  Traceback (most recent call last)",
      "Cell \u001b[1;32mIn[79], line 1\u001b[0m\n\u001b[1;32m----> 1\u001b[0m job_Market[job_Market[\u001b[38;5;124m'\u001b[39m\u001b[38;5;124mJob_Title\u001b[39m\u001b[38;5;124m'\u001b[39m]\u001b[38;5;241m.\u001b[39mduplicated(keep\u001b[38;5;241m=\u001b[39m\u001b[38;5;28;01mFalse\u001b[39;00m)]\n",
      "File \u001b[1;32mC:\\ProgramData\\anaconda3\\Lib\\site-packages\\pandas\\core\\frame.py:4102\u001b[0m, in \u001b[0;36mDataFrame.__getitem__\u001b[1;34m(self, key)\u001b[0m\n\u001b[0;32m   4100\u001b[0m \u001b[38;5;28;01mif\u001b[39;00m \u001b[38;5;28mself\u001b[39m\u001b[38;5;241m.\u001b[39mcolumns\u001b[38;5;241m.\u001b[39mnlevels \u001b[38;5;241m>\u001b[39m \u001b[38;5;241m1\u001b[39m:\n\u001b[0;32m   4101\u001b[0m     \u001b[38;5;28;01mreturn\u001b[39;00m \u001b[38;5;28mself\u001b[39m\u001b[38;5;241m.\u001b[39m_getitem_multilevel(key)\n\u001b[1;32m-> 4102\u001b[0m indexer \u001b[38;5;241m=\u001b[39m \u001b[38;5;28mself\u001b[39m\u001b[38;5;241m.\u001b[39mcolumns\u001b[38;5;241m.\u001b[39mget_loc(key)\n\u001b[0;32m   4103\u001b[0m \u001b[38;5;28;01mif\u001b[39;00m is_integer(indexer):\n\u001b[0;32m   4104\u001b[0m     indexer \u001b[38;5;241m=\u001b[39m [indexer]\n",
      "File \u001b[1;32mC:\\ProgramData\\anaconda3\\Lib\\site-packages\\pandas\\core\\indexes\\base.py:3812\u001b[0m, in \u001b[0;36mIndex.get_loc\u001b[1;34m(self, key)\u001b[0m\n\u001b[0;32m   3807\u001b[0m     \u001b[38;5;28;01mif\u001b[39;00m \u001b[38;5;28misinstance\u001b[39m(casted_key, \u001b[38;5;28mslice\u001b[39m) \u001b[38;5;129;01mor\u001b[39;00m (\n\u001b[0;32m   3808\u001b[0m         \u001b[38;5;28misinstance\u001b[39m(casted_key, abc\u001b[38;5;241m.\u001b[39mIterable)\n\u001b[0;32m   3809\u001b[0m         \u001b[38;5;129;01mand\u001b[39;00m \u001b[38;5;28many\u001b[39m(\u001b[38;5;28misinstance\u001b[39m(x, \u001b[38;5;28mslice\u001b[39m) \u001b[38;5;28;01mfor\u001b[39;00m x \u001b[38;5;129;01min\u001b[39;00m casted_key)\n\u001b[0;32m   3810\u001b[0m     ):\n\u001b[0;32m   3811\u001b[0m         \u001b[38;5;28;01mraise\u001b[39;00m InvalidIndexError(key)\n\u001b[1;32m-> 3812\u001b[0m     \u001b[38;5;28;01mraise\u001b[39;00m \u001b[38;5;167;01mKeyError\u001b[39;00m(key) \u001b[38;5;28;01mfrom\u001b[39;00m \u001b[38;5;21;01merr\u001b[39;00m\n\u001b[0;32m   3813\u001b[0m \u001b[38;5;28;01mexcept\u001b[39;00m \u001b[38;5;167;01mTypeError\u001b[39;00m:\n\u001b[0;32m   3814\u001b[0m     \u001b[38;5;66;03m# If we have a listlike key, _check_indexing_error will raise\u001b[39;00m\n\u001b[0;32m   3815\u001b[0m     \u001b[38;5;66;03m#  InvalidIndexError. Otherwise we fall through and re-raise\u001b[39;00m\n\u001b[0;32m   3816\u001b[0m     \u001b[38;5;66;03m#  the TypeError.\u001b[39;00m\n\u001b[0;32m   3817\u001b[0m     \u001b[38;5;28mself\u001b[39m\u001b[38;5;241m.\u001b[39m_check_indexing_error(key)\n",
      "\u001b[1;31mKeyError\u001b[0m: 'Job_Title'"
     ]
    }
   ],
   "source": [
    "job_Market[job_Market['Job_Title'].duplicated(keep=False)]"
   ]
  },
  {
   "cell_type": "code",
   "execution_count": null,
   "id": "0fdbf252-3c75-4911-b2d7-4631ce6e0dfe",
   "metadata": {},
   "outputs": [],
   "source": [
    "job_Market.isnull().sum()  #TO CHECK FOR DUPLICATED COLUMNS"
   ]
  },
  {
   "cell_type": "code",
   "execution_count": null,
   "id": "d5794f3c-7554-4978-b1b9-21f07541a05c",
   "metadata": {},
   "outputs": [],
   "source": [
    "job_Market[job_Market.duplicated()] #TO CHECK FOR ANY OUTLIERS"
   ]
  },
  {
   "cell_type": "code",
   "execution_count": null,
   "id": "112ae79c-e850-425c-8bfd-b519252e8630",
   "metadata": {},
   "outputs": [],
   "source": [
    "#lets get the unique job titles in a dataframe\n",
    "job_titles = job_Market['Job_Title'].unique()\n",
    "job_titles_df = pd.DataFrame(job_titles, columns=['Job_Title'])\n",
    "job_titles_df"
   ]
  },
  {
   "cell_type": "code",
   "execution_count": null,
   "id": "73540ed5-fc3a-4b41-bff2-ea1afc0dd0a7",
   "metadata": {},
   "outputs": [],
   "source": [
    "industries = job_Market['Industry'].unique()\n",
    "industries_df = pd.DataFrame(industries, columns=['Industry'])\n",
    "\n",
    "industries_df"
   ]
  },
  {
   "cell_type": "code",
   "execution_count": null,
   "id": "71b7cb4e-4fcf-4421-857a-47b54e0f3ed2",
   "metadata": {},
   "outputs": [],
   "source": [
    "location = job_Market['Location'].unique() \n",
    "           \n",
    "hotspots = pd.DataFrame(location, columns=['Location'] )\n",
    "hotspots"
   ]
  },
  {
   "cell_type": "markdown",
   "id": "201b4cf5-f291-4975-aa4b-edfce120efdf",
   "metadata": {},
   "source": [
    "# 4.Analysis and Visualization"
   ]
  },
  {
   "cell_type": "markdown",
   "id": "d5a0fd4c-97e8-4b5f-9e1d-d48211a0a595",
   "metadata": {},
   "source": [
    "# Job Title"
   ]
  },
  {
   "cell_type": "code",
   "execution_count": null,
   "id": "4d38de27-340c-4b34-b637-67c3ab5454f5",
   "metadata": {},
   "outputs": [],
   "source": [
    "job_Market.Job_Title.value_counts()"
   ]
  },
  {
   "cell_type": "markdown",
   "id": "45d695ea-23cc-4f19-a0b6-680bb43a53e5",
   "metadata": {},
   "source": [
    "The above data is the analysis of the total count data of job titles in the dataset"
   ]
  },
  {
   "cell_type": "code",
   "execution_count": null,
   "id": "51ca1639-edb7-4941-9085-d0f145ca101f",
   "metadata": {},
   "outputs": [],
   "source": [
    "value_counts = job_Market['Job_Title'].value_counts().reset_index()\n",
    "value_counts.columns = ['Job_Title', 'Count']\n",
    "fig = px.bar(\n",
    "    value_counts,\n",
    "    x='Job_Title',\n",
    "    y='Count',\n",
    "    title='Job Title Counter',\n",
    "    labels={'Count': 'Count', 'Job_Title': 'Job Title'},\n",
    "    color='Count', \n",
    "    color_continuous_scale='Viridis'  \n",
    ")\n",
    "fig.update_layout(\n",
    "    xaxis_title='Job Title',\n",
    "    yaxis_title='Count',\n",
    "    title_x=0.5,  \n",
    "    xaxis=dict(\n",
    "        tickangle=-45  \n",
    "    )\n",
    ")\n",
    "\n",
    "\n",
    "fig.show()"
   ]
  },
  {
   "cell_type": "markdown",
   "id": "864a14d9-6137-4d25-92ad-3c9336dd04bf",
   "metadata": {},
   "source": [
    "The above displays a visualisation of the total Job Title count  it allows us to quickly identify the most common job titles and compare their frequencies, which can be valuable for understanding the composition of the dataset."
   ]
  },
  {
   "cell_type": "markdown",
   "id": "3c53ff31-bb07-4468-a986-6ac4e93bcb98",
   "metadata": {},
   "source": [
    "# Company Sizes"
   ]
  },
  {
   "cell_type": "code",
   "execution_count": null,
   "id": "aeea82f4-53e5-4738-9d9d-fae129347360",
   "metadata": {},
   "outputs": [],
   "source": [
    "value_counts = job_Market['Company_Size'].value_counts().reset_index()\n",
    "value_counts"
   ]
  },
  {
   "cell_type": "markdown",
   "id": "abb45766-5a8c-4e17-bc15-5f10963d7e9f",
   "metadata": {},
   "source": [
    "The above data is the analysis of the total count data of company sizes in the dataset"
   ]
  },
  {
   "cell_type": "code",
   "execution_count": 80,
   "id": "5dbe5274-cc92-4d40-bb98-820e3feb47a9",
   "metadata": {},
   "outputs": [
    {
     "ename": "ValueError",
     "evalue": "Value of 'names' is not the name of a column in 'data_frame'. Expected one of ['count'] but received: Company_Size",
     "output_type": "error",
     "traceback": [
      "\u001b[1;31m---------------------------------------------------------------------------\u001b[0m",
      "\u001b[1;31mValueError\u001b[0m                                Traceback (most recent call last)",
      "Cell \u001b[1;32mIn[80], line 3\u001b[0m\n\u001b[0;32m      1\u001b[0m value_counts\u001b[38;5;241m.\u001b[39mcolumns \u001b[38;5;241m=\u001b[39m [\u001b[38;5;124m'\u001b[39m\u001b[38;5;124mCompany_Size\u001b[39m\u001b[38;5;124m'\u001b[39m, \u001b[38;5;124m'\u001b[39m\u001b[38;5;124mCount\u001b[39m\u001b[38;5;124m'\u001b[39m]\n\u001b[1;32m----> 3\u001b[0m fig \u001b[38;5;241m=\u001b[39m px\u001b[38;5;241m.\u001b[39mpie(\n\u001b[0;32m      4\u001b[0m     value_counts,\n\u001b[0;32m      5\u001b[0m     names\u001b[38;5;241m=\u001b[39m\u001b[38;5;124m'\u001b[39m\u001b[38;5;124mCompany_Size\u001b[39m\u001b[38;5;124m'\u001b[39m,\n\u001b[0;32m      6\u001b[0m     values\u001b[38;5;241m=\u001b[39m\u001b[38;5;124m'\u001b[39m\u001b[38;5;124mCount\u001b[39m\u001b[38;5;124m'\u001b[39m,\n\u001b[0;32m      7\u001b[0m     title\u001b[38;5;241m=\u001b[39m\u001b[38;5;124m'\u001b[39m\u001b[38;5;124mDistribution of Company Sizes\u001b[39m\u001b[38;5;124m'\u001b[39m,\n\u001b[0;32m      8\u001b[0m     color\u001b[38;5;241m=\u001b[39m\u001b[38;5;124m'\u001b[39m\u001b[38;5;124mCompany_Size\u001b[39m\u001b[38;5;124m'\u001b[39m,  \u001b[38;5;66;03m# Optional: color segments by company size\u001b[39;00m\n\u001b[0;32m      9\u001b[0m     color_discrete_map\u001b[38;5;241m=\u001b[39m{\u001b[38;5;124m'\u001b[39m\u001b[38;5;124mSmall\u001b[39m\u001b[38;5;124m'\u001b[39m: \u001b[38;5;124m'\u001b[39m\u001b[38;5;124mblue\u001b[39m\u001b[38;5;124m'\u001b[39m, \u001b[38;5;124m'\u001b[39m\u001b[38;5;124mMedium\u001b[39m\u001b[38;5;124m'\u001b[39m: \u001b[38;5;124m'\u001b[39m\u001b[38;5;124mgreen\u001b[39m\u001b[38;5;124m'\u001b[39m, \u001b[38;5;124m'\u001b[39m\u001b[38;5;124mLarge\u001b[39m\u001b[38;5;124m'\u001b[39m: \u001b[38;5;124m'\u001b[39m\u001b[38;5;124mred\u001b[39m\u001b[38;5;124m'\u001b[39m}  \u001b[38;5;66;03m# Customize colors\u001b[39;00m\n\u001b[0;32m     10\u001b[0m )\n\u001b[0;32m     12\u001b[0m fig\u001b[38;5;241m.\u001b[39mupdate_layout(\n\u001b[0;32m     13\u001b[0m     title_x\u001b[38;5;241m=\u001b[39m\u001b[38;5;241m0.5\u001b[39m \n\u001b[0;32m     14\u001b[0m )\n\u001b[0;32m     16\u001b[0m fig\u001b[38;5;241m.\u001b[39mshow()\n",
      "File \u001b[1;32mC:\\ProgramData\\anaconda3\\Lib\\site-packages\\plotly\\express\\_chart_types.py:1482\u001b[0m, in \u001b[0;36mpie\u001b[1;34m(data_frame, names, values, color, facet_row, facet_col, facet_col_wrap, facet_row_spacing, facet_col_spacing, color_discrete_sequence, color_discrete_map, hover_name, hover_data, custom_data, category_orders, labels, title, template, width, height, opacity, hole)\u001b[0m\n\u001b[0;32m   1480\u001b[0m \u001b[38;5;28;01melse\u001b[39;00m:\n\u001b[0;32m   1481\u001b[0m     layout_patch \u001b[38;5;241m=\u001b[39m {}\n\u001b[1;32m-> 1482\u001b[0m \u001b[38;5;28;01mreturn\u001b[39;00m make_figure(\n\u001b[0;32m   1483\u001b[0m     args\u001b[38;5;241m=\u001b[39m\u001b[38;5;28mlocals\u001b[39m(),\n\u001b[0;32m   1484\u001b[0m     constructor\u001b[38;5;241m=\u001b[39mgo\u001b[38;5;241m.\u001b[39mPie,\n\u001b[0;32m   1485\u001b[0m     trace_patch\u001b[38;5;241m=\u001b[39m\u001b[38;5;28mdict\u001b[39m(showlegend\u001b[38;5;241m=\u001b[39m(names \u001b[38;5;129;01mis\u001b[39;00m \u001b[38;5;129;01mnot\u001b[39;00m \u001b[38;5;28;01mNone\u001b[39;00m), hole\u001b[38;5;241m=\u001b[39mhole),\n\u001b[0;32m   1486\u001b[0m     layout_patch\u001b[38;5;241m=\u001b[39mlayout_patch,\n\u001b[0;32m   1487\u001b[0m )\n",
      "File \u001b[1;32mC:\\ProgramData\\anaconda3\\Lib\\site-packages\\plotly\\express\\_core.py:2090\u001b[0m, in \u001b[0;36mmake_figure\u001b[1;34m(args, constructor, trace_patch, layout_patch)\u001b[0m\n\u001b[0;32m   2087\u001b[0m layout_patch \u001b[38;5;241m=\u001b[39m layout_patch \u001b[38;5;129;01mor\u001b[39;00m {}\n\u001b[0;32m   2088\u001b[0m apply_default_cascade(args)\n\u001b[1;32m-> 2090\u001b[0m args \u001b[38;5;241m=\u001b[39m build_dataframe(args, constructor)\n\u001b[0;32m   2091\u001b[0m \u001b[38;5;28;01mif\u001b[39;00m constructor \u001b[38;5;129;01min\u001b[39;00m [go\u001b[38;5;241m.\u001b[39mTreemap, go\u001b[38;5;241m.\u001b[39mSunburst, go\u001b[38;5;241m.\u001b[39mIcicle] \u001b[38;5;129;01mand\u001b[39;00m args[\u001b[38;5;124m\"\u001b[39m\u001b[38;5;124mpath\u001b[39m\u001b[38;5;124m\"\u001b[39m] \u001b[38;5;129;01mis\u001b[39;00m \u001b[38;5;129;01mnot\u001b[39;00m \u001b[38;5;28;01mNone\u001b[39;00m:\n\u001b[0;32m   2092\u001b[0m     args \u001b[38;5;241m=\u001b[39m process_dataframe_hierarchy(args)\n",
      "File \u001b[1;32mC:\\ProgramData\\anaconda3\\Lib\\site-packages\\plotly\\express\\_core.py:1492\u001b[0m, in \u001b[0;36mbuild_dataframe\u001b[1;34m(args, constructor)\u001b[0m\n\u001b[0;32m   1489\u001b[0m     args[\u001b[38;5;124m\"\u001b[39m\u001b[38;5;124mcolor\u001b[39m\u001b[38;5;124m\"\u001b[39m] \u001b[38;5;241m=\u001b[39m \u001b[38;5;28;01mNone\u001b[39;00m\n\u001b[0;32m   1490\u001b[0m \u001b[38;5;66;03m# now that things have been prepped, we do the systematic rewriting of `args`\u001b[39;00m\n\u001b[1;32m-> 1492\u001b[0m df_output, wide_id_vars \u001b[38;5;241m=\u001b[39m process_args_into_dataframe(\n\u001b[0;32m   1493\u001b[0m     args, wide_mode, var_name, value_name\n\u001b[0;32m   1494\u001b[0m )\n\u001b[0;32m   1496\u001b[0m \u001b[38;5;66;03m# now that `df_output` exists and `args` contains only references, we complete\u001b[39;00m\n\u001b[0;32m   1497\u001b[0m \u001b[38;5;66;03m# the special-case and wide-mode handling by further rewriting args and/or mutating\u001b[39;00m\n\u001b[0;32m   1498\u001b[0m \u001b[38;5;66;03m# df_output\u001b[39;00m\n\u001b[0;32m   1500\u001b[0m count_name \u001b[38;5;241m=\u001b[39m _escape_col_name(df_output, \u001b[38;5;124m\"\u001b[39m\u001b[38;5;124mcount\u001b[39m\u001b[38;5;124m\"\u001b[39m, [var_name, value_name])\n",
      "File \u001b[1;32mC:\\ProgramData\\anaconda3\\Lib\\site-packages\\plotly\\express\\_core.py:1213\u001b[0m, in \u001b[0;36mprocess_args_into_dataframe\u001b[1;34m(args, wide_mode, var_name, value_name)\u001b[0m\n\u001b[0;32m   1211\u001b[0m         \u001b[38;5;28;01mif\u001b[39;00m argument \u001b[38;5;241m==\u001b[39m \u001b[38;5;124m\"\u001b[39m\u001b[38;5;124mindex\u001b[39m\u001b[38;5;124m\"\u001b[39m:\n\u001b[0;32m   1212\u001b[0m             err_msg \u001b[38;5;241m+\u001b[39m\u001b[38;5;241m=\u001b[39m \u001b[38;5;124m\"\u001b[39m\u001b[38;5;130;01m\\n\u001b[39;00m\u001b[38;5;124m To use the index, pass it in directly as `df.index`.\u001b[39m\u001b[38;5;124m\"\u001b[39m\n\u001b[1;32m-> 1213\u001b[0m         \u001b[38;5;28;01mraise\u001b[39;00m \u001b[38;5;167;01mValueError\u001b[39;00m(err_msg)\n\u001b[0;32m   1214\u001b[0m \u001b[38;5;28;01melif\u001b[39;00m length \u001b[38;5;129;01mand\u001b[39;00m \u001b[38;5;28mlen\u001b[39m(df_input[argument]) \u001b[38;5;241m!=\u001b[39m length:\n\u001b[0;32m   1215\u001b[0m     \u001b[38;5;28;01mraise\u001b[39;00m \u001b[38;5;167;01mValueError\u001b[39;00m(\n\u001b[0;32m   1216\u001b[0m         \u001b[38;5;124m\"\u001b[39m\u001b[38;5;124mAll arguments should have the same length. \u001b[39m\u001b[38;5;124m\"\u001b[39m\n\u001b[0;32m   1217\u001b[0m         \u001b[38;5;124m\"\u001b[39m\u001b[38;5;124mThe length of column argument `df[\u001b[39m\u001b[38;5;132;01m%s\u001b[39;00m\u001b[38;5;124m]` is \u001b[39m\u001b[38;5;132;01m%d\u001b[39;00m\u001b[38;5;124m, whereas the \u001b[39m\u001b[38;5;124m\"\u001b[39m\n\u001b[1;32m   (...)\u001b[0m\n\u001b[0;32m   1224\u001b[0m         )\n\u001b[0;32m   1225\u001b[0m     )\n",
      "\u001b[1;31mValueError\u001b[0m: Value of 'names' is not the name of a column in 'data_frame'. Expected one of ['count'] but received: Company_Size"
     ]
    }
   ],
   "source": [
    "value_counts.columns = ['Company_Size', 'Count']\n",
    "\n",
    "fig = px.pie(\n",
    "    value_counts,\n",
    "    names='Company_Size',\n",
    "    values='Count',\n",
    "    title='Distribution of Company Sizes',\n",
    "    color='Company_Size',  # Optional: color segments by company size\n",
    "    color_discrete_map={'Small': 'blue', 'Medium': 'green', 'Large': 'red'}  # Customize colors\n",
    ")\n",
    "\n",
    "fig.update_layout(\n",
    "    title_x=0.5 \n",
    ")\n",
    "\n",
    "fig.show()"
   ]
  },
  {
   "cell_type": "markdown",
   "id": "082e4079-8c55-4a9e-89ed-586a9bb0de9b",
   "metadata": {},
   "source": [
    "The above Visualisation is an Interactive Pie Chart it allows identify the percentage distribution between Small,Large and Medium companies within the  dataset this gives a clear understanding of how companie sizes are distrubuted in the dataset."
   ]
  },
  {
   "cell_type": "markdown",
   "id": "5bfd31a2-5c27-4987-91c8-70e090f797f4",
   "metadata": {},
   "source": [
    "# Location"
   ]
  },
  {
   "cell_type": "code",
   "execution_count": null,
   "id": "19bb3213-46a8-4f15-8780-9e5c16f342d7",
   "metadata": {},
   "outputs": [],
   "source": [
    "job_Market.Location.value_counts()"
   ]
  },
  {
   "cell_type": "code",
   "execution_count": null,
   "id": "b566ee80-d516-4f93-b0be-b96c329c403e",
   "metadata": {},
   "outputs": [],
   "source": [
    "value_counts = job_Market['Location'].value_counts()\n",
    "\n",
    "plt.figure(figsize=(10, 6))\n",
    "value_counts.plot(kind='bar')\n",
    "plt.title('Location Count')\n",
    "plt.xlabel('Location')\n",
    "plt.ylabel('Count')\n",
    "plt.xticks(rotation=45, ha='right')\n",
    "plt.tight_layout()\n",
    "plt.show()"
   ]
  },
  {
   "cell_type": "markdown",
   "id": "cd10db93-5d6d-4474-a7c4-2f09a848d4af",
   "metadata": {},
   "source": [
    "The above Visualisation is a Bar Chart it allows us to  identify the Locations aligning them with to Job titles found within the dataset.This allows us to view how many individuals are employed in the various Locations."
   ]
  },
  {
   "cell_type": "markdown",
   "id": "a7e09bce-340a-42b1-89e1-bfb6ed01108f",
   "metadata": {},
   "source": [
    "# Salary "
   ]
  },
  {
   "cell_type": "code",
   "execution_count": null,
   "id": "0263c54e-be9d-4df5-8bd7-657890a52390",
   "metadata": {},
   "outputs": [],
   "source": [
    "#mean\n",
    "mean_salary = job_Market['Salary_USD'].mean()\n",
    "print('The Mean Salary in USD is:',mean_salary)\n",
    "\n",
    "#median\n",
    "median_salary = job_Market['Salary_USD'].median()\n",
    "print(\"The Median Salary in USD is:\", median_salary)\n",
    "\n",
    "#standard deviation\n",
    "std_salary = job_Market['Salary_USD'].std()\n",
    "print(\"The Standard Deviation of Salary in USD is:\", std_salary)"
   ]
  },
  {
   "cell_type": "code",
   "execution_count": null,
   "id": "a003103f-ef75-4672-96ef-05eb1ccc8a3d",
   "metadata": {},
   "outputs": [],
   "source": [
    "# Step 1: Calculate Q1, Q3, and IQR\n",
    "Q1 = job_Market['Salary_USD'].quantile(0.25)\n",
    "Q3 = job_Market['Salary_USD'].quantile(0.75)\n",
    "IQR = Q3 - Q1\n",
    "\n",
    "# Step 2: Define upper and lower bounds\n",
    "lower_bound = Q1 - 1.5 * IQR\n",
    "upper_bound = Q3 + 1.5 * IQR\n",
    "median_salary = job_Market['Salary_USD'].median()\n",
    "job_Market.loc[(job_Market['Salary_USD'] < lower_bound) | (job_Market['Salary_USD'] > upper_bound), 'Salary_USD'] = median_salary"
   ]
  },
  {
   "cell_type": "markdown",
   "id": "3360dd96-22c3-4e9d-88a9-e0a5d3765617",
   "metadata": {},
   "source": [
    "The above code allows the replacement of OUTLIERS with the Median"
   ]
  },
  {
   "cell_type": "code",
   "execution_count": 81,
   "id": "1e379392-9f6b-41b3-9bf4-d746361dd3be",
   "metadata": {},
   "outputs": [
    {
     "name": "stdout",
     "output_type": "stream",
     "text": [
      "        Salary_USD  Job_Title_Cybersecurity Analyst  Job_Title_Data Scientist  \\\n",
      "420  155209.821614                            False                     False   \n",
      "289  148467.112346                            False                      True   \n",
      "361  140475.995812                            False                     False   \n",
      "341  139078.066919                            False                     False   \n",
      "232  138448.110776                            False                     False   \n",
      "..             ...                              ...                       ...   \n",
      "431   41396.157457                            False                     False   \n",
      "282   41298.726205                            False                     False   \n",
      "425   35963.297317                            False                     False   \n",
      "384   33601.381360                             True                     False   \n",
      "182   31969.526346                            False                      True   \n",
      "\n",
      "     Job_Title_HR Manager  Job_Title_Marketing Specialist  \\\n",
      "420                 False                            True   \n",
      "289                 False                           False   \n",
      "361                 False                           False   \n",
      "341                 False                           False   \n",
      "232                 False                           False   \n",
      "..                    ...                             ...   \n",
      "431                 False                           False   \n",
      "282                 False                           False   \n",
      "425                 False                           False   \n",
      "384                 False                           False   \n",
      "182                 False                           False   \n",
      "\n",
      "     Job_Title_Operations Manager  Job_Title_Product Manager  \\\n",
      "420                         False                      False   \n",
      "289                         False                      False   \n",
      "361                         False                      False   \n",
      "341                          True                      False   \n",
      "232                         False                      False   \n",
      "..                            ...                        ...   \n",
      "431                         False                      False   \n",
      "282                         False                       True   \n",
      "425                         False                      False   \n",
      "384                         False                      False   \n",
      "182                         False                      False   \n",
      "\n",
      "     Job_Title_Sales Manager  Job_Title_Software Engineer  \\\n",
      "420                    False                        False   \n",
      "289                    False                        False   \n",
      "361                    False                        False   \n",
      "341                    False                        False   \n",
      "232                    False                         True   \n",
      "..                       ...                          ...   \n",
      "431                    False                        False   \n",
      "282                    False                        False   \n",
      "425                    False                        False   \n",
      "384                    False                        False   \n",
      "182                    False                        False   \n",
      "\n",
      "     Job_Title_UX Designer  ...  Required_Skills_JavaScript  \\\n",
      "420                  False  ...                       False   \n",
      "289                  False  ...                       False   \n",
      "361                   True  ...                       False   \n",
      "341                  False  ...                       False   \n",
      "232                  False  ...                       False   \n",
      "..                     ...  ...                         ...   \n",
      "431                   True  ...                       False   \n",
      "282                  False  ...                       False   \n",
      "425                   True  ...                       False   \n",
      "384                  False  ...                       False   \n",
      "182                  False  ...                       False   \n",
      "\n",
      "     Required_Skills_Machine Learning  Required_Skills_Marketing  \\\n",
      "420                             False                      False   \n",
      "289                             False                      False   \n",
      "361                             False                      False   \n",
      "341                             False                      False   \n",
      "232                             False                      False   \n",
      "..                                ...                        ...   \n",
      "431                             False                      False   \n",
      "282                             False                       True   \n",
      "425                             False                      False   \n",
      "384                             False                      False   \n",
      "182                             False                      False   \n",
      "\n",
      "     Required_Skills_Project Management  Required_Skills_Python  \\\n",
      "420                               False                   False   \n",
      "289                               False                    True   \n",
      "361                               False                    True   \n",
      "341                               False                   False   \n",
      "232                                True                   False   \n",
      "..                                  ...                     ...   \n",
      "431                               False                   False   \n",
      "282                               False                   False   \n",
      "425                               False                   False   \n",
      "384                               False                   False   \n",
      "182                               False                    True   \n",
      "\n",
      "     Required_Skills_Sales  Required_Skills_UX/UI Design  Remote_Friendly_Yes  \\\n",
      "420                   True                         False                 True   \n",
      "289                  False                         False                 True   \n",
      "361                  False                         False                 True   \n",
      "341                  False                         False                 True   \n",
      "232                  False                         False                 True   \n",
      "..                     ...                           ...                  ...   \n",
      "431                  False                         False                False   \n",
      "282                  False                         False                False   \n",
      "425                  False                         False                False   \n",
      "384                  False                          True                False   \n",
      "182                  False                         False                 True   \n",
      "\n",
      "     Job_Growth_Projection_Growth  Job_Growth_Projection_Stable  \n",
      "420                         False                         False  \n",
      "289                         False                          True  \n",
      "361                          True                         False  \n",
      "341                         False                         False  \n",
      "232                          True                         False  \n",
      "..                            ...                           ...  \n",
      "431                         False                         False  \n",
      "282                         False                         False  \n",
      "425                         False                         False  \n",
      "384                         False                          True  \n",
      "182                          True                         False  \n",
      "\n",
      "[500 rows x 46 columns]\n"
     ]
    }
   ],
   "source": [
    "Salary = job_Market.sort_values(by=['Salary_USD'], ascending=[False])   #T0 SEE WHICH JOBS HAVE THE HIGHEST SALARY\n",
    "print(Salary)"
   ]
  },
  {
   "cell_type": "code",
   "execution_count": 82,
   "id": "8b4caa25-014f-48e5-a885-12f902537604",
   "metadata": {},
   "outputs": [
    {
     "data": {
      "image/png": "[encoded data removed]",
      "text/plain": [
       "<Figure size 1000x600 with 2 Axes>"
      ]
     },
     "metadata": {},
     "output_type": "display_data"
    }
   ],
   "source": [
    "\n",
    "## Assuming you have already calculated mean_salary and std_salary\n",
    "# Generate data points for the normal distribution\n",
    "x = np.linspace(mean_salary - 3 * std_salary, mean_salary + 3 * std_salary, 1000)\n",
    "y = norm.pdf(x, mean_salary, std_salary)\n",
    "\n",
    "# Create a sample of individual salary values (you can replace this with your actual data)\n",
    "individual_salaries = np.random.normal(mean_salary, std_salary, 100)\n",
    "\n",
    "# Plot the normal distribution\n",
    "plt.figure(figsize=(10, 6))\n",
    "\n",
    "# Subplot 1: Normal distribution\n",
    "plt.subplot(1, 2, 1)\n",
    "plt.plot(x, y, label='Normal Distribution', color='skyblue')\n",
    "plt.axvline(mean_salary, color='red', linestyle='dashed', linewidth=2, label='Mean')\n",
    "plt.title('Normal Distribution of Salary (USD)')\n",
    "plt.xlabel('Salary (USD)')\n",
    "plt.ylabel('Density(Relative Frequency)')\n",
    "plt.legend()\n",
    "\n",
    "# Subplot 2: Bar chart of individual salaries\n",
    "plt.subplot(1, 2, 2)\n",
    "plt.hist(individual_salaries, bins=20, color='lightblue', edgecolor='black')\n",
    "plt.axvline(mean_salary, color='red', linestyle='dashed', linewidth=2, label='Mean')\n",
    "plt.title('Distribution of Individual Salaries')\n",
    "plt.xlabel('Salary (USD)')\n",
    "plt.ylabel('Count')\n",
    "\n",
    "# Show the plot\n",
    "plt.tight_layout()\n",
    "plt.show()\n"
   ]
  },
  {
   "cell_type": "code",
   "execution_count": 83,
   "id": "12e7781a-b5f4-4704-80c0-a249e6cc06da",
   "metadata": {},
   "outputs": [
    {
     "data": {
      "image/png": "[encoded data removed]",
      "text/plain": [
       "<Figure size 800x600 with 1 Axes>"
      ]
     },
     "metadata": {},
     "output_type": "display_data"
    }
   ],
   "source": [
    "plt.figure(figsize=(8, 6))\n",
    "sns.histplot(job_Market['Salary_USD'], kde=True)\n",
    "plt.title('Salary Distribution')\n",
    "plt.show()"
   ]
  },
  {
   "cell_type": "code",
   "execution_count": 84,
   "id": "c58feb82-6e0a-4a8b-9a97-af9ffb0caaa2",
   "metadata": {},
   "outputs": [
    {
     "data": {
      "application/vnd.plotly.v1+json": {
       "config": {
        "plotlyServerURL": "https://plot.ly"
       },
       "data": [
        {
         "alignmentgroup": "True",
         "bingroup": "x",
         "hovertemplate": "Salary_USD=%{x}<br>count=%{y}<extra></extra>",
         "legendgroup": "",
         "marker": {
          "color": "purple",
          "pattern": {
           "shape": ""
          }
         },
         "name": "",
         "nbinsx": 20,
         "offsetgroup": "",
         "orientation": "v",
         "showlegend": false,
         "type": "histogram",
         "x": [
          111392.16524315962,
          93792.56246610906,
          107170.26306894996,
          93027.95375786416,
          87752.92217059238,
          102825.0078665678,
          102065.72067347592,
          86607.3176180969,
          75015.86084571481,
          96834.57829480869,
          91566.97337925188,
          78902.56574458485,
          73151.99034926406,
          98209.51687788912,
          101001.90114055388,
          82799.35770690278,
          78401.25928174148,
          73394.89621925619,
          97645.09878289838,
          73920.45852718527,
          134822.69138041462,
          81794.37128058006,
          41495.71444254798,
          89396.5666674173,
          88539.33040362394,
          112234.37135048377,
          95762.52473455408,
          73323.29633120395,
          84272.16253006447,
          96548.39543301976,
          46705.714993791786,
          116772.434687809,
          73376.6022839067,
          118340.87641895234,
          97849.30282253175,
          102591.88272787948,
          112988.46872002544,
          101462.64105384996,
          103457.72432634902,
          86711.67119077238,
          97443.3736294419,
          78250.04370056515,
          83131.77800824065,
          129293.90095937817,
          73836.12829899156,
          93086.3425327256,
          92269.38073430952,
          83784.91056438402,
          100288.01873140877,
          101794.44185482766,
          71483.61633704841,
          92027.13423093104,
          68352.65322455287,
          105770.97236634602,
          93529.74620725252,
          91646.59773434176,
          103180.62697744806,
          84489.79419063198,
          108280.43918436408,
          71031.10254487729,
          118237.53037789057,
          78981.77634890293,
          56076.41864608825,
          83429.30183074536,
          81160.63605491581,
          83278.52027699928,
          94632.96030967963,
          111956.84721776543,
          86165.88172205727,
          76167.64860362199,
          67469.06375432406,
          80636.34417381912,
          52243.50321499295,
          75497.33812967277,
          114881.07791724372,
          73532.81590843154,
          102574.31721600612,
          65470.358203830205,
          125421.91798621108,
          126752.1346612942,
          101820.43113119752,
          129825.05203287044,
          97115.85949855324,
          105370.34228299111,
          115238.6775346307,
          93594.369061969,
          58952.450768298775,
          105779.26710468795,
          80562.80811133073,
          82049.4035808908,
          95957.8983295738,
          101325.6175943474,
          93002.69268012435,
          102714.59072314618,
          75862.85731879607,
          89145.92410553433,
          106981.70900901742,
          125455.82352873433,
          132528.71177946418,
          98659.53365455465,
          106800.19653491216,
          129631.5832963038,
          76583.27926533011,
          102593.99705425168,
          105366.85898972292,
          118957.22872153488,
          67257.17238927555,
          71211.88432398967,
          90427.64422209412,
          97554.55324643273,
          112457.27907467616,
          100350.87551624542,
          86971.73539779433,
          98329.2288951228,
          96020.88952548904,
          124900.32859975575,
          93313.17887137063,
          82338.33172894873,
          98992.1806014366,
          93969.70638677065,
          58580.13288650656,
          89686.95876755661,
          87985.23509187989,
          79122.56268441367,
          110711.66575245943,
          74286.40806776009,
          99112.37239049075,
          87042.86000312539,
          92153.90011293563,
          98235.72582091736,
          63848.51232217997,
          93833.21783469566,
          135778.94979426413,
          58864.73308242552,
          88847.84072568991,
          112464.7864964764,
          96032.38495907192,
          103759.33904232067,
          42486.67977814768,
          101964.987492599,
          74766.23587532803,
          96197.54569166292,
          89411.30538181018,
          135566.66058323265,
          100933.9064753175,
          87747.52341474428,
          59806.144814928906,
          92422.93803699792,
          106464.57756693644,
          88388.96216361554,
          79886.87280125119,
          78548.26672307363,
          100702.8287091064,
          105187.75878618314,
          117224.20230642238,
          70100.00213579283,
          100519.55116835234,
          87565.92091164265,
          88155.31590733438,
          98036.51708068005,
          98153.12507249897,
          100575.36211583146,
          68850.5761560838,
          75003.77185667082,
          119717.36551035367,
          85588.5506503832,
          96120.28796035792,
          111093.32624086372,
          99268.86144721638,
          100930.45261944078,
          107891.55358487512,
          47666.72478206,
          80200.99689678931,
          99372.11592999184,
          117752.88614115314,
          91321.91119311546,
          73105.67076487809,
          73638.27900778996,
          107677.22406906149,
          85644.52835216226,
          89855.99908419327,
          102300.60387544638,
          31969.52634612842,
          130007.35023016162,
          75378.52329897878,
          94838.72738947145,
          55906.05973007458,
          81549.17779189924,
          114893.76092730192,
          51676.65640668242,
          112524.00174378282,
          84526.07807535231,
          99743.28880440384,
          103150.4882697022,
          98828.42998981853,
          72700.98696738348,
          82709.01706929953,
          60768.876454983685,
          99835.9266317616,
          124041.10308031851,
          53511.18226647075,
          74767.0818772393,
          86364.49448234134,
          93466.82847427108,
          107583.52602868852,
          86956.00039284666,
          83680.825471087,
          112062.6141213948,
          103239.91134126612,
          100779.55951402197,
          92250.31423176228,
          109663.04421839718,
          76873.81217539468,
          74146.11435627844,
          104922.01973738648,
          57499.28061506184,
          91843.59019272974,
          83668.83295474976,
          61884.90538694088,
          71374.64840567471,
          87820.47815409301,
          110679.26512998046,
          76940.84017484378,
          114267.62799809988,
          91263.58455113032,
          116207.69404339942,
          77910.16782439903,
          89023.80823789263,
          97369.6720667399,
          86409.79074516977,
          109060.48294290472,
          45848.72549419468,
          138448.1107757988,
          107155.49213990325,
          86529.36341929967,
          78953.56652845311,
          72671.58777102892,
          102912.30948339474,
          109899.63337584709,
          86749.477437402,
          112139.80825957004,
          71854.79906477756,
          68323.78300026328,
          126266.82410491098,
          101822.17227077084,
          117936.96403626657,
          72921.20583224614,
          71529.49216462541,
          82827.81361084916,
          73518.82316921977,
          104107.30420456902,
          74977.47886147109,
          66566.60283865419,
          92840.30824510464,
          64200.27648349573,
          54010.72137049221,
          92665.14467722556,
          55015.5991397958,
          105505.58792590846,
          62093.32547494408,
          45186.52427160505,
          84124.06699718411,
          92891.89006592968,
          99829.50127363882,
          93440.31398031706,
          68813.74757764515,
          104261.22361853208,
          109202.77012959492,
          65884.75743088922,
          86379.87722680772,
          84511.1994578196,
          94407.63165576068,
          85901.52416451782,
          88642.44455854046,
          102836.31060483382,
          67722.93800797733,
          104747.46270521649,
          112822.65463062502,
          122682.69986977737,
          47132.65351725282,
          86341.96685769563,
          50697.98851292822,
          41298.72620454353,
          92881.86095214955,
          82016.96414299277,
          95997.01903541492,
          99722.55380174633,
          114957.91916215842,
          91078.4085061156,
          148467.11234638176,
          96128.19709970424,
          126849.58089134425,
          43343.24398951503,
          116994.7905910125,
          86384.7902040888,
          51033.05481145457,
          98410.9021845624,
          83940.88924031366,
          101601.06496896283,
          110221.52915102156,
          60216.99766476808,
          110298.37964910315,
          90129.58968441431,
          117056.82349386544,
          85897.03542004264,
          80591.82214937158,
          90541.08081377904,
          92037.21412759706,
          76744.30397016529,
          80073.90538089433,
          65462.48930972422,
          81307.09820419611,
          103526.20119995158,
          87252.91652187712,
          110181.30592094656,
          86291.41064693853,
          61369.64004553371,
          101945.49775113164,
          76527.53717933195,
          85332.65422472931,
          114751.44094968236,
          66782.59080556972,
          93294.8757492877,
          89189.63299928416,
          104018.51430874206,
          107103.06730964044,
          95276.78008497784,
          82792.507068392,
          99467.4500805192,
          116713.11794289124,
          89454.20120720599,
          84654.87771153946,
          97763.4051533598,
          90774.54040739224,
          63245.81152164402,
          94786.61600794963,
          63064.75182472472,
          97489.6129281689,
          74057.14551186866,
          90737.49608372692,
          97811.87812398472,
          139078.06691887142,
          104854.99923573848,
          117295.97619484668,
          127434.9563738785,
          99785.1183399889,
          95713.796005344,
          68665.57782347569,
          87667.40135199211,
          75538.24540728275,
          81978.82299751228,
          127413.26752384935,
          92292.4301839998,
          72482.00844567783,
          117490.66909382609,
          109105.50952474898,
          110153.06985200792,
          49877.3959379521,
          128973.41915442972,
          78829.70515812226,
          105559.0954558551,
          140475.99581234064,
          133106.65496381235,
          70448.75749054627,
          61109.65325995454,
          118606.93197695856,
          92841.11623188,
          79982.3711739584,
          102424.37093878096,
          86742.40845081118,
          104026.48274097488,
          91339.63615637466,
          104447.75856656334,
          72109.34621727222,
          118489.24026265267,
          103952.46741464877,
          102925.94738807144,
          67646.60145976013,
          123992.64833288494,
          89725.67801267463,
          104560.97724859684,
          83543.51072506783,
          95217.78129364197,
          95942.54704238808,
          33601.38135993158,
          101648.96249309662,
          129306.82923444168,
          100795.60517983914,
          70845.83502220524,
          102999.23132307774,
          111189.61060346678,
          100249.33032380774,
          88517.45787139912,
          85157.01548352139,
          85073.80489266386,
          103955.53802022424,
          61857.52009880744,
          82562.53678289187,
          121912.19646021895,
          122683.90533154352,
          60437.05824396676,
          67371.72777472783,
          84587.58840944126,
          107851.79034228704,
          53450.51291894019,
          88903.82730165044,
          80516.4168684071,
          116519.29348570466,
          56461.83052061492,
          91850.81230987245,
          82127.81125302812,
          119395.97852554575,
          101953.052927065,
          78283.6868148453,
          107067.72886658164,
          82223.42293382852,
          109986.59422479507,
          85258.46018228843,
          111093.33157537528,
          98721.639102545,
          155209.82161382848,
          88942.07989167991,
          97657.24583242898,
          80411.50516568137,
          90053.70681509557,
          35963.29731701118,
          99311.68033082064,
          116857.48425898825,
          97932.60009198709,
          63722.77084045245,
          73964.25694581997,
          41396.15745687459,
          109578.48013730848,
          69869.7341458084,
          89425.82819575544,
          86925.2485534556,
          119754.54071316532,
          91705.62635931476,
          106177.8584021202,
          100929.27528295324,
          117188.22839922798,
          85217.52610994082,
          127392.30661009034,
          50286.7568720137,
          107149.46996002473,
          72667.60782671736,
          80145.00894440095,
          101388.28533802072,
          101228.04099695486,
          102128.56027380144,
          62276.84111789524,
          118980.6046255848,
          71987.05763544649,
          74654.25819549602,
          102757.93476333655,
          84265.57650477519,
          96165.21681124983,
          46867.98606734424,
          95686.48899038463,
          94356.6375902443,
          79802.82924471433,
          48518.48080470421,
          85743.8347703679,
          89252.52280402774,
          82655.4201933901,
          53276.51071135004,
          121894.68014633832,
          77222.76944111254,
          85555.90674154198,
          41810.51357563419,
          121897.10697396414,
          80669.00136531888,
          91969.25634148406,
          112414.74889633304,
          76473.91590566748,
          109264.89974773087,
          48773.49088117717,
          101019.73315142626,
          121444.84333039304,
          78391.66305563941,
          112377.63240596798,
          126678.45304387566,
          84903.16323891962,
          83249.43428300279,
          72034.12508335392,
          79805.39689629733,
          73692.80219454759,
          72017.77803145545,
          113976.70593422712,
          74201.47949423481,
          95170.43829439246,
          90764.66870432477,
          119961.89125142244,
          79936.87535889974,
          97622.96093308643,
          105821.3940455222,
          119794.99214641162,
          79644.93309909466,
          77642.1506253524,
          68764.37892079895
         ],
         "xaxis": "x",
         "yaxis": "y"
        }
       ],
       "layout": {
        "autosize": true,
        "barmode": "relative",
        "legend": {
         "tracegroupgap": 0
        },
        "template": {
         "data": {
          "bar": [
           {
            "error_x": {
             "color": "#2a3f5f"
            },
            "error_y": {
             "color": "#2a3f5f"
            },
            "marker": {
             "line": {
              "color": "#E5ECF6",
              "width": 0.5
             },
             "pattern": {
              "fillmode": "overlay",
              "size": 10,
              "solidity": 0.2
             }
            },
            "type": "bar"
           }
          ],
          "barpolar": [
           {
            "marker": {
             "line": {
              "color": "#E5ECF6",
              "width": 0.5
             },
             "pattern": {
              "fillmode": "overlay",
              "size": 10,
              "solidity": 0.2
             }
            },
            "type": "barpolar"
           }
          ],
          "carpet": [
           {
            "aaxis": {
             "endlinecolor": "#2a3f5f",
             "gridcolor": "white",
             "linecolor": "white",
             "minorgridcolor": "white",
             "startlinecolor": "#2a3f5f"
            },
            "baxis": {
             "endlinecolor": "#2a3f5f",
             "gridcolor": "white",
             "linecolor": "white",
             "minorgridcolor": "white",
             "startlinecolor": "#2a3f5f"
            },
            "type": "carpet"
           }
          ],
          "choropleth": [
           {
            "colorbar": {
             "outlinewidth": 0,
             "ticks": ""
            },
            "type": "choropleth"
           }
          ],
          "contour": [
           {
            "colorbar": {
             "outlinewidth": 0,
             "ticks": ""
            },
            "colorscale": [
             [
              0,
              "#0d0887"
             ],
             [
              0.1111111111111111,
              "#46039f"
             ],
             [
              0.2222222222222222,
              "#7201a8"
             ],
             [
              0.3333333333333333,
              "#9c179e"
             ],
             [
              0.4444444444444444,
              "#bd3786"
             ],
             [
              0.5555555555555556,
              "#d8576b"
             ],
             [
              0.6666666666666666,
              "#ed7953"
             ],
             [
              0.7777777777777778,
              "#fb9f3a"
             ],
             [
              0.8888888888888888,
              "#fdca26"
             ],
             [
              1,
              "#f0f921"
             ]
            ],
            "type": "contour"
           }
          ],
          "contourcarpet": [
           {
            "colorbar": {
             "outlinewidth": 0,
             "ticks": ""
            },
            "type": "contourcarpet"
           }
          ],
          "heatmap": [
           {
            "colorbar": {
             "outlinewidth": 0,
             "ticks": ""
            },
            "colorscale": [
             [
              0,
              "#0d0887"
             ],
             [
              0.1111111111111111,
              "#46039f"
             ],
             [
              0.2222222222222222,
              "#7201a8"
             ],
             [
              0.3333333333333333,
              "#9c179e"
             ],
             [
              0.4444444444444444,
              "#bd3786"
             ],
             [
              0.5555555555555556,
              "#d8576b"
             ],
             [
              0.6666666666666666,
              "#ed7953"
             ],
             [
              0.7777777777777778,
              "#fb9f3a"
             ],
             [
              0.8888888888888888,
              "#fdca26"
             ],
             [
              1,
              "#f0f921"
             ]
            ],
            "type": "heatmap"
           }
          ],
          "heatmapgl": [
           {
            "colorbar": {
             "outlinewidth": 0,
             "ticks": ""
            },
            "colorscale": [
             [
              0,
              "#0d0887"
             ],
             [
              0.1111111111111111,
              "#46039f"
             ],
             [
              0.2222222222222222,
              "#7201a8"
             ],
             [
              0.3333333333333333,
              "#9c179e"
             ],
             [
              0.4444444444444444,
              "#bd3786"
             ],
             [
              0.5555555555555556,
              "#d8576b"
             ],
             [
              0.6666666666666666,
              "#ed7953"
             ],
             [
              0.7777777777777778,
              "#fb9f3a"
             ],
             [
              0.8888888888888888,
              "#fdca26"
             ],
             [
              1,
              "#f0f921"
             ]
            ],
            "type": "heatmapgl"
           }
          ],
          "histogram": [
           {
            "marker": {
             "pattern": {
              "fillmode": "overlay",
              "size": 10,
              "solidity": 0.2
             }
            },
            "type": "histogram"
           }
          ],
          "histogram2d": [
           {
            "colorbar": {
             "outlinewidth": 0,
             "ticks": ""
            },
            "colorscale": [
             [
              0,
              "#0d0887"
             ],
             [
              0.1111111111111111,
              "#46039f"
             ],
             [
              0.2222222222222222,
              "#7201a8"
             ],
             [
              0.3333333333333333,
              "#9c179e"
             ],
             [
              0.4444444444444444,
              "#bd3786"
             ],
             [
              0.5555555555555556,
              "#d8576b"
             ],
             [
              0.6666666666666666,
              "#ed7953"
             ],
             [
              0.7777777777777778,
              "#fb9f3a"
             ],
             [
              0.8888888888888888,
              "#fdca26"
             ],
             [
              1,
              "#f0f921"
             ]
            ],
            "type": "histogram2d"
           }
          ],
          "histogram2dcontour": [
           {
            "colorbar": {
             "outlinewidth": 0,
             "ticks": ""
            },
            "colorscale": [
             [
              0,
              "#0d0887"
             ],
             [
              0.1111111111111111,
              "#46039f"
             ],
             [
              0.2222222222222222,
              "#7201a8"
             ],
             [
              0.3333333333333333,
              "#9c179e"
             ],
             [
              0.4444444444444444,
              "#bd3786"
             ],
             [
              0.5555555555555556,
              "#d8576b"
             ],
             [
              0.6666666666666666,
              "#ed7953"
             ],
             [
              0.7777777777777778,
              "#fb9f3a"
             ],
             [
              0.8888888888888888,
              "#fdca26"
             ],
             [
              1,
              "#f0f921"
             ]
            ],
            "type": "histogram2dcontour"
           }
          ],
          "mesh3d": [
           {
            "colorbar": {
             "outlinewidth": 0,
             "ticks": ""
            },
            "type": "mesh3d"
           }
          ],
          "parcoords": [
           {
            "line": {
             "colorbar": {
              "outlinewidth": 0,
              "ticks": ""
             }
            },
            "type": "parcoords"
           }
          ],
          "pie": [
           {
            "automargin": true,
            "type": "pie"
           }
          ],
          "scatter": [
           {
            "fillpattern": {
             "fillmode": "overlay",
             "size": 10,
             "solidity": 0.2
            },
            "type": "scatter"
           }
          ],
          "scatter3d": [
           {
            "line": {
             "colorbar": {
              "outlinewidth": 0,
              "ticks": ""
             }
            },
            "marker": {
             "colorbar": {
              "outlinewidth": 0,
              "ticks": ""
             }
            },
            "type": "scatter3d"
           }
          ],
          "scattercarpet": [
           {
            "marker": {
             "colorbar": {
              "outlinewidth": 0,
              "ticks": ""
             }
            },
            "type": "scattercarpet"
           }
          ],
          "scattergeo": [
           {
            "marker": {
             "colorbar": {
              "outlinewidth": 0,
              "ticks": ""
             }
            },
            "type": "scattergeo"
           }
          ],
          "scattergl": [
           {
            "marker": {
             "colorbar": {
              "outlinewidth": 0,
              "ticks": ""
             }
            },
            "type": "scattergl"
           }
          ],
          "scattermapbox": [
           {
            "marker": {
             "colorbar": {
              "outlinewidth": 0,
              "ticks": ""
             }
            },
            "type": "scattermapbox"
           }
          ],
          "scatterpolar": [
           {
            "marker": {
             "colorbar": {
              "outlinewidth": 0,
              "ticks": ""
             }
            },
            "type": "scatterpolar"
           }
          ],
          "scatterpolargl": [
           {
            "marker": {
             "colorbar": {
              "outlinewidth": 0,
              "ticks": ""
             }
            },
            "type": "scatterpolargl"
           }
          ],
          "scatterternary": [
           {
            "marker": {
             "colorbar": {
              "outlinewidth": 0,
              "ticks": ""
             }
            },
            "type": "scatterternary"
           }
          ],
          "surface": [
           {
            "colorbar": {
             "outlinewidth": 0,
             "ticks": ""
            },
            "colorscale": [
             [
              0,
              "#0d0887"
             ],
             [
              0.1111111111111111,
              "#46039f"
             ],
             [
              0.2222222222222222,
              "#7201a8"
             ],
             [
              0.3333333333333333,
              "#9c179e"
             ],
             [
              0.4444444444444444,
              "#bd3786"
             ],
             [
              0.5555555555555556,
              "#d8576b"
             ],
             [
              0.6666666666666666,
              "#ed7953"
             ],
             [
              0.7777777777777778,
              "#fb9f3a"
             ],
             [
              0.8888888888888888,
              "#fdca26"
             ],
             [
              1,
              "#f0f921"
             ]
            ],
            "type": "surface"
           }
          ],
          "table": [
           {
            "cells": {
             "fill": {
              "color": "#EBF0F8"
             },
             "line": {
              "color": "white"
             }
            },
            "header": {
             "fill": {
              "color": "#C8D4E3"
             },
             "line": {
              "color": "white"
             }
            },
            "type": "table"
           }
          ]
         },
         "layout": {
          "annotationdefaults": {
           "arrowcolor": "#2a3f5f",
           "arrowhead": 0,
           "arrowwidth": 1
          },
          "autotypenumbers": "strict",
          "coloraxis": {
           "colorbar": {
            "outlinewidth": 0,
            "ticks": ""
           }
          },
          "colorscale": {
           "diverging": [
            [
             0,
             "#8e0152"
            ],
            [
             0.1,
             "#c51b7d"
            ],
            [
             0.2,
             "#de77ae"
            ],
            [
             0.3,
             "#f1b6da"
            ],
            [
             0.4,
             "#fde0ef"
            ],
            [
             0.5,
             "#f7f7f7"
            ],
            [
             0.6,
             "#e6f5d0"
            ],
            [
             0.7,
             "#b8e186"
            ],
            [
             0.8,
             "#7fbc41"
            ],
            [
             0.9,
             "#4d9221"
            ],
            [
             1,
             "#276419"
            ]
           ],
           "sequential": [
            [
             0,
             "#0d0887"
            ],
            [
             0.1111111111111111,
             "#46039f"
            ],
            [
             0.2222222222222222,
             "#7201a8"
            ],
            [
             0.3333333333333333,
             "#9c179e"
            ],
            [
             0.4444444444444444,
             "#bd3786"
            ],
            [
             0.5555555555555556,
             "#d8576b"
            ],
            [
             0.6666666666666666,
             "#ed7953"
            ],
            [
             0.7777777777777778,
             "#fb9f3a"
            ],
            [
             0.8888888888888888,
             "#fdca26"
            ],
            [
             1,
             "#f0f921"
            ]
           ],
           "sequentialminus": [
            [
             0,
             "#0d0887"
            ],
            [
             0.1111111111111111,
             "#46039f"
            ],
            [
             0.2222222222222222,
             "#7201a8"
            ],
            [
             0.3333333333333333,
             "#9c179e"
            ],
            [
             0.4444444444444444,
             "#bd3786"
            ],
            [
             0.5555555555555556,
             "#d8576b"
            ],
            [
             0.6666666666666666,
             "#ed7953"
            ],
            [
             0.7777777777777778,
             "#fb9f3a"
            ],
            [
             0.8888888888888888,
             "#fdca26"
            ],
            [
             1,
             "#f0f921"
            ]
           ]
          },
          "colorway": [
           "#636efa",
           "#EF553B",
           "#00cc96",
           "#ab63fa",
           "#FFA15A",
           "#19d3f3",
           "#FF6692",
           "#B6E880",
           "#FF97FF",
           "#FECB52"
          ],
          "font": {
           "color": "#2a3f5f"
          },
          "geo": {
           "bgcolor": "white",
           "lakecolor": "white",
           "landcolor": "#E5ECF6",
           "showlakes": true,
           "showland": true,
           "subunitcolor": "white"
          },
          "hoverlabel": {
           "align": "left"
          },
          "hovermode": "closest",
          "mapbox": {
           "style": "light"
          },
          "paper_bgcolor": "white",
          "plot_bgcolor": "#E5ECF6",
          "polar": {
           "angularaxis": {
            "gridcolor": "white",
            "linecolor": "white",
            "ticks": ""
           },
           "bgcolor": "#E5ECF6",
           "radialaxis": {
            "gridcolor": "white",
            "linecolor": "white",
            "ticks": ""
           }
          },
          "scene": {
           "xaxis": {
            "backgroundcolor": "#E5ECF6",
            "gridcolor": "white",
            "gridwidth": 2,
            "linecolor": "white",
            "showbackground": true,
            "ticks": "",
            "zerolinecolor": "white"
           },
           "yaxis": {
            "backgroundcolor": "#E5ECF6",
            "gridcolor": "white",
            "gridwidth": 2,
            "linecolor": "white",
            "showbackground": true,
            "ticks": "",
            "zerolinecolor": "white"
           },
           "zaxis": {
            "backgroundcolor": "#E5ECF6",
            "gridcolor": "white",
            "gridwidth": 2,
            "linecolor": "white",
            "showbackground": true,
            "ticks": "",
            "zerolinecolor": "white"
           }
          },
          "shapedefaults": {
           "line": {
            "color": "#2a3f5f"
           }
          },
          "ternary": {
           "aaxis": {
            "gridcolor": "white",
            "linecolor": "white",
            "ticks": ""
           },
           "baxis": {
            "gridcolor": "white",
            "linecolor": "white",
            "ticks": ""
           },
           "bgcolor": "#E5ECF6",
           "caxis": {
            "gridcolor": "white",
            "linecolor": "white",
            "ticks": ""
           }
          },
          "title": {
           "x": 0.05
          },
          "xaxis": {
           "automargin": true,
           "gridcolor": "white",
           "linecolor": "white",
           "ticks": "",
           "title": {
            "standoff": 15
           },
           "zerolinecolor": "white",
           "zerolinewidth": 2
          },
          "yaxis": {
           "automargin": true,
           "gridcolor": "white",
           "linecolor": "white",
           "ticks": "",
           "title": {
            "standoff": 15
           },
           "zerolinecolor": "white",
           "zerolinewidth": 2
          }
         }
        },
        "title": {
         "text": "Histogram of Salary [USD]"
        },
        "xaxis": {
         "anchor": "y",
         "autorange": true,
         "domain": [
          0,
          1
         ],
         "range": [
          30000,
          160000
         ],
         "ticktext": [
          "40k",
          "60k",
          "80k",
          "100k",
          "120k",
          "140k"
         ],
         "tickvals": [
          40000,
          60000,
          80000,
          100000,
          120000,
          140000
         ],
         "title": {
          "text": "Salary (USD)"
         },
         "type": "linear"
        },
        "yaxis": {
         "anchor": "x",
         "autorange": true,
         "domain": [
          0,
          1
         ],
         "range": [
          0,
          101.05263157894737
         ],
         "title": {
          "text": "Count"
         }
        }
       }
      },
      "image/png": "[encoded data removed]",
      "text/html": [
       "<div>                            <div id=\"4f2f3886-9f7f-4dbb-85cc-893564c98471\" class=\"plotly-graph-div\" style=\"height:525px; width:100%;\"></div>            <script type=\"text/javascript\">                require([\"plotly\"], function(Plotly) {                    window.PLOTLYENV=window.PLOTLYENV || {};                                    if (document.getElementById(\"4f2f3886-9f7f-4dbb-85cc-893564c98471\")) {                    Plotly.newPlot(                        \"4f2f3886-9f7f-4dbb-85cc-893564c98471\",                        [{\"alignmentgroup\":\"True\",\"bingroup\":\"x\",\"hovertemplate\":\"Salary_USD=%{x}\\u003cbr\\u003ecount=%{y}\\u003cextra\\u003e\\u003c\\u002fextra\\u003e\",\"legendgroup\":\"\",\"marker\":{\"color\":\"purple\",\"pattern\":{\"shape\":\"\"}},\"name\":\"\",\"nbinsx\":20,\"offsetgroup\":\"\",\"orientation\":\"v\",\"showlegend\":false,\"x\":[111392.16524315962,93792.56246610906,107170.26306894996,93027.95375786416,87752.92217059238,102825.0078665678,102065.72067347592,86607.3176180969,75015.86084571481,96834.57829480869,91566.97337925188,78902.56574458485,73151.99034926406,98209.51687788912,101001.90114055388,82799.35770690278,78401.25928174148,73394.89621925619,97645.09878289838,73920.45852718527,134822.69138041462,81794.37128058006,41495.71444254798,89396.5666674173,88539.33040362394,112234.37135048377,95762.52473455408,73323.29633120395,84272.16253006447,96548.39543301976,46705.714993791786,116772.434687809,73376.6022839067,118340.87641895234,97849.30282253175,102591.88272787948,112988.46872002544,101462.64105384996,103457.72432634902,86711.67119077238,97443.3736294419,78250.04370056515,83131.77800824065,129293.90095937817,73836.12829899156,93086.3425327256,92269.38073430952,83784.91056438402,100288.01873140877,101794.44185482766,71483.61633704841,92027.13423093104,68352.65322455287,105770.97236634602,93529.74620725252,91646.59773434176,103180.62697744806,84489.79419063198,108280.43918436408,71031.10254487729,118237.53037789057,78981.77634890293,56076.41864608825,83429.30183074536,81160.63605491581,83278.52027699928,94632.96030967963,111956.84721776543,86165.88172205727,76167.64860362199,67469.06375432406,80636.34417381912,52243.50321499295,75497.33812967277,114881.07791724372,73532.81590843154,102574.31721600612,65470.358203830205,125421.91798621108,126752.1346612942,101820.43113119752,129825.05203287044,97115.85949855324,105370.34228299111,115238.6775346307,93594.369061969,58952.450768298775,105779.26710468795,80562.80811133073,82049.4035808908,95957.8983295738,101325.6175943474,93002.69268012435,102714.59072314618,75862.85731879607,89145.92410553433,106981.70900901742,125455.82352873433,132528.71177946418,98659.53365455465,106800.19653491216,129631.5832963038,76583.27926533011,102593.99705425168,105366.85898972292,118957.22872153488,67257.17238927555,71211.88432398967,90427.64422209412,97554.55324643273,112457.27907467616,100350.87551624542,86971.73539779433,98329.2288951228,96020.88952548904,124900.32859975575,93313.17887137063,82338.33172894873,98992.1806014366,93969.70638677065,58580.13288650656,89686.95876755661,87985.23509187989,79122.56268441367,110711.66575245943,74286.40806776009,99112.37239049075,87042.86000312539,92153.90011293563,98235.72582091736,63848.51232217997,93833.21783469566,135778.94979426413,58864.73308242552,88847.84072568991,112464.7864964764,96032.38495907192,103759.33904232067,42486.67977814768,101964.987492599,74766.23587532803,96197.54569166292,89411.30538181018,135566.66058323265,100933.9064753175,87747.52341474428,59806.144814928906,92422.93803699792,106464.57756693644,88388.96216361554,79886.87280125119,78548.26672307363,100702.8287091064,105187.75878618314,117224.20230642238,70100.00213579283,100519.55116835234,87565.92091164265,88155.31590733438,98036.51708068005,98153.12507249897,100575.36211583146,68850.5761560838,75003.77185667082,119717.36551035367,85588.5506503832,96120.28796035792,111093.32624086372,99268.86144721638,100930.45261944078,107891.55358487512,47666.72478206,80200.99689678931,99372.11592999184,117752.88614115314,91321.91119311546,73105.67076487809,73638.27900778996,107677.22406906149,85644.52835216226,89855.99908419327,102300.60387544638,31969.52634612842,130007.35023016162,75378.52329897878,94838.72738947145,55906.05973007458,81549.17779189924,114893.76092730192,51676.65640668242,112524.00174378282,84526.07807535231,99743.28880440384,103150.4882697022,98828.42998981853,72700.98696738348,82709.01706929953,60768.876454983685,99835.9266317616,124041.10308031851,53511.18226647075,74767.0818772393,86364.49448234134,93466.82847427108,107583.52602868852,86956.00039284666,83680.825471087,112062.6141213948,103239.91134126612,100779.55951402197,92250.31423176228,109663.04421839718,76873.81217539468,74146.11435627844,104922.01973738648,57499.28061506184,91843.59019272974,83668.83295474976,61884.90538694088,71374.64840567471,87820.47815409301,110679.26512998046,76940.84017484378,114267.62799809988,91263.58455113032,116207.69404339942,77910.16782439903,89023.80823789263,97369.6720667399,86409.79074516977,109060.48294290472,45848.72549419468,138448.1107757988,107155.49213990325,86529.36341929967,78953.56652845311,72671.58777102892,102912.30948339474,109899.63337584709,86749.477437402,112139.80825957004,71854.79906477756,68323.78300026328,126266.82410491098,101822.17227077084,117936.96403626657,72921.20583224614,71529.49216462541,82827.81361084916,73518.82316921977,104107.30420456902,74977.47886147109,66566.60283865419,92840.30824510464,64200.27648349573,54010.72137049221,92665.14467722556,55015.5991397958,105505.58792590846,62093.32547494408,45186.52427160505,84124.06699718411,92891.89006592968,99829.50127363882,93440.31398031706,68813.74757764515,104261.22361853208,109202.77012959492,65884.75743088922,86379.87722680772,84511.1994578196,94407.63165576068,85901.52416451782,88642.44455854046,102836.31060483382,67722.93800797733,104747.46270521649,112822.65463062502,122682.69986977737,47132.65351725282,86341.96685769563,50697.98851292822,41298.72620454353,92881.86095214955,82016.96414299277,95997.01903541492,99722.55380174633,114957.91916215842,91078.4085061156,148467.11234638176,96128.19709970424,126849.58089134425,43343.24398951503,116994.7905910125,86384.7902040888,51033.05481145457,98410.9021845624,83940.88924031366,101601.06496896283,110221.52915102156,60216.99766476808,110298.37964910315,90129.58968441431,117056.82349386544,85897.03542004264,80591.82214937158,90541.08081377904,92037.21412759706,76744.30397016529,80073.90538089433,65462.48930972422,81307.09820419611,103526.20119995158,87252.91652187712,110181.30592094656,86291.41064693853,61369.64004553371,101945.49775113164,76527.53717933195,85332.65422472931,114751.44094968236,66782.59080556972,93294.8757492877,89189.63299928416,104018.51430874206,107103.06730964044,95276.78008497784,82792.507068392,99467.4500805192,116713.11794289124,89454.20120720599,84654.87771153946,97763.4051533598,90774.54040739224,63245.81152164402,94786.61600794963,63064.75182472472,97489.6129281689,74057.14551186866,90737.49608372692,97811.87812398472,139078.06691887142,104854.99923573848,117295.97619484668,127434.9563738785,99785.1183399889,95713.796005344,68665.57782347569,87667.40135199211,75538.24540728275,81978.82299751228,127413.26752384935,92292.4301839998,72482.00844567783,117490.66909382609,109105.50952474898,110153.06985200792,49877.3959379521,128973.41915442972,78829.70515812226,105559.0954558551,140475.99581234064,133106.65496381235,70448.75749054627,61109.65325995454,118606.93197695856,92841.11623188,79982.3711739584,102424.37093878096,86742.40845081118,104026.48274097488,91339.63615637466,104447.75856656334,72109.34621727222,118489.24026265267,103952.46741464877,102925.94738807144,67646.60145976013,123992.64833288494,89725.67801267463,104560.97724859684,83543.51072506783,95217.78129364197,95942.54704238808,33601.38135993158,101648.96249309662,129306.82923444168,100795.60517983914,70845.83502220524,102999.23132307774,111189.61060346678,100249.33032380774,88517.45787139912,85157.01548352139,85073.80489266386,103955.53802022424,61857.52009880744,82562.53678289187,121912.19646021895,122683.90533154352,60437.05824396676,67371.72777472783,84587.58840944126,107851.79034228704,53450.51291894019,88903.82730165044,80516.4168684071,116519.29348570466,56461.83052061492,91850.81230987245,82127.81125302812,119395.97852554575,101953.052927065,78283.6868148453,107067.72886658164,82223.42293382852,109986.59422479507,85258.46018228843,111093.33157537528,98721.639102545,155209.82161382848,88942.07989167991,97657.24583242898,80411.50516568137,90053.70681509557,35963.29731701118,99311.68033082064,116857.48425898825,97932.60009198709,63722.77084045245,73964.25694581997,41396.15745687459,109578.48013730848,69869.7341458084,89425.82819575544,86925.2485534556,119754.54071316532,91705.62635931476,106177.8584021202,100929.27528295324,117188.22839922798,85217.52610994082,127392.30661009034,50286.7568720137,107149.46996002473,72667.60782671736,80145.00894440095,101388.28533802072,101228.04099695486,102128.56027380144,62276.84111789524,118980.6046255848,71987.05763544649,74654.25819549602,102757.93476333655,84265.57650477519,96165.21681124983,46867.98606734424,95686.48899038463,94356.6375902443,79802.82924471433,48518.48080470421,85743.8347703679,89252.52280402774,82655.4201933901,53276.51071135004,121894.68014633832,77222.76944111254,85555.90674154198,41810.51357563419,121897.10697396414,80669.00136531888,91969.25634148406,112414.74889633304,76473.91590566748,109264.89974773087,48773.49088117717,101019.73315142626,121444.84333039304,78391.66305563941,112377.63240596798,126678.45304387566,84903.16323891962,83249.43428300279,72034.12508335392,79805.39689629733,73692.80219454759,72017.77803145545,113976.70593422712,74201.47949423481,95170.43829439246,90764.66870432477,119961.89125142244,79936.87535889974,97622.96093308643,105821.3940455222,119794.99214641162,79644.93309909466,77642.1506253524,68764.37892079895],\"xaxis\":\"x\",\"yaxis\":\"y\",\"type\":\"histogram\"}],                        {\"template\":{\"data\":{\"histogram2dcontour\":[{\"type\":\"histogram2dcontour\",\"colorbar\":{\"outlinewidth\":0,\"ticks\":\"\"},\"colorscale\":[[0.0,\"#0d0887\"],[0.1111111111111111,\"#46039f\"],[0.2222222222222222,\"#7201a8\"],[0.3333333333333333,\"#9c179e\"],[0.4444444444444444,\"#bd3786\"],[0.5555555555555556,\"#d8576b\"],[0.6666666666666666,\"#ed7953\"],[0.7777777777777778,\"#fb9f3a\"],[0.8888888888888888,\"#fdca26\"],[1.0,\"#f0f921\"]]}],\"choropleth\":[{\"type\":\"choropleth\",\"colorbar\":{\"outlinewidth\":0,\"ticks\":\"\"}}],\"histogram2d\":[{\"type\":\"histogram2d\",\"colorbar\":{\"outlinewidth\":0,\"ticks\":\"\"},\"colorscale\":[[0.0,\"#0d0887\"],[0.1111111111111111,\"#46039f\"],[0.2222222222222222,\"#7201a8\"],[0.3333333333333333,\"#9c179e\"],[0.4444444444444444,\"#bd3786\"],[0.5555555555555556,\"#d8576b\"],[0.6666666666666666,\"#ed7953\"],[0.7777777777777778,\"#fb9f3a\"],[0.8888888888888888,\"#fdca26\"],[1.0,\"#f0f921\"]]}],\"heatmap\":[{\"type\":\"heatmap\",\"colorbar\":{\"outlinewidth\":0,\"ticks\":\"\"},\"colorscale\":[[0.0,\"#0d0887\"],[0.1111111111111111,\"#46039f\"],[0.2222222222222222,\"#7201a8\"],[0.3333333333333333,\"#9c179e\"],[0.4444444444444444,\"#bd3786\"],[0.5555555555555556,\"#d8576b\"],[0.6666666666666666,\"#ed7953\"],[0.7777777777777778,\"#fb9f3a\"],[0.8888888888888888,\"#fdca26\"],[1.0,\"#f0f921\"]]}],\"heatmapgl\":[{\"type\":\"heatmapgl\",\"colorbar\":{\"outlinewidth\":0,\"ticks\":\"\"},\"colorscale\":[[0.0,\"#0d0887\"],[0.1111111111111111,\"#46039f\"],[0.2222222222222222,\"#7201a8\"],[0.3333333333333333,\"#9c179e\"],[0.4444444444444444,\"#bd3786\"],[0.5555555555555556,\"#d8576b\"],[0.6666666666666666,\"#ed7953\"],[0.7777777777777778,\"#fb9f3a\"],[0.8888888888888888,\"#fdca26\"],[1.0,\"#f0f921\"]]}],\"contourcarpet\":[{\"type\":\"contourcarpet\",\"colorbar\":{\"outlinewidth\":0,\"ticks\":\"\"}}],\"contour\":[{\"type\":\"contour\",\"colorbar\":{\"outlinewidth\":0,\"ticks\":\"\"},\"colorscale\":[[0.0,\"#0d0887\"],[0.1111111111111111,\"#46039f\"],[0.2222222222222222,\"#7201a8\"],[0.3333333333333333,\"#9c179e\"],[0.4444444444444444,\"#bd3786\"],[0.5555555555555556,\"#d8576b\"],[0.6666666666666666,\"#ed7953\"],[0.7777777777777778,\"#fb9f3a\"],[0.8888888888888888,\"#fdca26\"],[1.0,\"#f0f921\"]]}],\"surface\":[{\"type\":\"surface\",\"colorbar\":{\"outlinewidth\":0,\"ticks\":\"\"},\"colorscale\":[[0.0,\"#0d0887\"],[0.1111111111111111,\"#46039f\"],[0.2222222222222222,\"#7201a8\"],[0.3333333333333333,\"#9c179e\"],[0.4444444444444444,\"#bd3786\"],[0.5555555555555556,\"#d8576b\"],[0.6666666666666666,\"#ed7953\"],[0.7777777777777778,\"#fb9f3a\"],[0.8888888888888888,\"#fdca26\"],[1.0,\"#f0f921\"]]}],\"mesh3d\":[{\"type\":\"mesh3d\",\"colorbar\":{\"outlinewidth\":0,\"ticks\":\"\"}}],\"scatter\":[{\"fillpattern\":{\"fillmode\":\"overlay\",\"size\":10,\"solidity\":0.2},\"type\":\"scatter\"}],\"parcoords\":[{\"type\":\"parcoords\",\"line\":{\"colorbar\":{\"outlinewidth\":0,\"ticks\":\"\"}}}],\"scatterpolargl\":[{\"type\":\"scatterpolargl\",\"marker\":{\"colorbar\":{\"outlinewidth\":0,\"ticks\":\"\"}}}],\"bar\":[{\"error_x\":{\"color\":\"#2a3f5f\"},\"error_y\":{\"color\":\"#2a3f5f\"},\"marker\":{\"line\":{\"color\":\"#E5ECF6\",\"width\":0.5},\"pattern\":{\"fillmode\":\"overlay\",\"size\":10,\"solidity\":0.2}},\"type\":\"bar\"}],\"scattergeo\":[{\"type\":\"scattergeo\",\"marker\":{\"colorbar\":{\"outlinewidth\":0,\"ticks\":\"\"}}}],\"scatterpolar\":[{\"type\":\"scatterpolar\",\"marker\":{\"colorbar\":{\"outlinewidth\":0,\"ticks\":\"\"}}}],\"histogram\":[{\"marker\":{\"pattern\":{\"fillmode\":\"overlay\",\"size\":10,\"solidity\":0.2}},\"type\":\"histogram\"}],\"scattergl\":[{\"type\":\"scattergl\",\"marker\":{\"colorbar\":{\"outlinewidth\":0,\"ticks\":\"\"}}}],\"scatter3d\":[{\"type\":\"scatter3d\",\"line\":{\"colorbar\":{\"outlinewidth\":0,\"ticks\":\"\"}},\"marker\":{\"colorbar\":{\"outlinewidth\":0,\"ticks\":\"\"}}}],\"scattermapbox\":[{\"type\":\"scattermapbox\",\"marker\":{\"colorbar\":{\"outlinewidth\":0,\"ticks\":\"\"}}}],\"scatterternary\":[{\"type\":\"scatterternary\",\"marker\":{\"colorbar\":{\"outlinewidth\":0,\"ticks\":\"\"}}}],\"scattercarpet\":[{\"type\":\"scattercarpet\",\"marker\":{\"colorbar\":{\"outlinewidth\":0,\"ticks\":\"\"}}}],\"carpet\":[{\"aaxis\":{\"endlinecolor\":\"#2a3f5f\",\"gridcolor\":\"white\",\"linecolor\":\"white\",\"minorgridcolor\":\"white\",\"startlinecolor\":\"#2a3f5f\"},\"baxis\":{\"endlinecolor\":\"#2a3f5f\",\"gridcolor\":\"white\",\"linecolor\":\"white\",\"minorgridcolor\":\"white\",\"startlinecolor\":\"#2a3f5f\"},\"type\":\"carpet\"}],\"table\":[{\"cells\":{\"fill\":{\"color\":\"#EBF0F8\"},\"line\":{\"color\":\"white\"}},\"header\":{\"fill\":{\"color\":\"#C8D4E3\"},\"line\":{\"color\":\"white\"}},\"type\":\"table\"}],\"barpolar\":[{\"marker\":{\"line\":{\"color\":\"#E5ECF6\",\"width\":0.5},\"pattern\":{\"fillmode\":\"overlay\",\"size\":10,\"solidity\":0.2}},\"type\":\"barpolar\"}],\"pie\":[{\"automargin\":true,\"type\":\"pie\"}]},\"layout\":{\"autotypenumbers\":\"strict\",\"colorway\":[\"#636efa\",\"#EF553B\",\"#00cc96\",\"#ab63fa\",\"#FFA15A\",\"#19d3f3\",\"#FF6692\",\"#B6E880\",\"#FF97FF\",\"#FECB52\"],\"font\":{\"color\":\"#2a3f5f\"},\"hovermode\":\"closest\",\"hoverlabel\":{\"align\":\"left\"},\"paper_bgcolor\":\"white\",\"plot_bgcolor\":\"#E5ECF6\",\"polar\":{\"bgcolor\":\"#E5ECF6\",\"angularaxis\":{\"gridcolor\":\"white\",\"linecolor\":\"white\",\"ticks\":\"\"},\"radialaxis\":{\"gridcolor\":\"white\",\"linecolor\":\"white\",\"ticks\":\"\"}},\"ternary\":{\"bgcolor\":\"#E5ECF6\",\"aaxis\":{\"gridcolor\":\"white\",\"linecolor\":\"white\",\"ticks\":\"\"},\"baxis\":{\"gridcolor\":\"white\",\"linecolor\":\"white\",\"ticks\":\"\"},\"caxis\":{\"gridcolor\":\"white\",\"linecolor\":\"white\",\"ticks\":\"\"}},\"coloraxis\":{\"colorbar\":{\"outlinewidth\":0,\"ticks\":\"\"}},\"colorscale\":{\"sequential\":[[0.0,\"#0d0887\"],[0.1111111111111111,\"#46039f\"],[0.2222222222222222,\"#7201a8\"],[0.3333333333333333,\"#9c179e\"],[0.4444444444444444,\"#bd3786\"],[0.5555555555555556,\"#d8576b\"],[0.6666666666666666,\"#ed7953\"],[0.7777777777777778,\"#fb9f3a\"],[0.8888888888888888,\"#fdca26\"],[1.0,\"#f0f921\"]],\"sequentialminus\":[[0.0,\"#0d0887\"],[0.1111111111111111,\"#46039f\"],[0.2222222222222222,\"#7201a8\"],[0.3333333333333333,\"#9c179e\"],[0.4444444444444444,\"#bd3786\"],[0.5555555555555556,\"#d8576b\"],[0.6666666666666666,\"#ed7953\"],[0.7777777777777778,\"#fb9f3a\"],[0.8888888888888888,\"#fdca26\"],[1.0,\"#f0f921\"]],\"diverging\":[[0,\"#8e0152\"],[0.1,\"#c51b7d\"],[0.2,\"#de77ae\"],[0.3,\"#f1b6da\"],[0.4,\"#fde0ef\"],[0.5,\"#f7f7f7\"],[0.6,\"#e6f5d0\"],[0.7,\"#b8e186\"],[0.8,\"#7fbc41\"],[0.9,\"#4d9221\"],[1,\"#276419\"]]},\"xaxis\":{\"gridcolor\":\"white\",\"linecolor\":\"white\",\"ticks\":\"\",\"title\":{\"standoff\":15},\"zerolinecolor\":\"white\",\"automargin\":true,\"zerolinewidth\":2},\"yaxis\":{\"gridcolor\":\"white\",\"linecolor\":\"white\",\"ticks\":\"\",\"title\":{\"standoff\":15},\"zerolinecolor\":\"white\",\"automargin\":true,\"zerolinewidth\":2},\"scene\":{\"xaxis\":{\"backgroundcolor\":\"#E5ECF6\",\"gridcolor\":\"white\",\"linecolor\":\"white\",\"showbackground\":true,\"ticks\":\"\",\"zerolinecolor\":\"white\",\"gridwidth\":2},\"yaxis\":{\"backgroundcolor\":\"#E5ECF6\",\"gridcolor\":\"white\",\"linecolor\":\"white\",\"showbackground\":true,\"ticks\":\"\",\"zerolinecolor\":\"white\",\"gridwidth\":2},\"zaxis\":{\"backgroundcolor\":\"#E5ECF6\",\"gridcolor\":\"white\",\"linecolor\":\"white\",\"showbackground\":true,\"ticks\":\"\",\"zerolinecolor\":\"white\",\"gridwidth\":2}},\"shapedefaults\":{\"line\":{\"color\":\"#2a3f5f\"}},\"annotationdefaults\":{\"arrowcolor\":\"#2a3f5f\",\"arrowhead\":0,\"arrowwidth\":1},\"geo\":{\"bgcolor\":\"white\",\"landcolor\":\"#E5ECF6\",\"subunitcolor\":\"white\",\"showland\":true,\"showlakes\":true,\"lakecolor\":\"white\"},\"title\":{\"x\":0.05},\"mapbox\":{\"style\":\"light\"}}},\"xaxis\":{\"anchor\":\"y\",\"domain\":[0.0,1.0],\"title\":{\"text\":\"Salary (USD)\"},\"tickvals\":[40000,60000,80000,100000,120000,140000],\"ticktext\":[\"40k\",\"60k\",\"80k\",\"100k\",\"120k\",\"140k\"]},\"yaxis\":{\"anchor\":\"x\",\"domain\":[0.0,1.0],\"title\":{\"text\":\"Count\"}},\"legend\":{\"tracegroupgap\":0},\"title\":{\"text\":\"Histogram of Salary [USD]\"},\"barmode\":\"relative\"},                        {\"responsive\": true}                    ).then(function(){\n",
       "                            \n",
       "var gd = document.getElementById('4f2f3886-9f7f-4dbb-85cc-893564c98471');\n",
       "var x = new MutationObserver(function (mutations, observer) {{\n",
       "        var display = window.getComputedStyle(gd).display;\n",
       "        if (!display || display === 'none') {{\n",
       "            console.log([gd, 'removed!']);\n",
       "            Plotly.purge(gd);\n",
       "            observer.disconnect();\n",
       "        }}\n",
       "}});\n",
       "\n",
       "// Listen for the removal of the full notebook cells\n",
       "var notebookContainer = gd.closest('#notebook-container');\n",
       "if (notebookContainer) {{\n",
       "    x.observe(notebookContainer, {childList: true});\n",
       "}}\n",
       "\n",
       "// Listen for the clearing of the current output cell\n",
       "var outputEl = gd.closest('.output');\n",
       "if (outputEl) {{\n",
       "    x.observe(outputEl, {childList: true});\n",
       "}}\n",
       "\n",
       "                        })                };                });            </script>        </div>"
      ]
     },
     "metadata": {},
     "output_type": "display_data"
    }
   ],
   "source": [
    "# Assuming you have a DataFrame called 'df' with a 'Salary_USD' column\n",
    "fig = px.histogram(job_Market, x='Salary_USD', nbins=20, title='Histogram of Salary [USD]', color_discrete_sequence=['purple'])\n",
    "fig.update_xaxes(title_text='Salary (USD)')\n",
    "fig.update_yaxes(title_text='Count')\n",
    "\n",
    "# Add tick labels to the x-axis\n",
    "fig.update_xaxes(tickvals=[40000, 60000, 80000, 100000, 120000, 140000],ticktext=['40k', '60k', '80k', '100k', '120k', '140k'])\n",
    "\n",
    "fig.show()"
   ]
  },
  {
   "cell_type": "code",
   "execution_count": 85,
   "id": "79b39b0e-4bed-4acd-8d8e-9eca8b135851",
   "metadata": {},
   "outputs": [
    {
     "ename": "KeyError",
     "evalue": "'Industry'",
     "output_type": "error",
     "traceback": [
      "\u001b[1;31m---------------------------------------------------------------------------\u001b[0m",
      "\u001b[1;31mKeyError\u001b[0m                                  Traceback (most recent call last)",
      "Cell \u001b[1;32mIn[85], line 1\u001b[0m\n\u001b[1;32m----> 1\u001b[0m fig \u001b[38;5;241m=\u001b[39m px\u001b[38;5;241m.\u001b[39mbar(job_Market\u001b[38;5;241m.\u001b[39mgroupby(\u001b[38;5;124m'\u001b[39m\u001b[38;5;124mIndustry\u001b[39m\u001b[38;5;124m'\u001b[39m)[\u001b[38;5;124m'\u001b[39m\u001b[38;5;124mSalary_USD\u001b[39m\u001b[38;5;124m'\u001b[39m]\u001b[38;5;241m.\u001b[39mmean()\u001b[38;5;241m.\u001b[39mreset_index(), \n\u001b[0;32m      2\u001b[0m               x \u001b[38;5;241m=\u001b[39m \u001b[38;5;124m'\u001b[39m\u001b[38;5;124mIndustry\u001b[39m\u001b[38;5;124m'\u001b[39m, \n\u001b[0;32m      3\u001b[0m               y \u001b[38;5;241m=\u001b[39m \u001b[38;5;124m'\u001b[39m\u001b[38;5;124mSalary_USD\u001b[39m\u001b[38;5;124m'\u001b[39m, \n\u001b[0;32m      4\u001b[0m               title\u001b[38;5;241m=\u001b[39m\u001b[38;5;124m\"\u001b[39m\u001b[38;5;124mAverage Salary by Industry\u001b[39m\u001b[38;5;124m\"\u001b[39m, \n\u001b[0;32m      5\u001b[0m               labels\u001b[38;5;241m=\u001b[39m{\u001b[38;5;124m'\u001b[39m\u001b[38;5;124mSalary_USD\u001b[39m\u001b[38;5;124m'\u001b[39m: \u001b[38;5;124m'\u001b[39m\u001b[38;5;124mAverage Salary (USD)\u001b[39m\u001b[38;5;124m'\u001b[39m},\n\u001b[0;32m      6\u001b[0m               text_auto \u001b[38;5;241m=\u001b[39m \u001b[38;5;28;01mTrue\u001b[39;00m,\n\u001b[0;32m      7\u001b[0m                 color \u001b[38;5;241m=\u001b[39m \u001b[38;5;124m'\u001b[39m\u001b[38;5;124mIndustry\u001b[39m\u001b[38;5;124m'\u001b[39m)\n\u001b[0;32m      8\u001b[0m fig\u001b[38;5;241m.\u001b[39mshow()\n",
      "File \u001b[1;32mC:\\ProgramData\\anaconda3\\Lib\\site-packages\\pandas\\core\\frame.py:9183\u001b[0m, in \u001b[0;36mDataFrame.groupby\u001b[1;34m(self, by, axis, level, as_index, sort, group_keys, observed, dropna)\u001b[0m\n\u001b[0;32m   9180\u001b[0m \u001b[38;5;28;01mif\u001b[39;00m level \u001b[38;5;129;01mis\u001b[39;00m \u001b[38;5;28;01mNone\u001b[39;00m \u001b[38;5;129;01mand\u001b[39;00m by \u001b[38;5;129;01mis\u001b[39;00m \u001b[38;5;28;01mNone\u001b[39;00m:\n\u001b[0;32m   9181\u001b[0m     \u001b[38;5;28;01mraise\u001b[39;00m \u001b[38;5;167;01mTypeError\u001b[39;00m(\u001b[38;5;124m\"\u001b[39m\u001b[38;5;124mYou have to supply one of \u001b[39m\u001b[38;5;124m'\u001b[39m\u001b[38;5;124mby\u001b[39m\u001b[38;5;124m'\u001b[39m\u001b[38;5;124m and \u001b[39m\u001b[38;5;124m'\u001b[39m\u001b[38;5;124mlevel\u001b[39m\u001b[38;5;124m'\u001b[39m\u001b[38;5;124m\"\u001b[39m)\n\u001b[1;32m-> 9183\u001b[0m \u001b[38;5;28;01mreturn\u001b[39;00m DataFrameGroupBy(\n\u001b[0;32m   9184\u001b[0m     obj\u001b[38;5;241m=\u001b[39m\u001b[38;5;28mself\u001b[39m,\n\u001b[0;32m   9185\u001b[0m     keys\u001b[38;5;241m=\u001b[39mby,\n\u001b[0;32m   9186\u001b[0m     axis\u001b[38;5;241m=\u001b[39maxis,\n\u001b[0;32m   9187\u001b[0m     level\u001b[38;5;241m=\u001b[39mlevel,\n\u001b[0;32m   9188\u001b[0m     as_index\u001b[38;5;241m=\u001b[39mas_index,\n\u001b[0;32m   9189\u001b[0m     sort\u001b[38;5;241m=\u001b[39msort,\n\u001b[0;32m   9190\u001b[0m     group_keys\u001b[38;5;241m=\u001b[39mgroup_keys,\n\u001b[0;32m   9191\u001b[0m     observed\u001b[38;5;241m=\u001b[39mobserved,\n\u001b[0;32m   9192\u001b[0m     dropna\u001b[38;5;241m=\u001b[39mdropna,\n\u001b[0;32m   9193\u001b[0m )\n",
      "File \u001b[1;32mC:\\ProgramData\\anaconda3\\Lib\\site-packages\\pandas\\core\\groupby\\groupby.py:1329\u001b[0m, in \u001b[0;36mGroupBy.__init__\u001b[1;34m(self, obj, keys, axis, level, grouper, exclusions, selection, as_index, sort, group_keys, observed, dropna)\u001b[0m\n\u001b[0;32m   1326\u001b[0m \u001b[38;5;28mself\u001b[39m\u001b[38;5;241m.\u001b[39mdropna \u001b[38;5;241m=\u001b[39m dropna\n\u001b[0;32m   1328\u001b[0m \u001b[38;5;28;01mif\u001b[39;00m grouper \u001b[38;5;129;01mis\u001b[39;00m \u001b[38;5;28;01mNone\u001b[39;00m:\n\u001b[1;32m-> 1329\u001b[0m     grouper, exclusions, obj \u001b[38;5;241m=\u001b[39m get_grouper(\n\u001b[0;32m   1330\u001b[0m         obj,\n\u001b[0;32m   1331\u001b[0m         keys,\n\u001b[0;32m   1332\u001b[0m         axis\u001b[38;5;241m=\u001b[39maxis,\n\u001b[0;32m   1333\u001b[0m         level\u001b[38;5;241m=\u001b[39mlevel,\n\u001b[0;32m   1334\u001b[0m         sort\u001b[38;5;241m=\u001b[39msort,\n\u001b[0;32m   1335\u001b[0m         observed\u001b[38;5;241m=\u001b[39m\u001b[38;5;28;01mFalse\u001b[39;00m \u001b[38;5;28;01mif\u001b[39;00m observed \u001b[38;5;129;01mis\u001b[39;00m lib\u001b[38;5;241m.\u001b[39mno_default \u001b[38;5;28;01melse\u001b[39;00m observed,\n\u001b[0;32m   1336\u001b[0m         dropna\u001b[38;5;241m=\u001b[39m\u001b[38;5;28mself\u001b[39m\u001b[38;5;241m.\u001b[39mdropna,\n\u001b[0;32m   1337\u001b[0m     )\n\u001b[0;32m   1339\u001b[0m \u001b[38;5;28;01mif\u001b[39;00m observed \u001b[38;5;129;01mis\u001b[39;00m lib\u001b[38;5;241m.\u001b[39mno_default:\n\u001b[0;32m   1340\u001b[0m     \u001b[38;5;28;01mif\u001b[39;00m \u001b[38;5;28many\u001b[39m(ping\u001b[38;5;241m.\u001b[39m_passed_categorical \u001b[38;5;28;01mfor\u001b[39;00m ping \u001b[38;5;129;01min\u001b[39;00m grouper\u001b[38;5;241m.\u001b[39mgroupings):\n",
      "File \u001b[1;32mC:\\ProgramData\\anaconda3\\Lib\\site-packages\\pandas\\core\\groupby\\grouper.py:1043\u001b[0m, in \u001b[0;36mget_grouper\u001b[1;34m(obj, key, axis, level, sort, observed, validate, dropna)\u001b[0m\n\u001b[0;32m   1041\u001b[0m         in_axis, level, gpr \u001b[38;5;241m=\u001b[39m \u001b[38;5;28;01mFalse\u001b[39;00m, gpr, \u001b[38;5;28;01mNone\u001b[39;00m\n\u001b[0;32m   1042\u001b[0m     \u001b[38;5;28;01melse\u001b[39;00m:\n\u001b[1;32m-> 1043\u001b[0m         \u001b[38;5;28;01mraise\u001b[39;00m \u001b[38;5;167;01mKeyError\u001b[39;00m(gpr)\n\u001b[0;32m   1044\u001b[0m \u001b[38;5;28;01melif\u001b[39;00m \u001b[38;5;28misinstance\u001b[39m(gpr, Grouper) \u001b[38;5;129;01mand\u001b[39;00m gpr\u001b[38;5;241m.\u001b[39mkey \u001b[38;5;129;01mis\u001b[39;00m \u001b[38;5;129;01mnot\u001b[39;00m \u001b[38;5;28;01mNone\u001b[39;00m:\n\u001b[0;32m   1045\u001b[0m     \u001b[38;5;66;03m# Add key to exclusions\u001b[39;00m\n\u001b[0;32m   1046\u001b[0m     exclusions\u001b[38;5;241m.\u001b[39madd(gpr\u001b[38;5;241m.\u001b[39mkey)\n",
      "\u001b[1;31mKeyError\u001b[0m: 'Industry'"
     ]
    }
   ],
   "source": [
    "fig = px.bar(job_Market.groupby('Industry')['Salary_USD'].mean().reset_index(), \n",
    "              x = 'Industry', \n",
    "              y = 'Salary_USD', \n",
    "              title=\"Average Salary by Industry\", \n",
    "              labels={'Salary_USD': 'Average Salary (USD)'},\n",
    "              text_auto = True,\n",
    "                color = 'Industry')\n",
    "fig.show()"
   ]
  },
  {
   "cell_type": "code",
   "execution_count": null,
   "id": "21eed02a-9fab-48ed-8309-966b5c024bce",
   "metadata": {},
   "outputs": [],
   "source": [
    "fig = px.violin(job_Market, \n",
    "             x = 'Location', \n",
    "             y = 'Salary_USD', \n",
    "             title = \"Salary Distribution by Location\",\n",
    "               color = 'Location',\n",
    "               box = True,\n",
    "               points = 'all',\n",
    "               height = 800 \n",
    ")\n",
    "fig.show()"
   ]
  },
  {
   "cell_type": "markdown",
   "id": "0130e6a6-1ffd-4cc2-b102-29fe8a2a78f5",
   "metadata": {},
   "source": [
    "# AI Adoption\n"
   ]
  },
  {
   "cell_type": "code",
   "execution_count": null,
   "id": "b7355f1d-a0b3-4b59-b83a-7c457b566924",
   "metadata": {},
   "outputs": [],
   "source": [
    "value_counts=job_Market[\"AI_Adoption_Level\"].value_counts()\n",
    "value_counts"
   ]
  },
  {
   "cell_type": "code",
   "execution_count": null,
   "id": "43233e8b-a0e2-46de-9e56-23a1bd25b802",
   "metadata": {},
   "outputs": [],
   "source": [
    "colors = sns.color_palette('magma', len(value_counts))\n",
    "plt.figure(figsize=(4, 4))\n",
    "plt.pie(\n",
    "    value_counts,\n",
    "    labels=value_counts.index,\n",
    "    autopct='%1.1f%%',  \n",
    "    colors=colors,  \n",
    "    startangle=50  \n",
    ")\n",
    "plt.title('Distribution of AI Adoption Levels')\n",
    "plt.show()"
   ]
  },
  {
   "cell_type": "code",
   "execution_count": null,
   "id": "b8fc7aff-c807-4cbc-9253-1090792173d8",
   "metadata": {},
   "outputs": [],
   "source": [
    "top_n = 20 \n",
    "top_skills = job_Market['Required_Skills'].value_counts().nlargest(top_n).index\n",
    "df_top = job_Market[job_Market['Required_Skills'].isin(top_skills)]\n",
    "\n",
    "plt.figure(figsize=(10, 8))\n",
    "sns.countplot(x='Required_Skills', hue='AI_Adoption_Level', data=df_top, order=top_skills)\n",
    "plt.title(f\"Top {top_n} Skill Frequencies of AI Adoption Levels\")\n",
    "plt.xlabel(\"Count\")\n",
    "plt.ylabel(\"Required Skills\")\n",
    "plt.xticks(rotation=45, ha='right')\n",
    "plt.tight_layout()\n",
    "plt.show()"
   ]
  },
  {
   "cell_type": "markdown",
   "id": "ecb41a0e-ba95-435b-9ead-aeaf6fd9f28c",
   "metadata": {},
   "source": [
    "The above visualisation displays the following : \n",
    "\n",
    "\n",
    "**Most In-Demand Skills**: Python, Data Analysis, and Machine Learning are the most frequently required skills across the dataset, indicating their central role in jobs involving AI.\n",
    "\n",
    "**AI Adoption and Skill Frequency**: High AI adoption companies (green) require these technical skills more frequently, especially skills like Machine Learning, Python, and Data Analysis. This makes sense as these skills are crucial for developing and implementing AI systems.\n",
    "\n",
    "**Non-Technical Skills**: Interestingly, non-technical skills like Communication and Project Management are also in demand, especially in Medium and Low AI adoption levels, suggesting that these skills are still crucial even in AI-driven industries.\n",
    "\n",
    "**UX/UI Design**: This skill is highly demanded across all levels of AI adoption, highlighting its importance even in highly automated environments."
   ]
  },
  {
   "cell_type": "code",
   "execution_count": null,
   "id": "3e9c3a5c-6a8b-4f90-8f46-19ff295694cd",
   "metadata": {},
   "outputs": [],
   "source": [
    "fig = px.scatter(job_Market, x ='AI_Adoption_Level', \n",
    "                 y = 'Salary_USD', \n",
    "                 color = 'AI_Adoption_Level', \n",
    "                 title = \"Salary vs. AI Adoption Level\",\n",
    "                height = 1000\n",
    "                )\n",
    "fig.show()"
   ]
  },
  {
   "cell_type": "markdown",
   "id": "8ce8ee69-1c53-40b6-b6a1-924e900ccf88",
   "metadata": {},
   "source": [
    "The above visualisation allows the projection of AI Adpotion against with the salary this gives a summary of the different salaries paid according to the AI Adption leve"
   ]
  },
  {
   "cell_type": "code",
   "execution_count": null,
   "id": "5ef83a1c-7637-4f4a-96cb-a39f5881a8f9",
   "metadata": {},
   "outputs": [],
   "source": [
    "# 4. AI Adoption Level Impact on Remote Work\n",
    "remote_ai_adoption_crosstab = pd.crosstab(job_Market['Remote_Friendly'], job_Market['AI_Adoption_Level'])\n",
    "print(\"\\nAI Adoption Level vs Remote Work Opportunity:\")\n",
    "print(remote_ai_adoption_crosstab)\n",
    "\n",
    "# Visualization\n",
    "sns.heatmap(remote_ai_adoption_crosstab, annot=True, cmap=\"YlGnBu\")\n",
    "plt.title(\"AI Adoption Level vs Remote Work Opportunity\")\n",
    "plt.show()"
   ]
  },
  {
   "cell_type": "markdown",
   "id": "8d16cd55-742b-4d97-a13d-08bc59f74ec6",
   "metadata": {},
   "source": [
    "AI Adoption Level and Remote Work: The relationship between AI adoption level and remote work opportunity is inversely correlated. High AI adoption levels show a lower likelihood of jobs being remote-friendly (70), while low AI adoption levels correspond with a higher likelihood of remote-friendly jobs (94). This indicates that jobs with lower AI integration are more conducive to remote work.\n",
    "\n",
    "Remote-Friendly Jobs:Remote-friendly jobs tend to cluster in environments with low AI adoption, with a strong presence (94). Conversely, high AI adoption jobs show less likelihood of being remote-friendly (70), suggesting that AI-driven environments may require more on-site presence."
   ]
  },
  {
   "cell_type": "markdown",
   "id": "89a5535c-da41-4f2d-ab56-01fb8561f7a1",
   "metadata": {},
   "source": [
    "# Remote Friendly "
   ]
  },
  {
   "cell_type": "code",
   "execution_count": 89,
   "id": "0abdd46b-aea5-47b3-a0c5-16b524eb15bb",
   "metadata": {},
   "outputs": [
    {
     "ename": "KeyError",
     "evalue": "'Remote_Friendly'",
     "output_type": "error",
     "traceback": [
      "\u001b[1;31m---------------------------------------------------------------------------\u001b[0m",
      "\u001b[1;31mKeyError\u001b[0m                                  Traceback (most recent call last)",
      "File \u001b[1;32mC:\\ProgramData\\anaconda3\\Lib\\site-packages\\pandas\\core\\indexes\\base.py:3805\u001b[0m, in \u001b[0;36mIndex.get_loc\u001b[1;34m(self, key)\u001b[0m\n\u001b[0;32m   3804\u001b[0m \u001b[38;5;28;01mtry\u001b[39;00m:\n\u001b[1;32m-> 3805\u001b[0m     \u001b[38;5;28;01mreturn\u001b[39;00m \u001b[38;5;28mself\u001b[39m\u001b[38;5;241m.\u001b[39m_engine\u001b[38;5;241m.\u001b[39mget_loc(casted_key)\n\u001b[0;32m   3806\u001b[0m \u001b[38;5;28;01mexcept\u001b[39;00m \u001b[38;5;167;01mKeyError\u001b[39;00m \u001b[38;5;28;01mas\u001b[39;00m err:\n",
      "File \u001b[1;32mindex.pyx:167\u001b[0m, in \u001b[0;36mpandas._libs.index.IndexEngine.get_loc\u001b[1;34m()\u001b[0m\n",
      "File \u001b[1;32mindex.pyx:196\u001b[0m, in \u001b[0;36mpandas._libs.index.IndexEngine.get_loc\u001b[1;34m()\u001b[0m\n",
      "File \u001b[1;32mpandas\\\\_libs\\\\hashtable_class_helper.pxi:7081\u001b[0m, in \u001b[0;36mpandas._libs.hashtable.PyObjectHashTable.get_item\u001b[1;34m()\u001b[0m\n",
      "File \u001b[1;32mpandas\\\\_libs\\\\hashtable_class_helper.pxi:7089\u001b[0m, in \u001b[0;36mpandas._libs.hashtable.PyObjectHashTable.get_item\u001b[1;34m()\u001b[0m\n",
      "\u001b[1;31mKeyError\u001b[0m: 'Remote_Friendly'",
      "\nThe above exception was the direct cause of the following exception:\n",
      "\u001b[1;31mKeyError\u001b[0m                                  Traceback (most recent call last)",
      "Cell \u001b[1;32mIn[89], line 1\u001b[0m\n\u001b[1;32m----> 1\u001b[0m job_Market[\u001b[38;5;124m\"\u001b[39m\u001b[38;5;124mRemote_Friendly\u001b[39m\u001b[38;5;124m\"\u001b[39m]\u001b[38;5;241m.\u001b[39mvalue_counts()\n",
      "File \u001b[1;32mC:\\ProgramData\\anaconda3\\Lib\\site-packages\\pandas\\core\\frame.py:4102\u001b[0m, in \u001b[0;36mDataFrame.__getitem__\u001b[1;34m(self, key)\u001b[0m\n\u001b[0;32m   4100\u001b[0m \u001b[38;5;28;01mif\u001b[39;00m \u001b[38;5;28mself\u001b[39m\u001b[38;5;241m.\u001b[39mcolumns\u001b[38;5;241m.\u001b[39mnlevels \u001b[38;5;241m>\u001b[39m \u001b[38;5;241m1\u001b[39m:\n\u001b[0;32m   4101\u001b[0m     \u001b[38;5;28;01mreturn\u001b[39;00m \u001b[38;5;28mself\u001b[39m\u001b[38;5;241m.\u001b[39m_getitem_multilevel(key)\n\u001b[1;32m-> 4102\u001b[0m indexer \u001b[38;5;241m=\u001b[39m \u001b[38;5;28mself\u001b[39m\u001b[38;5;241m.\u001b[39mcolumns\u001b[38;5;241m.\u001b[39mget_loc(key)\n\u001b[0;32m   4103\u001b[0m \u001b[38;5;28;01mif\u001b[39;00m is_integer(indexer):\n\u001b[0;32m   4104\u001b[0m     indexer \u001b[38;5;241m=\u001b[39m [indexer]\n",
      "File \u001b[1;32mC:\\ProgramData\\anaconda3\\Lib\\site-packages\\pandas\\core\\indexes\\base.py:3812\u001b[0m, in \u001b[0;36mIndex.get_loc\u001b[1;34m(self, key)\u001b[0m\n\u001b[0;32m   3807\u001b[0m     \u001b[38;5;28;01mif\u001b[39;00m \u001b[38;5;28misinstance\u001b[39m(casted_key, \u001b[38;5;28mslice\u001b[39m) \u001b[38;5;129;01mor\u001b[39;00m (\n\u001b[0;32m   3808\u001b[0m         \u001b[38;5;28misinstance\u001b[39m(casted_key, abc\u001b[38;5;241m.\u001b[39mIterable)\n\u001b[0;32m   3809\u001b[0m         \u001b[38;5;129;01mand\u001b[39;00m \u001b[38;5;28many\u001b[39m(\u001b[38;5;28misinstance\u001b[39m(x, \u001b[38;5;28mslice\u001b[39m) \u001b[38;5;28;01mfor\u001b[39;00m x \u001b[38;5;129;01min\u001b[39;00m casted_key)\n\u001b[0;32m   3810\u001b[0m     ):\n\u001b[0;32m   3811\u001b[0m         \u001b[38;5;28;01mraise\u001b[39;00m InvalidIndexError(key)\n\u001b[1;32m-> 3812\u001b[0m     \u001b[38;5;28;01mraise\u001b[39;00m \u001b[38;5;167;01mKeyError\u001b[39;00m(key) \u001b[38;5;28;01mfrom\u001b[39;00m \u001b[38;5;21;01merr\u001b[39;00m\n\u001b[0;32m   3813\u001b[0m \u001b[38;5;28;01mexcept\u001b[39;00m \u001b[38;5;167;01mTypeError\u001b[39;00m:\n\u001b[0;32m   3814\u001b[0m     \u001b[38;5;66;03m# If we have a listlike key, _check_indexing_error will raise\u001b[39;00m\n\u001b[0;32m   3815\u001b[0m     \u001b[38;5;66;03m#  InvalidIndexError. Otherwise we fall through and re-raise\u001b[39;00m\n\u001b[0;32m   3816\u001b[0m     \u001b[38;5;66;03m#  the TypeError.\u001b[39;00m\n\u001b[0;32m   3817\u001b[0m     \u001b[38;5;28mself\u001b[39m\u001b[38;5;241m.\u001b[39m_check_indexing_error(key)\n",
      "\u001b[1;31mKeyError\u001b[0m: 'Remote_Friendly'"
     ]
    }
   ],
   "source": [
    "job_Market[\"Remote_Friendly\"].value_counts()"
   ]
  },
  {
   "cell_type": "code",
   "execution_count": 90,
   "id": "499921bd-fb9e-416a-92bf-1725acdc315f",
   "metadata": {},
   "outputs": [
    {
     "ename": "ValueError",
     "evalue": "Value of 'names' is not the name of a column in 'data_frame'. Expected one of ['Salary_USD', 'Job_Title_Cybersecurity Analyst', 'Job_Title_Data Scientist', 'Job_Title_HR Manager', 'Job_Title_Marketing Specialist', 'Job_Title_Operations Manager', 'Job_Title_Product Manager', 'Job_Title_Sales Manager', 'Job_Title_Software Engineer', 'Job_Title_UX Designer', 'Industry_Energy', 'Industry_Entertainment', 'Industry_Finance', 'Industry_Healthcare', 'Industry_Manufacturing', 'Industry_Retail', 'Industry_Technology', 'Industry_Telecommunications', 'Industry_Transportation', 'Company_Size_Medium', 'Company_Size_Small', 'Location_Dubai', 'Location_London', 'Location_New York', 'Location_Paris', 'Location_San Francisco', 'Location_Singapore', 'Location_Sydney', 'Location_Tokyo', 'Location_Toronto', 'AI_Adoption_Level_Low', 'AI_Adoption_Level_Medium', 'Automation_Risk_Low', 'Automation_Risk_Medium', 'Required_Skills_Cybersecurity', 'Required_Skills_Data Analysis', 'Required_Skills_JavaScript', 'Required_Skills_Machine Learning', 'Required_Skills_Marketing', 'Required_Skills_Project Management', 'Required_Skills_Python', 'Required_Skills_Sales', 'Required_Skills_UX/UI Design', 'Remote_Friendly_Yes', 'Job_Growth_Projection_Growth', 'Job_Growth_Projection_Stable'] but received: Remote_Friendly",
     "output_type": "error",
     "traceback": [
      "\u001b[1;31m---------------------------------------------------------------------------\u001b[0m",
      "\u001b[1;31mValueError\u001b[0m                                Traceback (most recent call last)",
      "Cell \u001b[1;32mIn[90], line 1\u001b[0m\n\u001b[1;32m----> 1\u001b[0m fig \u001b[38;5;241m=\u001b[39m px\u001b[38;5;241m.\u001b[39mpie(job_Market, \n\u001b[0;32m      2\u001b[0m              names \u001b[38;5;241m=\u001b[39m \u001b[38;5;124m'\u001b[39m\u001b[38;5;124mRemote_Friendly\u001b[39m\u001b[38;5;124m'\u001b[39m, \n\u001b[0;32m      3\u001b[0m              title \u001b[38;5;241m=\u001b[39m \u001b[38;5;124m\"\u001b[39m\u001b[38;5;124mRemote Friendly Jobs\u001b[39m\u001b[38;5;124m\"\u001b[39m,\n\u001b[0;32m      4\u001b[0m             hole \u001b[38;5;241m=\u001b[39m \u001b[38;5;241m0.3\u001b[39m)\n\u001b[0;32m      5\u001b[0m fig\u001b[38;5;241m.\u001b[39mshow()\n",
      "File \u001b[1;32mC:\\ProgramData\\anaconda3\\Lib\\site-packages\\plotly\\express\\_chart_types.py:1482\u001b[0m, in \u001b[0;36mpie\u001b[1;34m(data_frame, names, values, color, facet_row, facet_col, facet_col_wrap, facet_row_spacing, facet_col_spacing, color_discrete_sequence, color_discrete_map, hover_name, hover_data, custom_data, category_orders, labels, title, template, width, height, opacity, hole)\u001b[0m\n\u001b[0;32m   1480\u001b[0m \u001b[38;5;28;01melse\u001b[39;00m:\n\u001b[0;32m   1481\u001b[0m     layout_patch \u001b[38;5;241m=\u001b[39m {}\n\u001b[1;32m-> 1482\u001b[0m \u001b[38;5;28;01mreturn\u001b[39;00m make_figure(\n\u001b[0;32m   1483\u001b[0m     args\u001b[38;5;241m=\u001b[39m\u001b[38;5;28mlocals\u001b[39m(),\n\u001b[0;32m   1484\u001b[0m     constructor\u001b[38;5;241m=\u001b[39mgo\u001b[38;5;241m.\u001b[39mPie,\n\u001b[0;32m   1485\u001b[0m     trace_patch\u001b[38;5;241m=\u001b[39m\u001b[38;5;28mdict\u001b[39m(showlegend\u001b[38;5;241m=\u001b[39m(names \u001b[38;5;129;01mis\u001b[39;00m \u001b[38;5;129;01mnot\u001b[39;00m \u001b[38;5;28;01mNone\u001b[39;00m), hole\u001b[38;5;241m=\u001b[39mhole),\n\u001b[0;32m   1486\u001b[0m     layout_patch\u001b[38;5;241m=\u001b[39mlayout_patch,\n\u001b[0;32m   1487\u001b[0m )\n",
      "File \u001b[1;32mC:\\ProgramData\\anaconda3\\Lib\\site-packages\\plotly\\express\\_core.py:2090\u001b[0m, in \u001b[0;36mmake_figure\u001b[1;34m(args, constructor, trace_patch, layout_patch)\u001b[0m\n\u001b[0;32m   2087\u001b[0m layout_patch \u001b[38;5;241m=\u001b[39m layout_patch \u001b[38;5;129;01mor\u001b[39;00m {}\n\u001b[0;32m   2088\u001b[0m apply_default_cascade(args)\n\u001b[1;32m-> 2090\u001b[0m args \u001b[38;5;241m=\u001b[39m build_dataframe(args, constructor)\n\u001b[0;32m   2091\u001b[0m \u001b[38;5;28;01mif\u001b[39;00m constructor \u001b[38;5;129;01min\u001b[39;00m [go\u001b[38;5;241m.\u001b[39mTreemap, go\u001b[38;5;241m.\u001b[39mSunburst, go\u001b[38;5;241m.\u001b[39mIcicle] \u001b[38;5;129;01mand\u001b[39;00m args[\u001b[38;5;124m\"\u001b[39m\u001b[38;5;124mpath\u001b[39m\u001b[38;5;124m\"\u001b[39m] \u001b[38;5;129;01mis\u001b[39;00m \u001b[38;5;129;01mnot\u001b[39;00m \u001b[38;5;28;01mNone\u001b[39;00m:\n\u001b[0;32m   2092\u001b[0m     args \u001b[38;5;241m=\u001b[39m process_dataframe_hierarchy(args)\n",
      "File \u001b[1;32mC:\\ProgramData\\anaconda3\\Lib\\site-packages\\plotly\\express\\_core.py:1492\u001b[0m, in \u001b[0;36mbuild_dataframe\u001b[1;34m(args, constructor)\u001b[0m\n\u001b[0;32m   1489\u001b[0m     args[\u001b[38;5;124m\"\u001b[39m\u001b[38;5;124mcolor\u001b[39m\u001b[38;5;124m\"\u001b[39m] \u001b[38;5;241m=\u001b[39m \u001b[38;5;28;01mNone\u001b[39;00m\n\u001b[0;32m   1490\u001b[0m \u001b[38;5;66;03m# now that things have been prepped, we do the systematic rewriting of `args`\u001b[39;00m\n\u001b[1;32m-> 1492\u001b[0m df_output, wide_id_vars \u001b[38;5;241m=\u001b[39m process_args_into_dataframe(\n\u001b[0;32m   1493\u001b[0m     args, wide_mode, var_name, value_name\n\u001b[0;32m   1494\u001b[0m )\n\u001b[0;32m   1496\u001b[0m \u001b[38;5;66;03m# now that `df_output` exists and `args` contains only references, we complete\u001b[39;00m\n\u001b[0;32m   1497\u001b[0m \u001b[38;5;66;03m# the special-case and wide-mode handling by further rewriting args and/or mutating\u001b[39;00m\n\u001b[0;32m   1498\u001b[0m \u001b[38;5;66;03m# df_output\u001b[39;00m\n\u001b[0;32m   1500\u001b[0m count_name \u001b[38;5;241m=\u001b[39m _escape_col_name(df_output, \u001b[38;5;124m\"\u001b[39m\u001b[38;5;124mcount\u001b[39m\u001b[38;5;124m\"\u001b[39m, [var_name, value_name])\n",
      "File \u001b[1;32mC:\\ProgramData\\anaconda3\\Lib\\site-packages\\plotly\\express\\_core.py:1213\u001b[0m, in \u001b[0;36mprocess_args_into_dataframe\u001b[1;34m(args, wide_mode, var_name, value_name)\u001b[0m\n\u001b[0;32m   1211\u001b[0m         \u001b[38;5;28;01mif\u001b[39;00m argument \u001b[38;5;241m==\u001b[39m \u001b[38;5;124m\"\u001b[39m\u001b[38;5;124mindex\u001b[39m\u001b[38;5;124m\"\u001b[39m:\n\u001b[0;32m   1212\u001b[0m             err_msg \u001b[38;5;241m+\u001b[39m\u001b[38;5;241m=\u001b[39m \u001b[38;5;124m\"\u001b[39m\u001b[38;5;130;01m\\n\u001b[39;00m\u001b[38;5;124m To use the index, pass it in directly as `df.index`.\u001b[39m\u001b[38;5;124m\"\u001b[39m\n\u001b[1;32m-> 1213\u001b[0m         \u001b[38;5;28;01mraise\u001b[39;00m \u001b[38;5;167;01mValueError\u001b[39;00m(err_msg)\n\u001b[0;32m   1214\u001b[0m \u001b[38;5;28;01melif\u001b[39;00m length \u001b[38;5;129;01mand\u001b[39;00m \u001b[38;5;28mlen\u001b[39m(df_input[argument]) \u001b[38;5;241m!=\u001b[39m length:\n\u001b[0;32m   1215\u001b[0m     \u001b[38;5;28;01mraise\u001b[39;00m \u001b[38;5;167;01mValueError\u001b[39;00m(\n\u001b[0;32m   1216\u001b[0m         \u001b[38;5;124m\"\u001b[39m\u001b[38;5;124mAll arguments should have the same length. \u001b[39m\u001b[38;5;124m\"\u001b[39m\n\u001b[0;32m   1217\u001b[0m         \u001b[38;5;124m\"\u001b[39m\u001b[38;5;124mThe length of column argument `df[\u001b[39m\u001b[38;5;132;01m%s\u001b[39;00m\u001b[38;5;124m]` is \u001b[39m\u001b[38;5;132;01m%d\u001b[39;00m\u001b[38;5;124m, whereas the \u001b[39m\u001b[38;5;124m\"\u001b[39m\n\u001b[1;32m   (...)\u001b[0m\n\u001b[0;32m   1224\u001b[0m         )\n\u001b[0;32m   1225\u001b[0m     )\n",
      "\u001b[1;31mValueError\u001b[0m: Value of 'names' is not the name of a column in 'data_frame'. Expected one of ['Salary_USD', 'Job_Title_Cybersecurity Analyst', 'Job_Title_Data Scientist', 'Job_Title_HR Manager', 'Job_Title_Marketing Specialist', 'Job_Title_Operations Manager', 'Job_Title_Product Manager', 'Job_Title_Sales Manager', 'Job_Title_Software Engineer', 'Job_Title_UX Designer', 'Industry_Energy', 'Industry_Entertainment', 'Industry_Finance', 'Industry_Healthcare', 'Industry_Manufacturing', 'Industry_Retail', 'Industry_Technology', 'Industry_Telecommunications', 'Industry_Transportation', 'Company_Size_Medium', 'Company_Size_Small', 'Location_Dubai', 'Location_London', 'Location_New York', 'Location_Paris', 'Location_San Francisco', 'Location_Singapore', 'Location_Sydney', 'Location_Tokyo', 'Location_Toronto', 'AI_Adoption_Level_Low', 'AI_Adoption_Level_Medium', 'Automation_Risk_Low', 'Automation_Risk_Medium', 'Required_Skills_Cybersecurity', 'Required_Skills_Data Analysis', 'Required_Skills_JavaScript', 'Required_Skills_Machine Learning', 'Required_Skills_Marketing', 'Required_Skills_Project Management', 'Required_Skills_Python', 'Required_Skills_Sales', 'Required_Skills_UX/UI Design', 'Remote_Friendly_Yes', 'Job_Growth_Projection_Growth', 'Job_Growth_Projection_Stable'] but received: Remote_Friendly"
     ]
    }
   ],
   "source": [
    "fig = px.pie(job_Market, \n",
    "             names = 'Remote_Friendly', \n",
    "             title = \"Remote Friendly Jobs\",\n",
    "            hole = 0.3)\n",
    "fig.show()"
   ]
  },
  {
   "cell_type": "markdown",
   "id": "c1b381bb-4ed9-47e6-96aa-d1f045fa1256",
   "metadata": {},
   "source": [
    "# Required Skill"
   ]
  },
  {
   "cell_type": "code",
   "execution_count": 91,
   "id": "c0e437e5-91f0-44f4-801c-a4c0df45a87b",
   "metadata": {},
   "outputs": [
    {
     "ename": "KeyError",
     "evalue": "'Required_Skills'",
     "output_type": "error",
     "traceback": [
      "\u001b[1;31m---------------------------------------------------------------------------\u001b[0m",
      "\u001b[1;31mKeyError\u001b[0m                                  Traceback (most recent call last)",
      "File \u001b[1;32mC:\\ProgramData\\anaconda3\\Lib\\site-packages\\pandas\\core\\indexes\\base.py:3805\u001b[0m, in \u001b[0;36mIndex.get_loc\u001b[1;34m(self, key)\u001b[0m\n\u001b[0;32m   3804\u001b[0m \u001b[38;5;28;01mtry\u001b[39;00m:\n\u001b[1;32m-> 3805\u001b[0m     \u001b[38;5;28;01mreturn\u001b[39;00m \u001b[38;5;28mself\u001b[39m\u001b[38;5;241m.\u001b[39m_engine\u001b[38;5;241m.\u001b[39mget_loc(casted_key)\n\u001b[0;32m   3806\u001b[0m \u001b[38;5;28;01mexcept\u001b[39;00m \u001b[38;5;167;01mKeyError\u001b[39;00m \u001b[38;5;28;01mas\u001b[39;00m err:\n",
      "File \u001b[1;32mindex.pyx:167\u001b[0m, in \u001b[0;36mpandas._libs.index.IndexEngine.get_loc\u001b[1;34m()\u001b[0m\n",
      "File \u001b[1;32mindex.pyx:196\u001b[0m, in \u001b[0;36mpandas._libs.index.IndexEngine.get_loc\u001b[1;34m()\u001b[0m\n",
      "File \u001b[1;32mpandas\\\\_libs\\\\hashtable_class_helper.pxi:7081\u001b[0m, in \u001b[0;36mpandas._libs.hashtable.PyObjectHashTable.get_item\u001b[1;34m()\u001b[0m\n",
      "File \u001b[1;32mpandas\\\\_libs\\\\hashtable_class_helper.pxi:7089\u001b[0m, in \u001b[0;36mpandas._libs.hashtable.PyObjectHashTable.get_item\u001b[1;34m()\u001b[0m\n",
      "\u001b[1;31mKeyError\u001b[0m: 'Required_Skills'",
      "\nThe above exception was the direct cause of the following exception:\n",
      "\u001b[1;31mKeyError\u001b[0m                                  Traceback (most recent call last)",
      "Cell \u001b[1;32mIn[91], line 1\u001b[0m\n\u001b[1;32m----> 1\u001b[0m value_counts \u001b[38;5;241m=\u001b[39m job_Market[\u001b[38;5;124m'\u001b[39m\u001b[38;5;124mRequired_Skills\u001b[39m\u001b[38;5;124m'\u001b[39m]\u001b[38;5;241m.\u001b[39mvalue_counts()\u001b[38;5;241m.\u001b[39mreset_index()\n\u001b[0;32m      2\u001b[0m value_counts\n",
      "File \u001b[1;32mC:\\ProgramData\\anaconda3\\Lib\\site-packages\\pandas\\core\\frame.py:4102\u001b[0m, in \u001b[0;36mDataFrame.__getitem__\u001b[1;34m(self, key)\u001b[0m\n\u001b[0;32m   4100\u001b[0m \u001b[38;5;28;01mif\u001b[39;00m \u001b[38;5;28mself\u001b[39m\u001b[38;5;241m.\u001b[39mcolumns\u001b[38;5;241m.\u001b[39mnlevels \u001b[38;5;241m>\u001b[39m \u001b[38;5;241m1\u001b[39m:\n\u001b[0;32m   4101\u001b[0m     \u001b[38;5;28;01mreturn\u001b[39;00m \u001b[38;5;28mself\u001b[39m\u001b[38;5;241m.\u001b[39m_getitem_multilevel(key)\n\u001b[1;32m-> 4102\u001b[0m indexer \u001b[38;5;241m=\u001b[39m \u001b[38;5;28mself\u001b[39m\u001b[38;5;241m.\u001b[39mcolumns\u001b[38;5;241m.\u001b[39mget_loc(key)\n\u001b[0;32m   4103\u001b[0m \u001b[38;5;28;01mif\u001b[39;00m is_integer(indexer):\n\u001b[0;32m   4104\u001b[0m     indexer \u001b[38;5;241m=\u001b[39m [indexer]\n",
      "File \u001b[1;32mC:\\ProgramData\\anaconda3\\Lib\\site-packages\\pandas\\core\\indexes\\base.py:3812\u001b[0m, in \u001b[0;36mIndex.get_loc\u001b[1;34m(self, key)\u001b[0m\n\u001b[0;32m   3807\u001b[0m     \u001b[38;5;28;01mif\u001b[39;00m \u001b[38;5;28misinstance\u001b[39m(casted_key, \u001b[38;5;28mslice\u001b[39m) \u001b[38;5;129;01mor\u001b[39;00m (\n\u001b[0;32m   3808\u001b[0m         \u001b[38;5;28misinstance\u001b[39m(casted_key, abc\u001b[38;5;241m.\u001b[39mIterable)\n\u001b[0;32m   3809\u001b[0m         \u001b[38;5;129;01mand\u001b[39;00m \u001b[38;5;28many\u001b[39m(\u001b[38;5;28misinstance\u001b[39m(x, \u001b[38;5;28mslice\u001b[39m) \u001b[38;5;28;01mfor\u001b[39;00m x \u001b[38;5;129;01min\u001b[39;00m casted_key)\n\u001b[0;32m   3810\u001b[0m     ):\n\u001b[0;32m   3811\u001b[0m         \u001b[38;5;28;01mraise\u001b[39;00m InvalidIndexError(key)\n\u001b[1;32m-> 3812\u001b[0m     \u001b[38;5;28;01mraise\u001b[39;00m \u001b[38;5;167;01mKeyError\u001b[39;00m(key) \u001b[38;5;28;01mfrom\u001b[39;00m \u001b[38;5;21;01merr\u001b[39;00m\n\u001b[0;32m   3813\u001b[0m \u001b[38;5;28;01mexcept\u001b[39;00m \u001b[38;5;167;01mTypeError\u001b[39;00m:\n\u001b[0;32m   3814\u001b[0m     \u001b[38;5;66;03m# If we have a listlike key, _check_indexing_error will raise\u001b[39;00m\n\u001b[0;32m   3815\u001b[0m     \u001b[38;5;66;03m#  InvalidIndexError. Otherwise we fall through and re-raise\u001b[39;00m\n\u001b[0;32m   3816\u001b[0m     \u001b[38;5;66;03m#  the TypeError.\u001b[39;00m\n\u001b[0;32m   3817\u001b[0m     \u001b[38;5;28mself\u001b[39m\u001b[38;5;241m.\u001b[39m_check_indexing_error(key)\n",
      "\u001b[1;31mKeyError\u001b[0m: 'Required_Skills'"
     ]
    }
   ],
   "source": [
    "value_counts = job_Market['Required_Skills'].value_counts().reset_index()\n",
    "value_counts"
   ]
  },
  {
   "cell_type": "code",
   "execution_count": 92,
   "id": "bdfc39cc-cbf1-45cc-b27d-d935cc3ff59a",
   "metadata": {},
   "outputs": [
    {
     "ename": "ValueError",
     "evalue": "Value of 'names' is not the name of a column in 'data_frame'. Expected one of ['count'] but received: Required_Skills",
     "output_type": "error",
     "traceback": [
      "\u001b[1;31m---------------------------------------------------------------------------\u001b[0m",
      "\u001b[1;31mValueError\u001b[0m                                Traceback (most recent call last)",
      "Cell \u001b[1;32mIn[92], line 2\u001b[0m\n\u001b[0;32m      1\u001b[0m value_counts\u001b[38;5;241m.\u001b[39mcolumns \u001b[38;5;241m=\u001b[39m [\u001b[38;5;124m'\u001b[39m\u001b[38;5;124mRequired_Skills\u001b[39m\u001b[38;5;124m'\u001b[39m, \u001b[38;5;124m'\u001b[39m\u001b[38;5;124mCount\u001b[39m\u001b[38;5;124m'\u001b[39m]\n\u001b[1;32m----> 2\u001b[0m fig \u001b[38;5;241m=\u001b[39m px\u001b[38;5;241m.\u001b[39mpie(\n\u001b[0;32m      3\u001b[0m     value_counts,\n\u001b[0;32m      4\u001b[0m     names\u001b[38;5;241m=\u001b[39m\u001b[38;5;124m'\u001b[39m\u001b[38;5;124mRequired_Skills\u001b[39m\u001b[38;5;124m'\u001b[39m,\n\u001b[0;32m      5\u001b[0m     values\u001b[38;5;241m=\u001b[39m\u001b[38;5;124m'\u001b[39m\u001b[38;5;124mCount\u001b[39m\u001b[38;5;124m'\u001b[39m,\n\u001b[0;32m      6\u001b[0m     title\u001b[38;5;241m=\u001b[39m\u001b[38;5;124m'\u001b[39m\u001b[38;5;124mDistribution of Required Skills\u001b[39m\u001b[38;5;124m'\u001b[39m,\n\u001b[0;32m      7\u001b[0m     color_discrete_sequence\u001b[38;5;241m=\u001b[39mpx\u001b[38;5;241m.\u001b[39mcolors\u001b[38;5;241m.\u001b[39msequential\u001b[38;5;241m.\u001b[39mPlasma \n\u001b[0;32m      8\u001b[0m )\n\u001b[0;32m      9\u001b[0m fig\u001b[38;5;241m.\u001b[39mupdate_layout(\n\u001b[0;32m     10\u001b[0m     title_x\u001b[38;5;241m=\u001b[39m\u001b[38;5;241m0.5\u001b[39m \n\u001b[0;32m     11\u001b[0m )\n\u001b[0;32m     12\u001b[0m fig\u001b[38;5;241m.\u001b[39mshow()\n",
      "File \u001b[1;32mC:\\ProgramData\\anaconda3\\Lib\\site-packages\\plotly\\express\\_chart_types.py:1482\u001b[0m, in \u001b[0;36mpie\u001b[1;34m(data_frame, names, values, color, facet_row, facet_col, facet_col_wrap, facet_row_spacing, facet_col_spacing, color_discrete_sequence, color_discrete_map, hover_name, hover_data, custom_data, category_orders, labels, title, template, width, height, opacity, hole)\u001b[0m\n\u001b[0;32m   1480\u001b[0m \u001b[38;5;28;01melse\u001b[39;00m:\n\u001b[0;32m   1481\u001b[0m     layout_patch \u001b[38;5;241m=\u001b[39m {}\n\u001b[1;32m-> 1482\u001b[0m \u001b[38;5;28;01mreturn\u001b[39;00m make_figure(\n\u001b[0;32m   1483\u001b[0m     args\u001b[38;5;241m=\u001b[39m\u001b[38;5;28mlocals\u001b[39m(),\n\u001b[0;32m   1484\u001b[0m     constructor\u001b[38;5;241m=\u001b[39mgo\u001b[38;5;241m.\u001b[39mPie,\n\u001b[0;32m   1485\u001b[0m     trace_patch\u001b[38;5;241m=\u001b[39m\u001b[38;5;28mdict\u001b[39m(showlegend\u001b[38;5;241m=\u001b[39m(names \u001b[38;5;129;01mis\u001b[39;00m \u001b[38;5;129;01mnot\u001b[39;00m \u001b[38;5;28;01mNone\u001b[39;00m), hole\u001b[38;5;241m=\u001b[39mhole),\n\u001b[0;32m   1486\u001b[0m     layout_patch\u001b[38;5;241m=\u001b[39mlayout_patch,\n\u001b[0;32m   1487\u001b[0m )\n",
      "File \u001b[1;32mC:\\ProgramData\\anaconda3\\Lib\\site-packages\\plotly\\express\\_core.py:2090\u001b[0m, in \u001b[0;36mmake_figure\u001b[1;34m(args, constructor, trace_patch, layout_patch)\u001b[0m\n\u001b[0;32m   2087\u001b[0m layout_patch \u001b[38;5;241m=\u001b[39m layout_patch \u001b[38;5;129;01mor\u001b[39;00m {}\n\u001b[0;32m   2088\u001b[0m apply_default_cascade(args)\n\u001b[1;32m-> 2090\u001b[0m args \u001b[38;5;241m=\u001b[39m build_dataframe(args, constructor)\n\u001b[0;32m   2091\u001b[0m \u001b[38;5;28;01mif\u001b[39;00m constructor \u001b[38;5;129;01min\u001b[39;00m [go\u001b[38;5;241m.\u001b[39mTreemap, go\u001b[38;5;241m.\u001b[39mSunburst, go\u001b[38;5;241m.\u001b[39mIcicle] \u001b[38;5;129;01mand\u001b[39;00m args[\u001b[38;5;124m\"\u001b[39m\u001b[38;5;124mpath\u001b[39m\u001b[38;5;124m\"\u001b[39m] \u001b[38;5;129;01mis\u001b[39;00m \u001b[38;5;129;01mnot\u001b[39;00m \u001b[38;5;28;01mNone\u001b[39;00m:\n\u001b[0;32m   2092\u001b[0m     args \u001b[38;5;241m=\u001b[39m process_dataframe_hierarchy(args)\n",
      "File \u001b[1;32mC:\\ProgramData\\anaconda3\\Lib\\site-packages\\plotly\\express\\_core.py:1492\u001b[0m, in \u001b[0;36mbuild_dataframe\u001b[1;34m(args, constructor)\u001b[0m\n\u001b[0;32m   1489\u001b[0m     args[\u001b[38;5;124m\"\u001b[39m\u001b[38;5;124mcolor\u001b[39m\u001b[38;5;124m\"\u001b[39m] \u001b[38;5;241m=\u001b[39m \u001b[38;5;28;01mNone\u001b[39;00m\n\u001b[0;32m   1490\u001b[0m \u001b[38;5;66;03m# now that things have been prepped, we do the systematic rewriting of `args`\u001b[39;00m\n\u001b[1;32m-> 1492\u001b[0m df_output, wide_id_vars \u001b[38;5;241m=\u001b[39m process_args_into_dataframe(\n\u001b[0;32m   1493\u001b[0m     args, wide_mode, var_name, value_name\n\u001b[0;32m   1494\u001b[0m )\n\u001b[0;32m   1496\u001b[0m \u001b[38;5;66;03m# now that `df_output` exists and `args` contains only references, we complete\u001b[39;00m\n\u001b[0;32m   1497\u001b[0m \u001b[38;5;66;03m# the special-case and wide-mode handling by further rewriting args and/or mutating\u001b[39;00m\n\u001b[0;32m   1498\u001b[0m \u001b[38;5;66;03m# df_output\u001b[39;00m\n\u001b[0;32m   1500\u001b[0m count_name \u001b[38;5;241m=\u001b[39m _escape_col_name(df_output, \u001b[38;5;124m\"\u001b[39m\u001b[38;5;124mcount\u001b[39m\u001b[38;5;124m\"\u001b[39m, [var_name, value_name])\n",
      "File \u001b[1;32mC:\\ProgramData\\anaconda3\\Lib\\site-packages\\plotly\\express\\_core.py:1213\u001b[0m, in \u001b[0;36mprocess_args_into_dataframe\u001b[1;34m(args, wide_mode, var_name, value_name)\u001b[0m\n\u001b[0;32m   1211\u001b[0m         \u001b[38;5;28;01mif\u001b[39;00m argument \u001b[38;5;241m==\u001b[39m \u001b[38;5;124m\"\u001b[39m\u001b[38;5;124mindex\u001b[39m\u001b[38;5;124m\"\u001b[39m:\n\u001b[0;32m   1212\u001b[0m             err_msg \u001b[38;5;241m+\u001b[39m\u001b[38;5;241m=\u001b[39m \u001b[38;5;124m\"\u001b[39m\u001b[38;5;130;01m\\n\u001b[39;00m\u001b[38;5;124m To use the index, pass it in directly as `df.index`.\u001b[39m\u001b[38;5;124m\"\u001b[39m\n\u001b[1;32m-> 1213\u001b[0m         \u001b[38;5;28;01mraise\u001b[39;00m \u001b[38;5;167;01mValueError\u001b[39;00m(err_msg)\n\u001b[0;32m   1214\u001b[0m \u001b[38;5;28;01melif\u001b[39;00m length \u001b[38;5;129;01mand\u001b[39;00m \u001b[38;5;28mlen\u001b[39m(df_input[argument]) \u001b[38;5;241m!=\u001b[39m length:\n\u001b[0;32m   1215\u001b[0m     \u001b[38;5;28;01mraise\u001b[39;00m \u001b[38;5;167;01mValueError\u001b[39;00m(\n\u001b[0;32m   1216\u001b[0m         \u001b[38;5;124m\"\u001b[39m\u001b[38;5;124mAll arguments should have the same length. \u001b[39m\u001b[38;5;124m\"\u001b[39m\n\u001b[0;32m   1217\u001b[0m         \u001b[38;5;124m\"\u001b[39m\u001b[38;5;124mThe length of column argument `df[\u001b[39m\u001b[38;5;132;01m%s\u001b[39;00m\u001b[38;5;124m]` is \u001b[39m\u001b[38;5;132;01m%d\u001b[39;00m\u001b[38;5;124m, whereas the \u001b[39m\u001b[38;5;124m\"\u001b[39m\n\u001b[1;32m   (...)\u001b[0m\n\u001b[0;32m   1224\u001b[0m         )\n\u001b[0;32m   1225\u001b[0m     )\n",
      "\u001b[1;31mValueError\u001b[0m: Value of 'names' is not the name of a column in 'data_frame'. Expected one of ['count'] but received: Required_Skills"
     ]
    }
   ],
   "source": [
    "value_counts.columns = ['Required_Skills', 'Count']\n",
    "fig = px.pie(\n",
    "    value_counts,\n",
    "    names='Required_Skills',\n",
    "    values='Count',\n",
    "    title='Distribution of Required Skills',\n",
    "    color_discrete_sequence=px.colors.sequential.Plasma \n",
    ")\n",
    "fig.update_layout(\n",
    "    title_x=0.5 \n",
    ")\n",
    "fig.show()"
   ]
  },
  {
   "cell_type": "markdown",
   "id": "e684f88d-01d3-4c3e-9d82-62d24679c534",
   "metadata": {},
   "source": [
    "# Industry"
   ]
  },
  {
   "cell_type": "code",
   "execution_count": 93,
   "id": "1f3c1df9-3584-43ec-879a-346e9fb0a75d",
   "metadata": {},
   "outputs": [
    {
     "ename": "AttributeError",
     "evalue": "'DataFrame' object has no attribute 'Industry'",
     "output_type": "error",
     "traceback": [
      "\u001b[1;31m---------------------------------------------------------------------------\u001b[0m",
      "\u001b[1;31mAttributeError\u001b[0m                            Traceback (most recent call last)",
      "\u001b[1;32m~\\AppData\\Local\\Temp\\ipykernel_15292\\2702179627.py\u001b[0m in \u001b[0;36m?\u001b[1;34m()\u001b[0m\n\u001b[1;32m----> 1\u001b[1;33m \u001b[0mvalue_counts\u001b[0m\u001b[1;33m=\u001b[0m\u001b[0mjob_Market\u001b[0m\u001b[1;33m.\u001b[0m\u001b[0mIndustry\u001b[0m\u001b[1;33m.\u001b[0m\u001b[0mvalue_counts\u001b[0m\u001b[1;33m(\u001b[0m\u001b[1;33m)\u001b[0m\u001b[1;33m\u001b[0m\u001b[1;33m\u001b[0m\u001b[0m\n\u001b[0m\u001b[0;32m      2\u001b[0m \u001b[0mvalue_counts\u001b[0m\u001b[1;33m\u001b[0m\u001b[1;33m\u001b[0m\u001b[0m\n",
      "\u001b[1;32mC:\\ProgramData\\anaconda3\\Lib\\site-packages\\pandas\\core\\generic.py\u001b[0m in \u001b[0;36m?\u001b[1;34m(self, name)\u001b[0m\n\u001b[0;32m   6295\u001b[0m             \u001b[1;32mand\u001b[0m \u001b[0mname\u001b[0m \u001b[1;32mnot\u001b[0m \u001b[1;32min\u001b[0m \u001b[0mself\u001b[0m\u001b[1;33m.\u001b[0m\u001b[0m_accessors\u001b[0m\u001b[1;33m\u001b[0m\u001b[1;33m\u001b[0m\u001b[0m\n\u001b[0;32m   6296\u001b[0m             \u001b[1;32mand\u001b[0m \u001b[0mself\u001b[0m\u001b[1;33m.\u001b[0m\u001b[0m_info_axis\u001b[0m\u001b[1;33m.\u001b[0m\u001b[0m_can_hold_identifiers_and_holds_name\u001b[0m\u001b[1;33m(\u001b[0m\u001b[0mname\u001b[0m\u001b[1;33m)\u001b[0m\u001b[1;33m\u001b[0m\u001b[1;33m\u001b[0m\u001b[0m\n\u001b[0;32m   6297\u001b[0m         \u001b[1;33m)\u001b[0m\u001b[1;33m:\u001b[0m\u001b[1;33m\u001b[0m\u001b[1;33m\u001b[0m\u001b[0m\n\u001b[0;32m   6298\u001b[0m             \u001b[1;32mreturn\u001b[0m \u001b[0mself\u001b[0m\u001b[1;33m[\u001b[0m\u001b[0mname\u001b[0m\u001b[1;33m]\u001b[0m\u001b[1;33m\u001b[0m\u001b[1;33m\u001b[0m\u001b[0m\n\u001b[1;32m-> 6299\u001b[1;33m         \u001b[1;32mreturn\u001b[0m \u001b[0mobject\u001b[0m\u001b[1;33m.\u001b[0m\u001b[0m__getattribute__\u001b[0m\u001b[1;33m(\u001b[0m\u001b[0mself\u001b[0m\u001b[1;33m,\u001b[0m \u001b[0mname\u001b[0m\u001b[1;33m)\u001b[0m\u001b[1;33m\u001b[0m\u001b[1;33m\u001b[0m\u001b[0m\n\u001b[0m",
      "\u001b[1;31mAttributeError\u001b[0m: 'DataFrame' object has no attribute 'Industry'"
     ]
    }
   ],
   "source": [
    "value_counts=job_Market.Industry.value_counts()\n",
    "value_counts"
   ]
  },
  {
   "cell_type": "code",
   "execution_count": 94,
   "id": "ad6ed0ba-b0df-4978-905e-b17e133d0117",
   "metadata": {},
   "outputs": [
    {
     "data": {
      "application/vnd.plotly.v1+json": {
       "config": {
        "plotlyServerURL": "https://plot.ly"
       },
       "data": [
        {
         "alignmentgroup": "True",
         "hovertemplate": "Count=%{marker.color}<br>Industry=%{y}<extra></extra>",
         "legendgroup": "",
         "marker": {
          "color": [
           169,
           169,
           162
          ],
          "coloraxis": "coloraxis",
          "pattern": {
           "shape": ""
          }
         },
         "name": "",
         "offsetgroup": "",
         "orientation": "h",
         "showlegend": false,
         "textposition": "auto",
         "type": "bar",
         "x": [
          169,
          169,
          162
         ],
         "xaxis": "x",
         "y": [
          "Growth",
          "Decline",
          "Stable"
         ],
         "yaxis": "y"
        }
       ],
       "layout": {
        "autosize": true,
        "barmode": "relative",
        "coloraxis": {
         "colorbar": {
          "title": {
           "text": "Count"
          }
         },
         "colorscale": [
          [
           0,
           "#0d0887"
          ],
          [
           0.1111111111111111,
           "#46039f"
          ],
          [
           0.2222222222222222,
           "#7201a8"
          ],
          [
           0.3333333333333333,
           "#9c179e"
          ],
          [
           0.4444444444444444,
           "#bd3786"
          ],
          [
           0.5555555555555556,
           "#d8576b"
          ],
          [
           0.6666666666666666,
           "#ed7953"
          ],
          [
           0.7777777777777778,
           "#fb9f3a"
          ],
          [
           0.8888888888888888,
           "#fdca26"
          ],
          [
           1,
           "#f0f921"
          ]
         ]
        },
        "legend": {
         "tracegroupgap": 0
        },
        "template": {
         "data": {
          "bar": [
           {
            "error_x": {
             "color": "#2a3f5f"
            },
            "error_y": {
             "color": "#2a3f5f"
            },
            "marker": {
             "line": {
              "color": "#E5ECF6",
              "width": 0.5
             },
             "pattern": {
              "fillmode": "overlay",
              "size": 10,
              "solidity": 0.2
             }
            },
            "type": "bar"
           }
          ],
          "barpolar": [
           {
            "marker": {
             "line": {
              "color": "#E5ECF6",
              "width": 0.5
             },
             "pattern": {
              "fillmode": "overlay",
              "size": 10,
              "solidity": 0.2
             }
            },
            "type": "barpolar"
           }
          ],
          "carpet": [
           {
            "aaxis": {
             "endlinecolor": "#2a3f5f",
             "gridcolor": "white",
             "linecolor": "white",
             "minorgridcolor": "white",
             "startlinecolor": "#2a3f5f"
            },
            "baxis": {
             "endlinecolor": "#2a3f5f",
             "gridcolor": "white",
             "linecolor": "white",
             "minorgridcolor": "white",
             "startlinecolor": "#2a3f5f"
            },
            "type": "carpet"
           }
          ],
          "choropleth": [
           {
            "colorbar": {
             "outlinewidth": 0,
             "ticks": ""
            },
            "type": "choropleth"
           }
          ],
          "contour": [
           {
            "colorbar": {
             "outlinewidth": 0,
             "ticks": ""
            },
            "colorscale": [
             [
              0,
              "#0d0887"
             ],
             [
              0.1111111111111111,
              "#46039f"
             ],
             [
              0.2222222222222222,
              "#7201a8"
             ],
             [
              0.3333333333333333,
              "#9c179e"
             ],
             [
              0.4444444444444444,
              "#bd3786"
             ],
             [
              0.5555555555555556,
              "#d8576b"
             ],
             [
              0.6666666666666666,
              "#ed7953"
             ],
             [
              0.7777777777777778,
              "#fb9f3a"
             ],
             [
              0.8888888888888888,
              "#fdca26"
             ],
             [
              1,
              "#f0f921"
             ]
            ],
            "type": "contour"
           }
          ],
          "contourcarpet": [
           {
            "colorbar": {
             "outlinewidth": 0,
             "ticks": ""
            },
            "type": "contourcarpet"
           }
          ],
          "heatmap": [
           {
            "colorbar": {
             "outlinewidth": 0,
             "ticks": ""
            },
            "colorscale": [
             [
              0,
              "#0d0887"
             ],
             [
              0.1111111111111111,
              "#46039f"
             ],
             [
              0.2222222222222222,
              "#7201a8"
             ],
             [
              0.3333333333333333,
              "#9c179e"
             ],
             [
              0.4444444444444444,
              "#bd3786"
             ],
             [
              0.5555555555555556,
              "#d8576b"
             ],
             [
              0.6666666666666666,
              "#ed7953"
             ],
             [
              0.7777777777777778,
              "#fb9f3a"
             ],
             [
              0.8888888888888888,
              "#fdca26"
             ],
             [
              1,
              "#f0f921"
             ]
            ],
            "type": "heatmap"
           }
          ],
          "heatmapgl": [
           {
            "colorbar": {
             "outlinewidth": 0,
             "ticks": ""
            },
            "colorscale": [
             [
              0,
              "#0d0887"
             ],
             [
              0.1111111111111111,
              "#46039f"
             ],
             [
              0.2222222222222222,
              "#7201a8"
             ],
             [
              0.3333333333333333,
              "#9c179e"
             ],
             [
              0.4444444444444444,
              "#bd3786"
             ],
             [
              0.5555555555555556,
              "#d8576b"
             ],
             [
              0.6666666666666666,
              "#ed7953"
             ],
             [
              0.7777777777777778,
              "#fb9f3a"
             ],
             [
              0.8888888888888888,
              "#fdca26"
             ],
             [
              1,
              "#f0f921"
             ]
            ],
            "type": "heatmapgl"
           }
          ],
          "histogram": [
           {
            "marker": {
             "pattern": {
              "fillmode": "overlay",
              "size": 10,
              "solidity": 0.2
             }
            },
            "type": "histogram"
           }
          ],
          "histogram2d": [
           {
            "colorbar": {
             "outlinewidth": 0,
             "ticks": ""
            },
            "colorscale": [
             [
              0,
              "#0d0887"
             ],
             [
              0.1111111111111111,
              "#46039f"
             ],
             [
              0.2222222222222222,
              "#7201a8"
             ],
             [
              0.3333333333333333,
              "#9c179e"
             ],
             [
              0.4444444444444444,
              "#bd3786"
             ],
             [
              0.5555555555555556,
              "#d8576b"
             ],
             [
              0.6666666666666666,
              "#ed7953"
             ],
             [
              0.7777777777777778,
              "#fb9f3a"
             ],
             [
              0.8888888888888888,
              "#fdca26"
             ],
             [
              1,
              "#f0f921"
             ]
            ],
            "type": "histogram2d"
           }
          ],
          "histogram2dcontour": [
           {
            "colorbar": {
             "outlinewidth": 0,
             "ticks": ""
            },
            "colorscale": [
             [
              0,
              "#0d0887"
             ],
             [
              0.1111111111111111,
              "#46039f"
             ],
             [
              0.2222222222222222,
              "#7201a8"
             ],
             [
              0.3333333333333333,
              "#9c179e"
             ],
             [
              0.4444444444444444,
              "#bd3786"
             ],
             [
              0.5555555555555556,
              "#d8576b"
             ],
             [
              0.6666666666666666,
              "#ed7953"
             ],
             [
              0.7777777777777778,
              "#fb9f3a"
             ],
             [
              0.8888888888888888,
              "#fdca26"
             ],
             [
              1,
              "#f0f921"
             ]
            ],
            "type": "histogram2dcontour"
           }
          ],
          "mesh3d": [
           {
            "colorbar": {
             "outlinewidth": 0,
             "ticks": ""
            },
            "type": "mesh3d"
           }
          ],
          "parcoords": [
           {
            "line": {
             "colorbar": {
              "outlinewidth": 0,
              "ticks": ""
             }
            },
            "type": "parcoords"
           }
          ],
          "pie": [
           {
            "automargin": true,
            "type": "pie"
           }
          ],
          "scatter": [
           {
            "fillpattern": {
             "fillmode": "overlay",
             "size": 10,
             "solidity": 0.2
            },
            "type": "scatter"
           }
          ],
          "scatter3d": [
           {
            "line": {
             "colorbar": {
              "outlinewidth": 0,
              "ticks": ""
             }
            },
            "marker": {
             "colorbar": {
              "outlinewidth": 0,
              "ticks": ""
             }
            },
            "type": "scatter3d"
           }
          ],
          "scattercarpet": [
           {
            "marker": {
             "colorbar": {
              "outlinewidth": 0,
              "ticks": ""
             }
            },
            "type": "scattercarpet"
           }
          ],
          "scattergeo": [
           {
            "marker": {
             "colorbar": {
              "outlinewidth": 0,
              "ticks": ""
             }
            },
            "type": "scattergeo"
           }
          ],
          "scattergl": [
           {
            "marker": {
             "colorbar": {
              "outlinewidth": 0,
              "ticks": ""
             }
            },
            "type": "scattergl"
           }
          ],
          "scattermapbox": [
           {
            "marker": {
             "colorbar": {
              "outlinewidth": 0,
              "ticks": ""
             }
            },
            "type": "scattermapbox"
           }
          ],
          "scatterpolar": [
           {
            "marker": {
             "colorbar": {
              "outlinewidth": 0,
              "ticks": ""
             }
            },
            "type": "scatterpolar"
           }
          ],
          "scatterpolargl": [
           {
            "marker": {
             "colorbar": {
              "outlinewidth": 0,
              "ticks": ""
             }
            },
            "type": "scatterpolargl"
           }
          ],
          "scatterternary": [
           {
            "marker": {
             "colorbar": {
              "outlinewidth": 0,
              "ticks": ""
             }
            },
            "type": "scatterternary"
           }
          ],
          "surface": [
           {
            "colorbar": {
             "outlinewidth": 0,
             "ticks": ""
            },
            "colorscale": [
             [
              0,
              "#0d0887"
             ],
             [
              0.1111111111111111,
              "#46039f"
             ],
             [
              0.2222222222222222,
              "#7201a8"
             ],
             [
              0.3333333333333333,
              "#9c179e"
             ],
             [
              0.4444444444444444,
              "#bd3786"
             ],
             [
              0.5555555555555556,
              "#d8576b"
             ],
             [
              0.6666666666666666,
              "#ed7953"
             ],
             [
              0.7777777777777778,
              "#fb9f3a"
             ],
             [
              0.8888888888888888,
              "#fdca26"
             ],
             [
              1,
              "#f0f921"
             ]
            ],
            "type": "surface"
           }
          ],
          "table": [
           {
            "cells": {
             "fill": {
              "color": "#EBF0F8"
             },
             "line": {
              "color": "white"
             }
            },
            "header": {
             "fill": {
              "color": "#C8D4E3"
             },
             "line": {
              "color": "white"
             }
            },
            "type": "table"
           }
          ]
         },
         "layout": {
          "annotationdefaults": {
           "arrowcolor": "#2a3f5f",
           "arrowhead": 0,
           "arrowwidth": 1
          },
          "autotypenumbers": "strict",
          "coloraxis": {
           "colorbar": {
            "outlinewidth": 0,
            "ticks": ""
           }
          },
          "colorscale": {
           "diverging": [
            [
             0,
             "#8e0152"
            ],
            [
             0.1,
             "#c51b7d"
            ],
            [
             0.2,
             "#de77ae"
            ],
            [
             0.3,
             "#f1b6da"
            ],
            [
             0.4,
             "#fde0ef"
            ],
            [
             0.5,
             "#f7f7f7"
            ],
            [
             0.6,
             "#e6f5d0"
            ],
            [
             0.7,
             "#b8e186"
            ],
            [
             0.8,
             "#7fbc41"
            ],
            [
             0.9,
             "#4d9221"
            ],
            [
             1,
             "#276419"
            ]
           ],
           "sequential": [
            [
             0,
             "#0d0887"
            ],
            [
             0.1111111111111111,
             "#46039f"
            ],
            [
             0.2222222222222222,
             "#7201a8"
            ],
            [
             0.3333333333333333,
             "#9c179e"
            ],
            [
             0.4444444444444444,
             "#bd3786"
            ],
            [
             0.5555555555555556,
             "#d8576b"
            ],
            [
             0.6666666666666666,
             "#ed7953"
            ],
            [
             0.7777777777777778,
             "#fb9f3a"
            ],
            [
             0.8888888888888888,
             "#fdca26"
            ],
            [
             1,
             "#f0f921"
            ]
           ],
           "sequentialminus": [
            [
             0,
             "#0d0887"
            ],
            [
             0.1111111111111111,
             "#46039f"
            ],
            [
             0.2222222222222222,
             "#7201a8"
            ],
            [
             0.3333333333333333,
             "#9c179e"
            ],
            [
             0.4444444444444444,
             "#bd3786"
            ],
            [
             0.5555555555555556,
             "#d8576b"
            ],
            [
             0.6666666666666666,
             "#ed7953"
            ],
            [
             0.7777777777777778,
             "#fb9f3a"
            ],
            [
             0.8888888888888888,
             "#fdca26"
            ],
            [
             1,
             "#f0f921"
            ]
           ]
          },
          "colorway": [
           "#636efa",
           "#EF553B",
           "#00cc96",
           "#ab63fa",
           "#FFA15A",
           "#19d3f3",
           "#FF6692",
           "#B6E880",
           "#FF97FF",
           "#FECB52"
          ],
          "font": {
           "color": "#2a3f5f"
          },
          "geo": {
           "bgcolor": "white",
           "lakecolor": "white",
           "landcolor": "#E5ECF6",
           "showlakes": true,
           "showland": true,
           "subunitcolor": "white"
          },
          "hoverlabel": {
           "align": "left"
          },
          "hovermode": "closest",
          "mapbox": {
           "style": "light"
          },
          "paper_bgcolor": "white",
          "plot_bgcolor": "#E5ECF6",
          "polar": {
           "angularaxis": {
            "gridcolor": "white",
            "linecolor": "white",
            "ticks": ""
           },
           "bgcolor": "#E5ECF6",
           "radialaxis": {
            "gridcolor": "white",
            "linecolor": "white",
            "ticks": ""
           }
          },
          "scene": {
           "xaxis": {
            "backgroundcolor": "#E5ECF6",
            "gridcolor": "white",
            "gridwidth": 2,
            "linecolor": "white",
            "showbackground": true,
            "ticks": "",
            "zerolinecolor": "white"
           },
           "yaxis": {
            "backgroundcolor": "#E5ECF6",
            "gridcolor": "white",
            "gridwidth": 2,
            "linecolor": "white",
            "showbackground": true,
            "ticks": "",
            "zerolinecolor": "white"
           },
           "zaxis": {
            "backgroundcolor": "#E5ECF6",
            "gridcolor": "white",
            "gridwidth": 2,
            "linecolor": "white",
            "showbackground": true,
            "ticks": "",
            "zerolinecolor": "white"
           }
          },
          "shapedefaults": {
           "line": {
            "color": "#2a3f5f"
           }
          },
          "ternary": {
           "aaxis": {
            "gridcolor": "white",
            "linecolor": "white",
            "ticks": ""
           },
           "baxis": {
            "gridcolor": "white",
            "linecolor": "white",
            "ticks": ""
           },
           "bgcolor": "#E5ECF6",
           "caxis": {
            "gridcolor": "white",
            "linecolor": "white",
            "ticks": ""
           }
          },
          "title": {
           "x": 0.05
          },
          "xaxis": {
           "automargin": true,
           "gridcolor": "white",
           "linecolor": "white",
           "ticks": "",
           "title": {
            "standoff": 15
           },
           "zerolinecolor": "white",
           "zerolinewidth": 2
          },
          "yaxis": {
           "automargin": true,
           "gridcolor": "white",
           "linecolor": "white",
           "ticks": "",
           "title": {
            "standoff": 15
           },
           "zerolinecolor": "white",
           "zerolinewidth": 2
          }
         }
        },
        "title": {
         "text": "Count of Each Industry",
         "x": 0.5
        },
        "xaxis": {
         "anchor": "y",
         "autorange": true,
         "domain": [
          0,
          1
         ],
         "range": [
          0,
          177.89473684210526
         ],
         "title": {
          "text": "Count"
         },
         "type": "linear"
        },
        "yaxis": {
         "anchor": "x",
         "autorange": true,
         "domain": [
          0,
          1
         ],
         "range": [
          -0.5,
          2.5
         ],
         "tickangle": 0,
         "title": {
          "text": "Industry"
         },
         "type": "category"
        }
       }
      },
      "image/png": "[encoded data removed]",
      "text/html": [
       "<div>                            <div id=\"e70e2d79-2782-43ca-829d-75b0a4955273\" class=\"plotly-graph-div\" style=\"height:525px; width:100%;\"></div>            <script type=\"text/javascript\">                require([\"plotly\"], function(Plotly) {                    window.PLOTLYENV=window.PLOTLYENV || {};                                    if (document.getElementById(\"e70e2d79-2782-43ca-829d-75b0a4955273\")) {                    Plotly.newPlot(                        \"e70e2d79-2782-43ca-829d-75b0a4955273\",                        [{\"alignmentgroup\":\"True\",\"hovertemplate\":\"Count=%{marker.color}\\u003cbr\\u003eIndustry=%{y}\\u003cextra\\u003e\\u003c\\u002fextra\\u003e\",\"legendgroup\":\"\",\"marker\":{\"color\":[169,169,162],\"coloraxis\":\"coloraxis\",\"pattern\":{\"shape\":\"\"}},\"name\":\"\",\"offsetgroup\":\"\",\"orientation\":\"h\",\"showlegend\":false,\"textposition\":\"auto\",\"x\":[169,169,162],\"xaxis\":\"x\",\"y\":[\"Growth\",\"Decline\",\"Stable\"],\"yaxis\":\"y\",\"type\":\"bar\"}],                        {\"template\":{\"data\":{\"histogram2dcontour\":[{\"type\":\"histogram2dcontour\",\"colorbar\":{\"outlinewidth\":0,\"ticks\":\"\"},\"colorscale\":[[0.0,\"#0d0887\"],[0.1111111111111111,\"#46039f\"],[0.2222222222222222,\"#7201a8\"],[0.3333333333333333,\"#9c179e\"],[0.4444444444444444,\"#bd3786\"],[0.5555555555555556,\"#d8576b\"],[0.6666666666666666,\"#ed7953\"],[0.7777777777777778,\"#fb9f3a\"],[0.8888888888888888,\"#fdca26\"],[1.0,\"#f0f921\"]]}],\"choropleth\":[{\"type\":\"choropleth\",\"colorbar\":{\"outlinewidth\":0,\"ticks\":\"\"}}],\"histogram2d\":[{\"type\":\"histogram2d\",\"colorbar\":{\"outlinewidth\":0,\"ticks\":\"\"},\"colorscale\":[[0.0,\"#0d0887\"],[0.1111111111111111,\"#46039f\"],[0.2222222222222222,\"#7201a8\"],[0.3333333333333333,\"#9c179e\"],[0.4444444444444444,\"#bd3786\"],[0.5555555555555556,\"#d8576b\"],[0.6666666666666666,\"#ed7953\"],[0.7777777777777778,\"#fb9f3a\"],[0.8888888888888888,\"#fdca26\"],[1.0,\"#f0f921\"]]}],\"heatmap\":[{\"type\":\"heatmap\",\"colorbar\":{\"outlinewidth\":0,\"ticks\":\"\"},\"colorscale\":[[0.0,\"#0d0887\"],[0.1111111111111111,\"#46039f\"],[0.2222222222222222,\"#7201a8\"],[0.3333333333333333,\"#9c179e\"],[0.4444444444444444,\"#bd3786\"],[0.5555555555555556,\"#d8576b\"],[0.6666666666666666,\"#ed7953\"],[0.7777777777777778,\"#fb9f3a\"],[0.8888888888888888,\"#fdca26\"],[1.0,\"#f0f921\"]]}],\"heatmapgl\":[{\"type\":\"heatmapgl\",\"colorbar\":{\"outlinewidth\":0,\"ticks\":\"\"},\"colorscale\":[[0.0,\"#0d0887\"],[0.1111111111111111,\"#46039f\"],[0.2222222222222222,\"#7201a8\"],[0.3333333333333333,\"#9c179e\"],[0.4444444444444444,\"#bd3786\"],[0.5555555555555556,\"#d8576b\"],[0.6666666666666666,\"#ed7953\"],[0.7777777777777778,\"#fb9f3a\"],[0.8888888888888888,\"#fdca26\"],[1.0,\"#f0f921\"]]}],\"contourcarpet\":[{\"type\":\"contourcarpet\",\"colorbar\":{\"outlinewidth\":0,\"ticks\":\"\"}}],\"contour\":[{\"type\":\"contour\",\"colorbar\":{\"outlinewidth\":0,\"ticks\":\"\"},\"colorscale\":[[0.0,\"#0d0887\"],[0.1111111111111111,\"#46039f\"],[0.2222222222222222,\"#7201a8\"],[0.3333333333333333,\"#9c179e\"],[0.4444444444444444,\"#bd3786\"],[0.5555555555555556,\"#d8576b\"],[0.6666666666666666,\"#ed7953\"],[0.7777777777777778,\"#fb9f3a\"],[0.8888888888888888,\"#fdca26\"],[1.0,\"#f0f921\"]]}],\"surface\":[{\"type\":\"surface\",\"colorbar\":{\"outlinewidth\":0,\"ticks\":\"\"},\"colorscale\":[[0.0,\"#0d0887\"],[0.1111111111111111,\"#46039f\"],[0.2222222222222222,\"#7201a8\"],[0.3333333333333333,\"#9c179e\"],[0.4444444444444444,\"#bd3786\"],[0.5555555555555556,\"#d8576b\"],[0.6666666666666666,\"#ed7953\"],[0.7777777777777778,\"#fb9f3a\"],[0.8888888888888888,\"#fdca26\"],[1.0,\"#f0f921\"]]}],\"mesh3d\":[{\"type\":\"mesh3d\",\"colorbar\":{\"outlinewidth\":0,\"ticks\":\"\"}}],\"scatter\":[{\"fillpattern\":{\"fillmode\":\"overlay\",\"size\":10,\"solidity\":0.2},\"type\":\"scatter\"}],\"parcoords\":[{\"type\":\"parcoords\",\"line\":{\"colorbar\":{\"outlinewidth\":0,\"ticks\":\"\"}}}],\"scatterpolargl\":[{\"type\":\"scatterpolargl\",\"marker\":{\"colorbar\":{\"outlinewidth\":0,\"ticks\":\"\"}}}],\"bar\":[{\"error_x\":{\"color\":\"#2a3f5f\"},\"error_y\":{\"color\":\"#2a3f5f\"},\"marker\":{\"line\":{\"color\":\"#E5ECF6\",\"width\":0.5},\"pattern\":{\"fillmode\":\"overlay\",\"size\":10,\"solidity\":0.2}},\"type\":\"bar\"}],\"scattergeo\":[{\"type\":\"scattergeo\",\"marker\":{\"colorbar\":{\"outlinewidth\":0,\"ticks\":\"\"}}}],\"scatterpolar\":[{\"type\":\"scatterpolar\",\"marker\":{\"colorbar\":{\"outlinewidth\":0,\"ticks\":\"\"}}}],\"histogram\":[{\"marker\":{\"pattern\":{\"fillmode\":\"overlay\",\"size\":10,\"solidity\":0.2}},\"type\":\"histogram\"}],\"scattergl\":[{\"type\":\"scattergl\",\"marker\":{\"colorbar\":{\"outlinewidth\":0,\"ticks\":\"\"}}}],\"scatter3d\":[{\"type\":\"scatter3d\",\"line\":{\"colorbar\":{\"outlinewidth\":0,\"ticks\":\"\"}},\"marker\":{\"colorbar\":{\"outlinewidth\":0,\"ticks\":\"\"}}}],\"scattermapbox\":[{\"type\":\"scattermapbox\",\"marker\":{\"colorbar\":{\"outlinewidth\":0,\"ticks\":\"\"}}}],\"scatterternary\":[{\"type\":\"scatterternary\",\"marker\":{\"colorbar\":{\"outlinewidth\":0,\"ticks\":\"\"}}}],\"scattercarpet\":[{\"type\":\"scattercarpet\",\"marker\":{\"colorbar\":{\"outlinewidth\":0,\"ticks\":\"\"}}}],\"carpet\":[{\"aaxis\":{\"endlinecolor\":\"#2a3f5f\",\"gridcolor\":\"white\",\"linecolor\":\"white\",\"minorgridcolor\":\"white\",\"startlinecolor\":\"#2a3f5f\"},\"baxis\":{\"endlinecolor\":\"#2a3f5f\",\"gridcolor\":\"white\",\"linecolor\":\"white\",\"minorgridcolor\":\"white\",\"startlinecolor\":\"#2a3f5f\"},\"type\":\"carpet\"}],\"table\":[{\"cells\":{\"fill\":{\"color\":\"#EBF0F8\"},\"line\":{\"color\":\"white\"}},\"header\":{\"fill\":{\"color\":\"#C8D4E3\"},\"line\":{\"color\":\"white\"}},\"type\":\"table\"}],\"barpolar\":[{\"marker\":{\"line\":{\"color\":\"#E5ECF6\",\"width\":0.5},\"pattern\":{\"fillmode\":\"overlay\",\"size\":10,\"solidity\":0.2}},\"type\":\"barpolar\"}],\"pie\":[{\"automargin\":true,\"type\":\"pie\"}]},\"layout\":{\"autotypenumbers\":\"strict\",\"colorway\":[\"#636efa\",\"#EF553B\",\"#00cc96\",\"#ab63fa\",\"#FFA15A\",\"#19d3f3\",\"#FF6692\",\"#B6E880\",\"#FF97FF\",\"#FECB52\"],\"font\":{\"color\":\"#2a3f5f\"},\"hovermode\":\"closest\",\"hoverlabel\":{\"align\":\"left\"},\"paper_bgcolor\":\"white\",\"plot_bgcolor\":\"#E5ECF6\",\"polar\":{\"bgcolor\":\"#E5ECF6\",\"angularaxis\":{\"gridcolor\":\"white\",\"linecolor\":\"white\",\"ticks\":\"\"},\"radialaxis\":{\"gridcolor\":\"white\",\"linecolor\":\"white\",\"ticks\":\"\"}},\"ternary\":{\"bgcolor\":\"#E5ECF6\",\"aaxis\":{\"gridcolor\":\"white\",\"linecolor\":\"white\",\"ticks\":\"\"},\"baxis\":{\"gridcolor\":\"white\",\"linecolor\":\"white\",\"ticks\":\"\"},\"caxis\":{\"gridcolor\":\"white\",\"linecolor\":\"white\",\"ticks\":\"\"}},\"coloraxis\":{\"colorbar\":{\"outlinewidth\":0,\"ticks\":\"\"}},\"colorscale\":{\"sequential\":[[0.0,\"#0d0887\"],[0.1111111111111111,\"#46039f\"],[0.2222222222222222,\"#7201a8\"],[0.3333333333333333,\"#9c179e\"],[0.4444444444444444,\"#bd3786\"],[0.5555555555555556,\"#d8576b\"],[0.6666666666666666,\"#ed7953\"],[0.7777777777777778,\"#fb9f3a\"],[0.8888888888888888,\"#fdca26\"],[1.0,\"#f0f921\"]],\"sequentialminus\":[[0.0,\"#0d0887\"],[0.1111111111111111,\"#46039f\"],[0.2222222222222222,\"#7201a8\"],[0.3333333333333333,\"#9c179e\"],[0.4444444444444444,\"#bd3786\"],[0.5555555555555556,\"#d8576b\"],[0.6666666666666666,\"#ed7953\"],[0.7777777777777778,\"#fb9f3a\"],[0.8888888888888888,\"#fdca26\"],[1.0,\"#f0f921\"]],\"diverging\":[[0,\"#8e0152\"],[0.1,\"#c51b7d\"],[0.2,\"#de77ae\"],[0.3,\"#f1b6da\"],[0.4,\"#fde0ef\"],[0.5,\"#f7f7f7\"],[0.6,\"#e6f5d0\"],[0.7,\"#b8e186\"],[0.8,\"#7fbc41\"],[0.9,\"#4d9221\"],[1,\"#276419\"]]},\"xaxis\":{\"gridcolor\":\"white\",\"linecolor\":\"white\",\"ticks\":\"\",\"title\":{\"standoff\":15},\"zerolinecolor\":\"white\",\"automargin\":true,\"zerolinewidth\":2},\"yaxis\":{\"gridcolor\":\"white\",\"linecolor\":\"white\",\"ticks\":\"\",\"title\":{\"standoff\":15},\"zerolinecolor\":\"white\",\"automargin\":true,\"zerolinewidth\":2},\"scene\":{\"xaxis\":{\"backgroundcolor\":\"#E5ECF6\",\"gridcolor\":\"white\",\"linecolor\":\"white\",\"showbackground\":true,\"ticks\":\"\",\"zerolinecolor\":\"white\",\"gridwidth\":2},\"yaxis\":{\"backgroundcolor\":\"#E5ECF6\",\"gridcolor\":\"white\",\"linecolor\":\"white\",\"showbackground\":true,\"ticks\":\"\",\"zerolinecolor\":\"white\",\"gridwidth\":2},\"zaxis\":{\"backgroundcolor\":\"#E5ECF6\",\"gridcolor\":\"white\",\"linecolor\":\"white\",\"showbackground\":true,\"ticks\":\"\",\"zerolinecolor\":\"white\",\"gridwidth\":2}},\"shapedefaults\":{\"line\":{\"color\":\"#2a3f5f\"}},\"annotationdefaults\":{\"arrowcolor\":\"#2a3f5f\",\"arrowhead\":0,\"arrowwidth\":1},\"geo\":{\"bgcolor\":\"white\",\"landcolor\":\"#E5ECF6\",\"subunitcolor\":\"white\",\"showland\":true,\"showlakes\":true,\"lakecolor\":\"white\"},\"title\":{\"x\":0.05},\"mapbox\":{\"style\":\"light\"}}},\"xaxis\":{\"anchor\":\"y\",\"domain\":[0.0,1.0],\"title\":{\"text\":\"Count\"}},\"yaxis\":{\"anchor\":\"x\",\"domain\":[0.0,1.0],\"title\":{\"text\":\"Industry\"},\"tickangle\":0},\"coloraxis\":{\"colorbar\":{\"title\":{\"text\":\"Count\"}},\"colorscale\":[[0.0,\"#0d0887\"],[0.1111111111111111,\"#46039f\"],[0.2222222222222222,\"#7201a8\"],[0.3333333333333333,\"#9c179e\"],[0.4444444444444444,\"#bd3786\"],[0.5555555555555556,\"#d8576b\"],[0.6666666666666666,\"#ed7953\"],[0.7777777777777778,\"#fb9f3a\"],[0.8888888888888888,\"#fdca26\"],[1.0,\"#f0f921\"]]},\"legend\":{\"tracegroupgap\":0},\"title\":{\"text\":\"Count of Each Industry\",\"x\":0.5},\"barmode\":\"relative\"},                        {\"responsive\": true}                    ).then(function(){\n",
       "                            \n",
       "var gd = document.getElementById('e70e2d79-2782-43ca-829d-75b0a4955273');\n",
       "var x = new MutationObserver(function (mutations, observer) {{\n",
       "        var display = window.getComputedStyle(gd).display;\n",
       "        if (!display || display === 'none') {{\n",
       "            console.log([gd, 'removed!']);\n",
       "            Plotly.purge(gd);\n",
       "            observer.disconnect();\n",
       "        }}\n",
       "}});\n",
       "\n",
       "// Listen for the removal of the full notebook cells\n",
       "var notebookContainer = gd.closest('#notebook-container');\n",
       "if (notebookContainer) {{\n",
       "    x.observe(notebookContainer, {childList: true});\n",
       "}}\n",
       "\n",
       "// Listen for the clearing of the current output cell\n",
       "var outputEl = gd.closest('.output');\n",
       "if (outputEl) {{\n",
       "    x.observe(outputEl, {childList: true});\n",
       "}}\n",
       "\n",
       "                        })                };                });            </script>        </div>"
      ]
     },
     "metadata": {},
     "output_type": "display_data"
    }
   ],
   "source": [
    "value_counts = value_counts.reset_index()\n",
    "value_counts.columns = ['Industry', 'Count']\n",
    "\n",
    "fig = px.bar(\n",
    "    value_counts,\n",
    "    y='Industry',\n",
    "    x='Count',\n",
    "    title='Count of Each Industry',\n",
    "    labels={'Count': 'Count', 'Industry': 'Industry'},\n",
    "    color='Count', \n",
    "    color_continuous_scale='Plasma'  \n",
    ")\n",
    "\n",
    "fig.update_layout(\n",
    "    xaxis_title='Count',\n",
    "    yaxis_title='Industry',\n",
    "    title_x=0.5,  # Center the title\n",
    "    yaxis=dict(\n",
    "        tickangle=0  \n",
    "    )\n",
    ")\n",
    "\n",
    "fig.show()"
   ]
  },
  {
   "cell_type": "markdown",
   "id": "84e3832b-1684-4066-8d4e-05ea24028cd9",
   "metadata": {},
   "source": [
    "# Automation Risk\n"
   ]
  },
  {
   "cell_type": "code",
   "execution_count": 95,
   "id": "278734f4-ee4e-4609-8485-f74bf042a41f",
   "metadata": {},
   "outputs": [
    {
     "ename": "AttributeError",
     "evalue": "'DataFrame' object has no attribute 'Automation_Risk'",
     "output_type": "error",
     "traceback": [
      "\u001b[1;31m---------------------------------------------------------------------------\u001b[0m",
      "\u001b[1;31mAttributeError\u001b[0m                            Traceback (most recent call last)",
      "\u001b[1;32m~\\AppData\\Local\\Temp\\ipykernel_15292\\1683303664.py\u001b[0m in \u001b[0;36m?\u001b[1;34m()\u001b[0m\n\u001b[1;32m----> 1\u001b[1;33m \u001b[0mvalue_counts\u001b[0m\u001b[1;33m=\u001b[0m\u001b[0mjob_Market\u001b[0m\u001b[1;33m.\u001b[0m\u001b[0mAutomation_Risk\u001b[0m\u001b[1;33m.\u001b[0m\u001b[0mvalue_counts\u001b[0m\u001b[1;33m(\u001b[0m\u001b[1;33m)\u001b[0m\u001b[1;33m\u001b[0m\u001b[1;33m\u001b[0m\u001b[0m\n\u001b[0m\u001b[0;32m      2\u001b[0m \u001b[0mvalue_counts\u001b[0m\u001b[1;33m\u001b[0m\u001b[1;33m\u001b[0m\u001b[0m\n",
      "\u001b[1;32mC:\\ProgramData\\anaconda3\\Lib\\site-packages\\pandas\\core\\generic.py\u001b[0m in \u001b[0;36m?\u001b[1;34m(self, name)\u001b[0m\n\u001b[0;32m   6295\u001b[0m             \u001b[1;32mand\u001b[0m \u001b[0mname\u001b[0m \u001b[1;32mnot\u001b[0m \u001b[1;32min\u001b[0m \u001b[0mself\u001b[0m\u001b[1;33m.\u001b[0m\u001b[0m_accessors\u001b[0m\u001b[1;33m\u001b[0m\u001b[1;33m\u001b[0m\u001b[0m\n\u001b[0;32m   6296\u001b[0m             \u001b[1;32mand\u001b[0m \u001b[0mself\u001b[0m\u001b[1;33m.\u001b[0m\u001b[0m_info_axis\u001b[0m\u001b[1;33m.\u001b[0m\u001b[0m_can_hold_identifiers_and_holds_name\u001b[0m\u001b[1;33m(\u001b[0m\u001b[0mname\u001b[0m\u001b[1;33m)\u001b[0m\u001b[1;33m\u001b[0m\u001b[1;33m\u001b[0m\u001b[0m\n\u001b[0;32m   6297\u001b[0m         \u001b[1;33m)\u001b[0m\u001b[1;33m:\u001b[0m\u001b[1;33m\u001b[0m\u001b[1;33m\u001b[0m\u001b[0m\n\u001b[0;32m   6298\u001b[0m             \u001b[1;32mreturn\u001b[0m \u001b[0mself\u001b[0m\u001b[1;33m[\u001b[0m\u001b[0mname\u001b[0m\u001b[1;33m]\u001b[0m\u001b[1;33m\u001b[0m\u001b[1;33m\u001b[0m\u001b[0m\n\u001b[1;32m-> 6299\u001b[1;33m         \u001b[1;32mreturn\u001b[0m \u001b[0mobject\u001b[0m\u001b[1;33m.\u001b[0m\u001b[0m__getattribute__\u001b[0m\u001b[1;33m(\u001b[0m\u001b[0mself\u001b[0m\u001b[1;33m,\u001b[0m \u001b[0mname\u001b[0m\u001b[1;33m)\u001b[0m\u001b[1;33m\u001b[0m\u001b[1;33m\u001b[0m\u001b[0m\n\u001b[0m",
      "\u001b[1;31mAttributeError\u001b[0m: 'DataFrame' object has no attribute 'Automation_Risk'"
     ]
    }
   ],
   "source": [
    "value_counts=job_Market.Automation_Risk.value_counts()\n",
    "value_counts"
   ]
  },
  {
   "cell_type": "code",
   "execution_count": 96,
   "id": "adf908ba-6087-43b7-99cc-7d217dd854a0",
   "metadata": {},
   "outputs": [
    {
     "ename": "KeyError",
     "evalue": "'Automation_Risk'",
     "output_type": "error",
     "traceback": [
      "\u001b[1;31m---------------------------------------------------------------------------\u001b[0m",
      "\u001b[1;31mKeyError\u001b[0m                                  Traceback (most recent call last)",
      "File \u001b[1;32mC:\\ProgramData\\anaconda3\\Lib\\site-packages\\pandas\\core\\indexes\\base.py:3805\u001b[0m, in \u001b[0;36mIndex.get_loc\u001b[1;34m(self, key)\u001b[0m\n\u001b[0;32m   3804\u001b[0m \u001b[38;5;28;01mtry\u001b[39;00m:\n\u001b[1;32m-> 3805\u001b[0m     \u001b[38;5;28;01mreturn\u001b[39;00m \u001b[38;5;28mself\u001b[39m\u001b[38;5;241m.\u001b[39m_engine\u001b[38;5;241m.\u001b[39mget_loc(casted_key)\n\u001b[0;32m   3806\u001b[0m \u001b[38;5;28;01mexcept\u001b[39;00m \u001b[38;5;167;01mKeyError\u001b[39;00m \u001b[38;5;28;01mas\u001b[39;00m err:\n",
      "File \u001b[1;32mindex.pyx:167\u001b[0m, in \u001b[0;36mpandas._libs.index.IndexEngine.get_loc\u001b[1;34m()\u001b[0m\n",
      "File \u001b[1;32mindex.pyx:196\u001b[0m, in \u001b[0;36mpandas._libs.index.IndexEngine.get_loc\u001b[1;34m()\u001b[0m\n",
      "File \u001b[1;32mpandas\\\\_libs\\\\hashtable_class_helper.pxi:7081\u001b[0m, in \u001b[0;36mpandas._libs.hashtable.PyObjectHashTable.get_item\u001b[1;34m()\u001b[0m\n",
      "File \u001b[1;32mpandas\\\\_libs\\\\hashtable_class_helper.pxi:7089\u001b[0m, in \u001b[0;36mpandas._libs.hashtable.PyObjectHashTable.get_item\u001b[1;34m()\u001b[0m\n",
      "\u001b[1;31mKeyError\u001b[0m: 'Automation_Risk'",
      "\nThe above exception was the direct cause of the following exception:\n",
      "\u001b[1;31mKeyError\u001b[0m                                  Traceback (most recent call last)",
      "Cell \u001b[1;32mIn[96], line 1\u001b[0m\n\u001b[1;32m----> 1\u001b[0m automation_risk \u001b[38;5;241m=\u001b[39m job_Market[\u001b[38;5;124m'\u001b[39m\u001b[38;5;124mAutomation_Risk\u001b[39m\u001b[38;5;124m'\u001b[39m]\u001b[38;5;241m.\u001b[39mvalue_counts()\u001b[38;5;241m.\u001b[39mreset_index()\n\u001b[0;32m      2\u001b[0m automation_risk\u001b[38;5;241m.\u001b[39mcolumns \u001b[38;5;241m=\u001b[39m [\u001b[38;5;124m'\u001b[39m\u001b[38;5;124mAutomation_Risk\u001b[39m\u001b[38;5;124m'\u001b[39m,\u001b[38;5;124m'\u001b[39m\u001b[38;5;124mCount\u001b[39m\u001b[38;5;124m'\u001b[39m]\n\u001b[0;32m      3\u001b[0m fig \u001b[38;5;241m=\u001b[39m px\u001b[38;5;241m.\u001b[39mbar(automation_risk, \n\u001b[0;32m      4\u001b[0m               x \u001b[38;5;241m=\u001b[39m \u001b[38;5;124m'\u001b[39m\u001b[38;5;124mAutomation_Risk\u001b[39m\u001b[38;5;124m'\u001b[39m, \n\u001b[0;32m      5\u001b[0m               y \u001b[38;5;241m=\u001b[39m \u001b[38;5;124m'\u001b[39m\u001b[38;5;124mCount\u001b[39m\u001b[38;5;124m'\u001b[39m,\n\u001b[1;32m   (...)\u001b[0m\n\u001b[0;32m     10\u001b[0m              height \u001b[38;5;241m=\u001b[39m \u001b[38;5;241m500\u001b[39m\n\u001b[0;32m     11\u001b[0m             )\n",
      "File \u001b[1;32mC:\\ProgramData\\anaconda3\\Lib\\site-packages\\pandas\\core\\frame.py:4102\u001b[0m, in \u001b[0;36mDataFrame.__getitem__\u001b[1;34m(self, key)\u001b[0m\n\u001b[0;32m   4100\u001b[0m \u001b[38;5;28;01mif\u001b[39;00m \u001b[38;5;28mself\u001b[39m\u001b[38;5;241m.\u001b[39mcolumns\u001b[38;5;241m.\u001b[39mnlevels \u001b[38;5;241m>\u001b[39m \u001b[38;5;241m1\u001b[39m:\n\u001b[0;32m   4101\u001b[0m     \u001b[38;5;28;01mreturn\u001b[39;00m \u001b[38;5;28mself\u001b[39m\u001b[38;5;241m.\u001b[39m_getitem_multilevel(key)\n\u001b[1;32m-> 4102\u001b[0m indexer \u001b[38;5;241m=\u001b[39m \u001b[38;5;28mself\u001b[39m\u001b[38;5;241m.\u001b[39mcolumns\u001b[38;5;241m.\u001b[39mget_loc(key)\n\u001b[0;32m   4103\u001b[0m \u001b[38;5;28;01mif\u001b[39;00m is_integer(indexer):\n\u001b[0;32m   4104\u001b[0m     indexer \u001b[38;5;241m=\u001b[39m [indexer]\n",
      "File \u001b[1;32mC:\\ProgramData\\anaconda3\\Lib\\site-packages\\pandas\\core\\indexes\\base.py:3812\u001b[0m, in \u001b[0;36mIndex.get_loc\u001b[1;34m(self, key)\u001b[0m\n\u001b[0;32m   3807\u001b[0m     \u001b[38;5;28;01mif\u001b[39;00m \u001b[38;5;28misinstance\u001b[39m(casted_key, \u001b[38;5;28mslice\u001b[39m) \u001b[38;5;129;01mor\u001b[39;00m (\n\u001b[0;32m   3808\u001b[0m         \u001b[38;5;28misinstance\u001b[39m(casted_key, abc\u001b[38;5;241m.\u001b[39mIterable)\n\u001b[0;32m   3809\u001b[0m         \u001b[38;5;129;01mand\u001b[39;00m \u001b[38;5;28many\u001b[39m(\u001b[38;5;28misinstance\u001b[39m(x, \u001b[38;5;28mslice\u001b[39m) \u001b[38;5;28;01mfor\u001b[39;00m x \u001b[38;5;129;01min\u001b[39;00m casted_key)\n\u001b[0;32m   3810\u001b[0m     ):\n\u001b[0;32m   3811\u001b[0m         \u001b[38;5;28;01mraise\u001b[39;00m InvalidIndexError(key)\n\u001b[1;32m-> 3812\u001b[0m     \u001b[38;5;28;01mraise\u001b[39;00m \u001b[38;5;167;01mKeyError\u001b[39;00m(key) \u001b[38;5;28;01mfrom\u001b[39;00m \u001b[38;5;21;01merr\u001b[39;00m\n\u001b[0;32m   3813\u001b[0m \u001b[38;5;28;01mexcept\u001b[39;00m \u001b[38;5;167;01mTypeError\u001b[39;00m:\n\u001b[0;32m   3814\u001b[0m     \u001b[38;5;66;03m# If we have a listlike key, _check_indexing_error will raise\u001b[39;00m\n\u001b[0;32m   3815\u001b[0m     \u001b[38;5;66;03m#  InvalidIndexError. Otherwise we fall through and re-raise\u001b[39;00m\n\u001b[0;32m   3816\u001b[0m     \u001b[38;5;66;03m#  the TypeError.\u001b[39;00m\n\u001b[0;32m   3817\u001b[0m     \u001b[38;5;28mself\u001b[39m\u001b[38;5;241m.\u001b[39m_check_indexing_error(key)\n",
      "\u001b[1;31mKeyError\u001b[0m: 'Automation_Risk'"
     ]
    }
   ],
   "source": [
    "automation_risk = job_Market['Automation_Risk'].value_counts().reset_index()\n",
    "automation_risk.columns = ['Automation_Risk','Count']\n",
    "fig = px.bar(automation_risk, \n",
    "              x = 'Automation_Risk', \n",
    "              y = 'Count',\n",
    "              title = \"Automation Risk Distribution\", \n",
    "              labels = {'Automation_Risk': 'Automation Risk', 'Automation_Risk': 'Count'},\n",
    "            text_auto = True,\n",
    "            color = 'Automation_Risk',\n",
    "             height = 500\n",
    "            )\n",
    "fig.show()"
   ]
  },
  {
   "cell_type": "markdown",
   "id": "ee503ce3-0013-4fa3-a080-7e70dbab56fd",
   "metadata": {},
   "source": [
    "# Job Growth Projection"
   ]
  },
  {
   "cell_type": "code",
   "execution_count": 97,
   "id": "18893632-4d34-4999-8bec-24975b9e37ef",
   "metadata": {},
   "outputs": [
    {
     "ename": "AttributeError",
     "evalue": "'DataFrame' object has no attribute 'Job_Growth_Projection'",
     "output_type": "error",
     "traceback": [
      "\u001b[1;31m---------------------------------------------------------------------------\u001b[0m",
      "\u001b[1;31mAttributeError\u001b[0m                            Traceback (most recent call last)",
      "\u001b[1;32m~\\AppData\\Local\\Temp\\ipykernel_15292\\2648798355.py\u001b[0m in \u001b[0;36m?\u001b[1;34m()\u001b[0m\n\u001b[1;32m----> 1\u001b[1;33m \u001b[0mvalue_counts\u001b[0m\u001b[1;33m=\u001b[0m\u001b[0mjob_Market\u001b[0m\u001b[1;33m.\u001b[0m\u001b[0mJob_Growth_Projection\u001b[0m\u001b[1;33m.\u001b[0m\u001b[0mvalue_counts\u001b[0m\u001b[1;33m(\u001b[0m\u001b[1;33m)\u001b[0m\u001b[1;33m\u001b[0m\u001b[1;33m\u001b[0m\u001b[0m\n\u001b[0m\u001b[0;32m      2\u001b[0m \u001b[0mvalue_counts\u001b[0m\u001b[1;33m\u001b[0m\u001b[1;33m\u001b[0m\u001b[0m\n",
      "\u001b[1;32mC:\\ProgramData\\anaconda3\\Lib\\site-packages\\pandas\\core\\generic.py\u001b[0m in \u001b[0;36m?\u001b[1;34m(self, name)\u001b[0m\n\u001b[0;32m   6295\u001b[0m             \u001b[1;32mand\u001b[0m \u001b[0mname\u001b[0m \u001b[1;32mnot\u001b[0m \u001b[1;32min\u001b[0m \u001b[0mself\u001b[0m\u001b[1;33m.\u001b[0m\u001b[0m_accessors\u001b[0m\u001b[1;33m\u001b[0m\u001b[1;33m\u001b[0m\u001b[0m\n\u001b[0;32m   6296\u001b[0m             \u001b[1;32mand\u001b[0m \u001b[0mself\u001b[0m\u001b[1;33m.\u001b[0m\u001b[0m_info_axis\u001b[0m\u001b[1;33m.\u001b[0m\u001b[0m_can_hold_identifiers_and_holds_name\u001b[0m\u001b[1;33m(\u001b[0m\u001b[0mname\u001b[0m\u001b[1;33m)\u001b[0m\u001b[1;33m\u001b[0m\u001b[1;33m\u001b[0m\u001b[0m\n\u001b[0;32m   6297\u001b[0m         \u001b[1;33m)\u001b[0m\u001b[1;33m:\u001b[0m\u001b[1;33m\u001b[0m\u001b[1;33m\u001b[0m\u001b[0m\n\u001b[0;32m   6298\u001b[0m             \u001b[1;32mreturn\u001b[0m \u001b[0mself\u001b[0m\u001b[1;33m[\u001b[0m\u001b[0mname\u001b[0m\u001b[1;33m]\u001b[0m\u001b[1;33m\u001b[0m\u001b[1;33m\u001b[0m\u001b[0m\n\u001b[1;32m-> 6299\u001b[1;33m         \u001b[1;32mreturn\u001b[0m \u001b[0mobject\u001b[0m\u001b[1;33m.\u001b[0m\u001b[0m__getattribute__\u001b[0m\u001b[1;33m(\u001b[0m\u001b[0mself\u001b[0m\u001b[1;33m,\u001b[0m \u001b[0mname\u001b[0m\u001b[1;33m)\u001b[0m\u001b[1;33m\u001b[0m\u001b[1;33m\u001b[0m\u001b[0m\n\u001b[0m",
      "\u001b[1;31mAttributeError\u001b[0m: 'DataFrame' object has no attribute 'Job_Growth_Projection'"
     ]
    }
   ],
   "source": [
    "value_counts=job_Market.Job_Growth_Projection.value_counts()\n",
    "value_counts"
   ]
  },
  {
   "cell_type": "code",
   "execution_count": 98,
   "id": "0ce74364-39a6-4812-910e-aa189be9117b",
   "metadata": {},
   "outputs": [
    {
     "ename": "KeyError",
     "evalue": "'Job_Growth_Projection'",
     "output_type": "error",
     "traceback": [
      "\u001b[1;31m---------------------------------------------------------------------------\u001b[0m",
      "\u001b[1;31mKeyError\u001b[0m                                  Traceback (most recent call last)",
      "File \u001b[1;32mC:\\ProgramData\\anaconda3\\Lib\\site-packages\\pandas\\core\\indexes\\base.py:3805\u001b[0m, in \u001b[0;36mIndex.get_loc\u001b[1;34m(self, key)\u001b[0m\n\u001b[0;32m   3804\u001b[0m \u001b[38;5;28;01mtry\u001b[39;00m:\n\u001b[1;32m-> 3805\u001b[0m     \u001b[38;5;28;01mreturn\u001b[39;00m \u001b[38;5;28mself\u001b[39m\u001b[38;5;241m.\u001b[39m_engine\u001b[38;5;241m.\u001b[39mget_loc(casted_key)\n\u001b[0;32m   3806\u001b[0m \u001b[38;5;28;01mexcept\u001b[39;00m \u001b[38;5;167;01mKeyError\u001b[39;00m \u001b[38;5;28;01mas\u001b[39;00m err:\n",
      "File \u001b[1;32mindex.pyx:167\u001b[0m, in \u001b[0;36mpandas._libs.index.IndexEngine.get_loc\u001b[1;34m()\u001b[0m\n",
      "File \u001b[1;32mindex.pyx:196\u001b[0m, in \u001b[0;36mpandas._libs.index.IndexEngine.get_loc\u001b[1;34m()\u001b[0m\n",
      "File \u001b[1;32mpandas\\\\_libs\\\\hashtable_class_helper.pxi:7081\u001b[0m, in \u001b[0;36mpandas._libs.hashtable.PyObjectHashTable.get_item\u001b[1;34m()\u001b[0m\n",
      "File \u001b[1;32mpandas\\\\_libs\\\\hashtable_class_helper.pxi:7089\u001b[0m, in \u001b[0;36mpandas._libs.hashtable.PyObjectHashTable.get_item\u001b[1;34m()\u001b[0m\n",
      "\u001b[1;31mKeyError\u001b[0m: 'Job_Growth_Projection'",
      "\nThe above exception was the direct cause of the following exception:\n",
      "\u001b[1;31mKeyError\u001b[0m                                  Traceback (most recent call last)",
      "Cell \u001b[1;32mIn[98], line 1\u001b[0m\n\u001b[1;32m----> 1\u001b[0m growth_projection \u001b[38;5;241m=\u001b[39m job_Market[\u001b[38;5;124m'\u001b[39m\u001b[38;5;124mJob_Growth_Projection\u001b[39m\u001b[38;5;124m'\u001b[39m]\u001b[38;5;241m.\u001b[39mvalue_counts()\u001b[38;5;241m.\u001b[39mreset_index()\n\u001b[0;32m      2\u001b[0m growth_projection\u001b[38;5;241m.\u001b[39mcolumns \u001b[38;5;241m=\u001b[39m[\u001b[38;5;124m'\u001b[39m\u001b[38;5;124mJob_Growth_Projection\u001b[39m\u001b[38;5;124m'\u001b[39m,\u001b[38;5;124m'\u001b[39m\u001b[38;5;124mCount\u001b[39m\u001b[38;5;124m'\u001b[39m]\n\u001b[0;32m      3\u001b[0m fig \u001b[38;5;241m=\u001b[39m px\u001b[38;5;241m.\u001b[39mbar(growth_projection, \n\u001b[0;32m      4\u001b[0m               x \u001b[38;5;241m=\u001b[39m \u001b[38;5;124m'\u001b[39m\u001b[38;5;124mJob_Growth_Projection\u001b[39m\u001b[38;5;124m'\u001b[39m, y \u001b[38;5;241m=\u001b[39m \u001b[38;5;124m'\u001b[39m\u001b[38;5;124mCount\u001b[39m\u001b[38;5;124m'\u001b[39m, \n\u001b[0;32m      5\u001b[0m               title \u001b[38;5;241m=\u001b[39m \u001b[38;5;124m\"\u001b[39m\u001b[38;5;124mJob Growth Projection Distribution\u001b[39m\u001b[38;5;124m\"\u001b[39m, \n\u001b[1;32m   (...)\u001b[0m\n\u001b[0;32m      9\u001b[0m              height \u001b[38;5;241m=\u001b[39m \u001b[38;5;241m500\u001b[39m\n\u001b[0;32m     10\u001b[0m             )\n",
      "File \u001b[1;32mC:\\ProgramData\\anaconda3\\Lib\\site-packages\\pandas\\core\\frame.py:4102\u001b[0m, in \u001b[0;36mDataFrame.__getitem__\u001b[1;34m(self, key)\u001b[0m\n\u001b[0;32m   4100\u001b[0m \u001b[38;5;28;01mif\u001b[39;00m \u001b[38;5;28mself\u001b[39m\u001b[38;5;241m.\u001b[39mcolumns\u001b[38;5;241m.\u001b[39mnlevels \u001b[38;5;241m>\u001b[39m \u001b[38;5;241m1\u001b[39m:\n\u001b[0;32m   4101\u001b[0m     \u001b[38;5;28;01mreturn\u001b[39;00m \u001b[38;5;28mself\u001b[39m\u001b[38;5;241m.\u001b[39m_getitem_multilevel(key)\n\u001b[1;32m-> 4102\u001b[0m indexer \u001b[38;5;241m=\u001b[39m \u001b[38;5;28mself\u001b[39m\u001b[38;5;241m.\u001b[39mcolumns\u001b[38;5;241m.\u001b[39mget_loc(key)\n\u001b[0;32m   4103\u001b[0m \u001b[38;5;28;01mif\u001b[39;00m is_integer(indexer):\n\u001b[0;32m   4104\u001b[0m     indexer \u001b[38;5;241m=\u001b[39m [indexer]\n",
      "File \u001b[1;32mC:\\ProgramData\\anaconda3\\Lib\\site-packages\\pandas\\core\\indexes\\base.py:3812\u001b[0m, in \u001b[0;36mIndex.get_loc\u001b[1;34m(self, key)\u001b[0m\n\u001b[0;32m   3807\u001b[0m     \u001b[38;5;28;01mif\u001b[39;00m \u001b[38;5;28misinstance\u001b[39m(casted_key, \u001b[38;5;28mslice\u001b[39m) \u001b[38;5;129;01mor\u001b[39;00m (\n\u001b[0;32m   3808\u001b[0m         \u001b[38;5;28misinstance\u001b[39m(casted_key, abc\u001b[38;5;241m.\u001b[39mIterable)\n\u001b[0;32m   3809\u001b[0m         \u001b[38;5;129;01mand\u001b[39;00m \u001b[38;5;28many\u001b[39m(\u001b[38;5;28misinstance\u001b[39m(x, \u001b[38;5;28mslice\u001b[39m) \u001b[38;5;28;01mfor\u001b[39;00m x \u001b[38;5;129;01min\u001b[39;00m casted_key)\n\u001b[0;32m   3810\u001b[0m     ):\n\u001b[0;32m   3811\u001b[0m         \u001b[38;5;28;01mraise\u001b[39;00m InvalidIndexError(key)\n\u001b[1;32m-> 3812\u001b[0m     \u001b[38;5;28;01mraise\u001b[39;00m \u001b[38;5;167;01mKeyError\u001b[39;00m(key) \u001b[38;5;28;01mfrom\u001b[39;00m \u001b[38;5;21;01merr\u001b[39;00m\n\u001b[0;32m   3813\u001b[0m \u001b[38;5;28;01mexcept\u001b[39;00m \u001b[38;5;167;01mTypeError\u001b[39;00m:\n\u001b[0;32m   3814\u001b[0m     \u001b[38;5;66;03m# If we have a listlike key, _check_indexing_error will raise\u001b[39;00m\n\u001b[0;32m   3815\u001b[0m     \u001b[38;5;66;03m#  InvalidIndexError. Otherwise we fall through and re-raise\u001b[39;00m\n\u001b[0;32m   3816\u001b[0m     \u001b[38;5;66;03m#  the TypeError.\u001b[39;00m\n\u001b[0;32m   3817\u001b[0m     \u001b[38;5;28mself\u001b[39m\u001b[38;5;241m.\u001b[39m_check_indexing_error(key)\n",
      "\u001b[1;31mKeyError\u001b[0m: 'Job_Growth_Projection'"
     ]
    }
   ],
   "source": [
    "growth_projection = job_Market['Job_Growth_Projection'].value_counts().reset_index()\n",
    "growth_projection.columns =['Job_Growth_Projection','Count']\n",
    "fig = px.bar(growth_projection, \n",
    "              x = 'Job_Growth_Projection', y = 'Count', \n",
    "              title = \"Job Growth Projection Distribution\", \n",
    "              labels = {'Job_Growth_Projection': 'Job Growth Projection', 'Job_Growth_Projection': 'Count'},\n",
    "            text_auto = True,\n",
    "            color = 'Job_Growth_Projection',\n",
    "             height = 500\n",
    "            )\n",
    "fig.show()"
   ]
  },
  {
   "cell_type": "markdown",
   "id": "58bf559e-6b2a-4bdd-acf7-3907d490b929",
   "metadata": {},
   "source": [
    "# Machine Learning"
   ]
  },
  {
   "cell_type": "code",
   "execution_count": 99,
   "id": "d51c67e8-a5ab-4199-806a-b52b1c818f5e",
   "metadata": {},
   "outputs": [],
   "source": [
    "# Features (X) and Target (y)\n",
    "X = job_Market.drop('Job_Growth_Projection_Growth', axis=1)\n",
    "y = job_Market['Job_Growth_Projection_Growth']\n",
    "\n",
    "# this code separates your dataset into features (X) and the target variable (y).\n",
    "# X contains all the columns except for 'Salary_USD', which is what you're trying\n",
    "# to predict and is stored in y."
   ]
  },
  {
   "cell_type": "code",
   "execution_count": 100,
   "id": "7c2b2938-d5e1-4afb-9676-aeac6dec3393",
   "metadata": {},
   "outputs": [],
   "source": [
    "from sklearn.model_selection import train_test_split\n",
    "\n",
    "# Split the data (70% training, 30% testing)\n",
    "X_train, X_test, y_train, y_test = train_test_split(X, y, test_size=0.3, random_state=42)\n",
    "\n",
    "# This code splits the dataset into training and testing sets,\n",
    "# with 70% of the data allocated for training the model and 30% for testing its \n",
    "# performance."
   ]
  },
  {
   "cell_type": "code",
   "execution_count": 101,
   "id": "56e42db4-ac7e-4f67-b3fa-ebedb5cd040d",
   "metadata": {},
   "outputs": [],
   "source": [
    "from sklearn.preprocessing import StandardScaler\n",
    "\n",
    "# Initialize the scaler\n",
    "scaler = StandardScaler()\n",
    "\n",
    "# Fit the scaler on the training data and transform it\n",
    "X_train_scaled = scaler.fit_transform(X_train)\n",
    "X_test_scaled = scaler.transform(X_test)\n",
    "\n",
    "# This code standardizes the features in the training and test datasets using\n",
    "# StandardScaler. This process ensures that all features contribute equally to the \n",
    "# model, which can improve the performance of many machine learning algorithms. "
   ]
  },
  {
   "cell_type": "code",
   "execution_count": 102,
   "id": "b1f36a67-d0d2-4e01-b9b2-4420115721b7",
   "metadata": {},
   "outputs": [
    {
     "data": {
      "text/html": [
       "<style>#sk-container-id-1 {\n",
       "  /* Definition of color scheme common for light and dark mode */\n",
       "  --sklearn-color-text: black;\n",
       "  --sklearn-color-line: gray;\n",
       "  /* Definition of color scheme for unfitted estimators */\n",
       "  --sklearn-color-unfitted-level-0: #fff5e6;\n",
       "  --sklearn-color-unfitted-level-1: #f6e4d2;\n",
       "  --sklearn-color-unfitted-level-2: #ffe0b3;\n",
       "  --sklearn-color-unfitted-level-3: chocolate;\n",
       "  /* Definition of color scheme for fitted estimators */\n",
       "  --sklearn-color-fitted-level-0: #f0f8ff;\n",
       "  --sklearn-color-fitted-level-1: #d4ebff;\n",
       "  --sklearn-color-fitted-level-2: #b3dbfd;\n",
       "  --sklearn-color-fitted-level-3: cornflowerblue;\n",
       "\n",
       "  /* Specific color for light theme */\n",
       "  --sklearn-color-text-on-default-background: var(--sg-text-color, var(--theme-code-foreground, var(--jp-content-font-color1, black)));\n",
       "  --sklearn-color-background: var(--sg-background-color, var(--theme-background, var(--jp-layout-color0, white)));\n",
       "  --sklearn-color-border-box: var(--sg-text-color, var(--theme-code-foreground, var(--jp-content-font-color1, black)));\n",
       "  --sklearn-color-icon: #696969;\n",
       "\n",
       "  @media (prefers-color-scheme: dark) {\n",
       "    /* Redefinition of color scheme for dark theme */\n",
       "    --sklearn-color-text-on-default-background: var(--sg-text-color, var(--theme-code-foreground, var(--jp-content-font-color1, white)));\n",
       "    --sklearn-color-background: var(--sg-background-color, var(--theme-background, var(--jp-layout-color0, #111)));\n",
       "    --sklearn-color-border-box: var(--sg-text-color, var(--theme-code-foreground, var(--jp-content-font-color1, white)));\n",
       "    --sklearn-color-icon: #878787;\n",
       "  }\n",
       "}\n",
       "\n",
       "#sk-container-id-1 {\n",
       "  color: var(--sklearn-color-text);\n",
       "}\n",
       "\n",
       "#sk-container-id-1 pre {\n",
       "  padding: 0;\n",
       "}\n",
       "\n",
       "#sk-container-id-1 input.sk-hidden--visually {\n",
       "  border: 0;\n",
       "  clip: rect(1px 1px 1px 1px);\n",
       "  clip: rect(1px, 1px, 1px, 1px);\n",
       "  height: 1px;\n",
       "  margin: -1px;\n",
       "  overflow: hidden;\n",
       "  padding: 0;\n",
       "  position: absolute;\n",
       "  width: 1px;\n",
       "}\n",
       "\n",
       "#sk-container-id-1 div.sk-dashed-wrapped {\n",
       "  border: 1px dashed var(--sklearn-color-line);\n",
       "  margin: 0 0.4em 0.5em 0.4em;\n",
       "  box-sizing: border-box;\n",
       "  padding-bottom: 0.4em;\n",
       "  background-color: var(--sklearn-color-background);\n",
       "}\n",
       "\n",
       "#sk-container-id-1 div.sk-container {\n",
       "  /* jupyter's `normalize.less` sets `[hidden] { display: none; }`\n",
       "     but bootstrap.min.css set `[hidden] { display: none !important; }`\n",
       "     so we also need the `!important` here to be able to override the\n",
       "     default hidden behavior on the sphinx rendered scikit-learn.org.\n",
       "     See: https://github.com/scikit-learn/scikit-learn/issues/21755 */\n",
       "  display: inline-block !important;\n",
       "  position: relative;\n",
       "}\n",
       "\n",
       "#sk-container-id-1 div.sk-text-repr-fallback {\n",
       "  display: none;\n",
       "}\n",
       "\n",
       "div.sk-parallel-item,\n",
       "div.sk-serial,\n",
       "div.sk-item {\n",
       "  /* draw centered vertical line to link estimators */\n",
       "  background-image: linear-gradient(var(--sklearn-color-text-on-default-background), var(--sklearn-color-text-on-default-background));\n",
       "  background-size: 2px 100%;\n",
       "  background-repeat: no-repeat;\n",
       "  background-position: center center;\n",
       "}\n",
       "\n",
       "/* Parallel-specific style estimator block */\n",
       "\n",
       "#sk-container-id-1 div.sk-parallel-item::after {\n",
       "  content: \"\";\n",
       "  width: 100%;\n",
       "  border-bottom: 2px solid var(--sklearn-color-text-on-default-background);\n",
       "  flex-grow: 1;\n",
       "}\n",
       "\n",
       "#sk-container-id-1 div.sk-parallel {\n",
       "  display: flex;\n",
       "  align-items: stretch;\n",
       "  justify-content: center;\n",
       "  background-color: var(--sklearn-color-background);\n",
       "  position: relative;\n",
       "}\n",
       "\n",
       "#sk-container-id-1 div.sk-parallel-item {\n",
       "  display: flex;\n",
       "  flex-direction: column;\n",
       "}\n",
       "\n",
       "#sk-container-id-1 div.sk-parallel-item:first-child::after {\n",
       "  align-self: flex-end;\n",
       "  width: 50%;\n",
       "}\n",
       "\n",
       "#sk-container-id-1 div.sk-parallel-item:last-child::after {\n",
       "  align-self: flex-start;\n",
       "  width: 50%;\n",
       "}\n",
       "\n",
       "#sk-container-id-1 div.sk-parallel-item:only-child::after {\n",
       "  width: 0;\n",
       "}\n",
       "\n",
       "/* Serial-specific style estimator block */\n",
       "\n",
       "#sk-container-id-1 div.sk-serial {\n",
       "  display: flex;\n",
       "  flex-direction: column;\n",
       "  align-items: center;\n",
       "  background-color: var(--sklearn-color-background);\n",
       "  padding-right: 1em;\n",
       "  padding-left: 1em;\n",
       "}\n",
       "\n",
       "\n",
       "/* Toggleable style: style used for estimator/Pipeline/ColumnTransformer box that is\n",
       "clickable and can be expanded/collapsed.\n",
       "- Pipeline and ColumnTransformer use this feature and define the default style\n",
       "- Estimators will overwrite some part of the style using the `sk-estimator` class\n",
       "*/\n",
       "\n",
       "/* Pipeline and ColumnTransformer style (default) */\n",
       "\n",
       "#sk-container-id-1 div.sk-toggleable {\n",
       "  /* Default theme specific background. It is overwritten whether we have a\n",
       "  specific estimator or a Pipeline/ColumnTransformer */\n",
       "  background-color: var(--sklearn-color-background);\n",
       "}\n",
       "\n",
       "/* Toggleable label */\n",
       "#sk-container-id-1 label.sk-toggleable__label {\n",
       "  cursor: pointer;\n",
       "  display: block;\n",
       "  width: 100%;\n",
       "  margin-bottom: 0;\n",
       "  padding: 0.5em;\n",
       "  box-sizing: border-box;\n",
       "  text-align: center;\n",
       "}\n",
       "\n",
       "#sk-container-id-1 label.sk-toggleable__label-arrow:before {\n",
       "  /* Arrow on the left of the label */\n",
       "  content: \"▸\";\n",
       "  float: left;\n",
       "  margin-right: 0.25em;\n",
       "  color: var(--sklearn-color-icon);\n",
       "}\n",
       "\n",
       "#sk-container-id-1 label.sk-toggleable__label-arrow:hover:before {\n",
       "  color: var(--sklearn-color-text);\n",
       "}\n",
       "\n",
       "/* Toggleable content - dropdown */\n",
       "\n",
       "#sk-container-id-1 div.sk-toggleable__content {\n",
       "  max-height: 0;\n",
       "  max-width: 0;\n",
       "  overflow: hidden;\n",
       "  text-align: left;\n",
       "  /* unfitted */\n",
       "  background-color: var(--sklearn-color-unfitted-level-0);\n",
       "}\n",
       "\n",
       "#sk-container-id-1 div.sk-toggleable__content.fitted {\n",
       "  /* fitted */\n",
       "  background-color: var(--sklearn-color-fitted-level-0);\n",
       "}\n",
       "\n",
       "#sk-container-id-1 div.sk-toggleable__content pre {\n",
       "  margin: 0.2em;\n",
       "  border-radius: 0.25em;\n",
       "  color: var(--sklearn-color-text);\n",
       "  /* unfitted */\n",
       "  background-color: var(--sklearn-color-unfitted-level-0);\n",
       "}\n",
       "\n",
       "#sk-container-id-1 div.sk-toggleable__content.fitted pre {\n",
       "  /* unfitted */\n",
       "  background-color: var(--sklearn-color-fitted-level-0);\n",
       "}\n",
       "\n",
       "#sk-container-id-1 input.sk-toggleable__control:checked~div.sk-toggleable__content {\n",
       "  /* Expand drop-down */\n",
       "  max-height: 200px;\n",
       "  max-width: 100%;\n",
       "  overflow: auto;\n",
       "}\n",
       "\n",
       "#sk-container-id-1 input.sk-toggleable__control:checked~label.sk-toggleable__label-arrow:before {\n",
       "  content: \"▾\";\n",
       "}\n",
       "\n",
       "/* Pipeline/ColumnTransformer-specific style */\n",
       "\n",
       "#sk-container-id-1 div.sk-label input.sk-toggleable__control:checked~label.sk-toggleable__label {\n",
       "  color: var(--sklearn-color-text);\n",
       "  background-color: var(--sklearn-color-unfitted-level-2);\n",
       "}\n",
       "\n",
       "#sk-container-id-1 div.sk-label.fitted input.sk-toggleable__control:checked~label.sk-toggleable__label {\n",
       "  background-color: var(--sklearn-color-fitted-level-2);\n",
       "}\n",
       "\n",
       "/* Estimator-specific style */\n",
       "\n",
       "/* Colorize estimator box */\n",
       "#sk-container-id-1 div.sk-estimator input.sk-toggleable__control:checked~label.sk-toggleable__label {\n",
       "  /* unfitted */\n",
       "  background-color: var(--sklearn-color-unfitted-level-2);\n",
       "}\n",
       "\n",
       "#sk-container-id-1 div.sk-estimator.fitted input.sk-toggleable__control:checked~label.sk-toggleable__label {\n",
       "  /* fitted */\n",
       "  background-color: var(--sklearn-color-fitted-level-2);\n",
       "}\n",
       "\n",
       "#sk-container-id-1 div.sk-label label.sk-toggleable__label,\n",
       "#sk-container-id-1 div.sk-label label {\n",
       "  /* The background is the default theme color */\n",
       "  color: var(--sklearn-color-text-on-default-background);\n",
       "}\n",
       "\n",
       "/* On hover, darken the color of the background */\n",
       "#sk-container-id-1 div.sk-label:hover label.sk-toggleable__label {\n",
       "  color: var(--sklearn-color-text);\n",
       "  background-color: var(--sklearn-color-unfitted-level-2);\n",
       "}\n",
       "\n",
       "/* Label box, darken color on hover, fitted */\n",
       "#sk-container-id-1 div.sk-label.fitted:hover label.sk-toggleable__label.fitted {\n",
       "  color: var(--sklearn-color-text);\n",
       "  background-color: var(--sklearn-color-fitted-level-2);\n",
       "}\n",
       "\n",
       "/* Estimator label */\n",
       "\n",
       "#sk-container-id-1 div.sk-label label {\n",
       "  font-family: monospace;\n",
       "  font-weight: bold;\n",
       "  display: inline-block;\n",
       "  line-height: 1.2em;\n",
       "}\n",
       "\n",
       "#sk-container-id-1 div.sk-label-container {\n",
       "  text-align: center;\n",
       "}\n",
       "\n",
       "/* Estimator-specific */\n",
       "#sk-container-id-1 div.sk-estimator {\n",
       "  font-family: monospace;\n",
       "  border: 1px dotted var(--sklearn-color-border-box);\n",
       "  border-radius: 0.25em;\n",
       "  box-sizing: border-box;\n",
       "  margin-bottom: 0.5em;\n",
       "  /* unfitted */\n",
       "  background-color: var(--sklearn-color-unfitted-level-0);\n",
       "}\n",
       "\n",
       "#sk-container-id-1 div.sk-estimator.fitted {\n",
       "  /* fitted */\n",
       "  background-color: var(--sklearn-color-fitted-level-0);\n",
       "}\n",
       "\n",
       "/* on hover */\n",
       "#sk-container-id-1 div.sk-estimator:hover {\n",
       "  /* unfitted */\n",
       "  background-color: var(--sklearn-color-unfitted-level-2);\n",
       "}\n",
       "\n",
       "#sk-container-id-1 div.sk-estimator.fitted:hover {\n",
       "  /* fitted */\n",
       "  background-color: var(--sklearn-color-fitted-level-2);\n",
       "}\n",
       "\n",
       "/* Specification for estimator info (e.g. \"i\" and \"?\") */\n",
       "\n",
       "/* Common style for \"i\" and \"?\" */\n",
       "\n",
       ".sk-estimator-doc-link,\n",
       "a:link.sk-estimator-doc-link,\n",
       "a:visited.sk-estimator-doc-link {\n",
       "  float: right;\n",
       "  font-size: smaller;\n",
       "  line-height: 1em;\n",
       "  font-family: monospace;\n",
       "  background-color: var(--sklearn-color-background);\n",
       "  border-radius: 1em;\n",
       "  height: 1em;\n",
       "  width: 1em;\n",
       "  text-decoration: none !important;\n",
       "  margin-left: 1ex;\n",
       "  /* unfitted */\n",
       "  border: var(--sklearn-color-unfitted-level-1) 1pt solid;\n",
       "  color: var(--sklearn-color-unfitted-level-1);\n",
       "}\n",
       "\n",
       ".sk-estimator-doc-link.fitted,\n",
       "a:link.sk-estimator-doc-link.fitted,\n",
       "a:visited.sk-estimator-doc-link.fitted {\n",
       "  /* fitted */\n",
       "  border: var(--sklearn-color-fitted-level-1) 1pt solid;\n",
       "  color: var(--sklearn-color-fitted-level-1);\n",
       "}\n",
       "\n",
       "/* On hover */\n",
       "div.sk-estimator:hover .sk-estimator-doc-link:hover,\n",
       ".sk-estimator-doc-link:hover,\n",
       "div.sk-label-container:hover .sk-estimator-doc-link:hover,\n",
       ".sk-estimator-doc-link:hover {\n",
       "  /* unfitted */\n",
       "  background-color: var(--sklearn-color-unfitted-level-3);\n",
       "  color: var(--sklearn-color-background);\n",
       "  text-decoration: none;\n",
       "}\n",
       "\n",
       "div.sk-estimator.fitted:hover .sk-estimator-doc-link.fitted:hover,\n",
       ".sk-estimator-doc-link.fitted:hover,\n",
       "div.sk-label-container:hover .sk-estimator-doc-link.fitted:hover,\n",
       ".sk-estimator-doc-link.fitted:hover {\n",
       "  /* fitted */\n",
       "  background-color: var(--sklearn-color-fitted-level-3);\n",
       "  color: var(--sklearn-color-background);\n",
       "  text-decoration: none;\n",
       "}\n",
       "\n",
       "/* Span, style for the box shown on hovering the info icon */\n",
       ".sk-estimator-doc-link span {\n",
       "  display: none;\n",
       "  z-index: 9999;\n",
       "  position: relative;\n",
       "  font-weight: normal;\n",
       "  right: .2ex;\n",
       "  padding: .5ex;\n",
       "  margin: .5ex;\n",
       "  width: min-content;\n",
       "  min-width: 20ex;\n",
       "  max-width: 50ex;\n",
       "  color: var(--sklearn-color-text);\n",
       "  box-shadow: 2pt 2pt 4pt #999;\n",
       "  /* unfitted */\n",
       "  background: var(--sklearn-color-unfitted-level-0);\n",
       "  border: .5pt solid var(--sklearn-color-unfitted-level-3);\n",
       "}\n",
       "\n",
       ".sk-estimator-doc-link.fitted span {\n",
       "  /* fitted */\n",
       "  background: var(--sklearn-color-fitted-level-0);\n",
       "  border: var(--sklearn-color-fitted-level-3);\n",
       "}\n",
       "\n",
       ".sk-estimator-doc-link:hover span {\n",
       "  display: block;\n",
       "}\n",
       "\n",
       "/* \"?\"-specific style due to the `<a>` HTML tag */\n",
       "\n",
       "#sk-container-id-1 a.estimator_doc_link {\n",
       "  float: right;\n",
       "  font-size: 1rem;\n",
       "  line-height: 1em;\n",
       "  font-family: monospace;\n",
       "  background-color: var(--sklearn-color-background);\n",
       "  border-radius: 1rem;\n",
       "  height: 1rem;\n",
       "  width: 1rem;\n",
       "  text-decoration: none;\n",
       "  /* unfitted */\n",
       "  color: var(--sklearn-color-unfitted-level-1);\n",
       "  border: var(--sklearn-color-unfitted-level-1) 1pt solid;\n",
       "}\n",
       "\n",
       "#sk-container-id-1 a.estimator_doc_link.fitted {\n",
       "  /* fitted */\n",
       "  border: var(--sklearn-color-fitted-level-1) 1pt solid;\n",
       "  color: var(--sklearn-color-fitted-level-1);\n",
       "}\n",
       "\n",
       "/* On hover */\n",
       "#sk-container-id-1 a.estimator_doc_link:hover {\n",
       "  /* unfitted */\n",
       "  background-color: var(--sklearn-color-unfitted-level-3);\n",
       "  color: var(--sklearn-color-background);\n",
       "  text-decoration: none;\n",
       "}\n",
       "\n",
       "#sk-container-id-1 a.estimator_doc_link.fitted:hover {\n",
       "  /* fitted */\n",
       "  background-color: var(--sklearn-color-fitted-level-3);\n",
       "}\n",
       "</style><div id=\"sk-container-id-1\" class=\"sk-top-container\"><div class=\"sk-text-repr-fallback\"><pre>RandomForestRegressor(random_state=42)</pre><b>In a Jupyter environment, please rerun this cell to show the HTML representation or trust the notebook. <br />On GitHub, the HTML representation is unable to render, please try loading this page with nbviewer.org.</b></div><div class=\"sk-container\" hidden><div class=\"sk-item\"><div class=\"sk-estimator fitted sk-toggleable\"><input class=\"sk-toggleable__control sk-hidden--visually\" id=\"sk-estimator-id-1\" type=\"checkbox\" checked><label for=\"sk-estimator-id-1\" class=\"sk-toggleable__label fitted sk-toggleable__label-arrow fitted\">&nbsp;&nbsp;RandomForestRegressor<a class=\"sk-estimator-doc-link fitted\" rel=\"noreferrer\" target=\"_blank\" href=\"https://scikit-learn.org/1.4/modules/generated/sklearn.ensemble.RandomForestRegressor.html\">?<span>Documentation for RandomForestRegressor</span></a><span class=\"sk-estimator-doc-link fitted\">i<span>Fitted</span></span></label><div class=\"sk-toggleable__content fitted\"><pre>RandomForestRegressor(random_state=42)</pre></div> </div></div></div></div>"
      ],
      "text/plain": [
       "RandomForestRegressor(random_state=42)"
      ]
     },
     "execution_count": 102,
     "metadata": {},
     "output_type": "execute_result"
    }
   ],
   "source": [
    "from sklearn.ensemble import RandomForestRegressor\n",
    "\n",
    "# Initialize the Random Forest model\n",
    "model = RandomForestRegressor(n_estimators=100, random_state=42)\n",
    "\n",
    "# Train the model\n",
    "model.fit(X_train_scaled, y_train)\n",
    "\n",
    "# This code initializes a Random Forest regression model with 100 trees and trains\n",
    "# it using the scaled training data. The model learns how to predict the target \n",
    "# variable (y_train) based on the features (X_train_scaled)."
   ]
  },
  {
   "cell_type": "code",
   "execution_count": 103,
   "id": "e1ba89f9-0c59-462b-b0a9-a387500ab44b",
   "metadata": {},
   "outputs": [
    {
     "name": "stdout",
     "output_type": "stream",
     "text": [
      "Mean Absolute Error: 0.3376\n",
      "R-squared: 0.20283796926667985\n"
     ]
    }
   ],
   "source": [
    "from sklearn.metrics import mean_absolute_error, r2_score # imports two evaluation metrics from sklearn.metrics module.(mean_absolute_error and r2_score)   \n",
    "\n",
    "# Make predictions on the test set\n",
    "y_pred = model.predict(X_test_scaled)\n",
    "\n",
    "# Evaluate the model\n",
    "mae = mean_absolute_error(y_test, y_pred)\n",
    "r2 = r2_score(y_test, y_pred)\n",
    "\n",
    "print(f'Mean Absolute Error: {mae}')\n",
    "print(f'R-squared: {r2}')\n",
    "\n",
    "#mean_absolute_error: Measures the average magnitude of the errors in a set of\n",
    "# predictions, without considering their direction.\n",
    "\n",
    "# r2_score: It provides a measure of how well the model fits the data.\n",
    "\n"
   ]
  },
  {
   "cell_type": "code",
   "execution_count": 104,
   "id": "af2ac63b-a966-4363-a67c-3fe451655d23",
   "metadata": {},
   "outputs": [],
   "source": [
    "# Import necessary libraries\n",
    "from sklearn.model_selection import train_test_split, GridSearchCV\n",
    "from sklearn.tree import DecisionTreeClassifier\n",
    "from sklearn.metrics import accuracy_score, classification_report\n",
    "from sklearn.preprocessing import OneHotEncoder\n",
    "from sklearn.compose import ColumnTransformer\n",
    "from sklearn.linear_model import LinearRegression #imports the LinearRegression model, which is used for predicting continuous outcomes by fitting a straight line to the data.\n",
    "from sklearn.tree import DecisionTreeRegressor #makes predictions by splitting the data into branches based on feature values. \n",
    "from sklearn.ensemble import GradientBoostingRegressor #an ensemble learning technique that combines multiple weak models (usually decision trees) to create a stronger model.\n",
    "from sklearn.svm import SVR #(Support Vector Regression) model is used for predicting continuous outcomes.\n",
    "from sklearn.metrics import mean_absolute_error, r2_score #These metrics are used to evaluate the performance of regression models\n",
    "from sklearn.model_selection import cross_val_score #used to evaluate the model’s performance by splitting the dataset into multiple subsets \n",
    "\n",
    "# This code imports various regression models, evaluation metrics, and \n",
    "# cross-validation tools from Scikit-learn. These components will allow you to \n",
    "# build, evaluate, and compare the performance of different regression algorithms\n",
    "# on your dataset"
   ]
  },
  {
   "cell_type": "code",
   "execution_count": 105,
   "id": "6b34fb67-d7e7-4e25-b67b-52a7d6204107",
   "metadata": {},
   "outputs": [
    {
     "name": "stdout",
     "output_type": "stream",
     "text": [
      "Linear Regression CV MAE: 0.38\n",
      "Linear Regression MAE: 0.38, R-squared: 0.17\n"
     ]
    }
   ],
   "source": [
    "# Initialize the model\n",
    "lr_model = LinearRegression()\n",
    "\n",
    "# Train the model\n",
    "lr_model.fit(X_train_scaled, y_train)\n",
    "\n",
    "# Cross-validation score\n",
    "lr_cv_scores = cross_val_score(lr_model, X_train_scaled, y_train, cv=5, scoring='neg_mean_absolute_error')\n",
    "print(f\"Linear Regression CV MAE: {-lr_cv_scores.mean():.2f}\")\n",
    "\n",
    "# Predict on the test set\n",
    "lr_y_pred = lr_model.predict(X_test_scaled)\n",
    "\n",
    "# Test set evaluation\n",
    "lr_mae = mean_absolute_error(y_test, lr_y_pred)\n",
    "lr_r2 = r2_score(y_test, lr_y_pred)\n",
    "\n",
    "print(f\"Linear Regression MAE: {lr_mae:.2f}, R-squared: {lr_r2:.2f}\")\n",
    "\n",
    "# This code trains a linear regression model on the scaled training data, \n",
    "# evaluates its performance using cross-validation and makes predictions on the \n",
    "# test set.It evaluates the model's performance on the test set using mean\n",
    "# absolute error and R-squared, providing a comprehensive assessment of the model\n",
    "# 's accuracy and fit."
   ]
  },
  {
   "cell_type": "code",
   "execution_count": 106,
   "id": "4aa5b56d-3255-42ae-bd7a-c469f434166b",
   "metadata": {},
   "outputs": [
    {
     "name": "stdout",
     "output_type": "stream",
     "text": [
      "Decision Tree CV MAE: 0.36\n",
      "Decision Tree MAE: 0.31, R-squared: -0.34\n"
     ]
    }
   ],
   "source": [
    "# Initialize the model\n",
    "dt_model = DecisionTreeRegressor(random_state=42)\n",
    "\n",
    "# Train the model\n",
    "dt_model.fit(X_train_scaled, y_train)\n",
    "\n",
    "# Cross-validation score\n",
    "dt_cv_scores = cross_val_score(dt_model, X_train_scaled, y_train, cv=5, scoring='neg_mean_absolute_error')\n",
    "print(f\"Decision Tree CV MAE: {-dt_cv_scores.mean():.2f}\")\n",
    "\n",
    "# Predict on the test set\n",
    "dt_y_pred = dt_model.predict(X_test_scaled)\n",
    "\n",
    "# Test set evaluation\n",
    "dt_mae = mean_absolute_error(y_test, dt_y_pred)\n",
    "dt_r2 = r2_score(y_test, dt_y_pred)\n",
    "\n",
    "print(f\"Decision Tree MAE: {dt_mae:.2f}, R-squared: {dt_r2:.2f}\")\n",
    "\n",
    "# this code trains a decision tree regression model on the scaled training data,\n",
    "# evaluates its performance using cross-validation (calculating the mean absolute\n",
    "# error), and makes predictions on the test set. "
   ]
  },
  {
   "cell_type": "code",
   "execution_count": 107,
   "id": "75053681-cdcc-44be-9dd6-3f5878be7101",
   "metadata": {},
   "outputs": [
    {
     "name": "stdout",
     "output_type": "stream",
     "text": [
      "Random Forest CV MAE: 0.34\n",
      "Random Forest MAE: 0.34, R-squared: 0.20\n"
     ]
    }
   ],
   "source": [
    "# Initialize the Random Forest model\n",
    "rf_model = RandomForestRegressor(n_estimators=100, random_state=42)\n",
    "\n",
    "# Train the model\n",
    "rf_model.fit(X_train_scaled, y_train)\n",
    "\n",
    "# Cross-validation score\n",
    "rf_cv_scores = cross_val_score(rf_model, X_train_scaled, y_train, cv=5, scoring='neg_mean_absolute_error')\n",
    "print(f\"Random Forest CV MAE: {-rf_cv_scores.mean():.2f}\")\n",
    "\n",
    "# Predict on the test set\n",
    "rf_y_pred = rf_model.predict(X_test_scaled)\n",
    "\n",
    "# Test set evaluation\n",
    "rf_mae = mean_absolute_error(y_test, rf_y_pred)\n",
    "rf_r2 = r2_score(y_test, rf_y_pred)\n",
    "\n",
    "print(f\"Random Forest MAE: {rf_mae:.2f}, R-squared: {rf_r2:.2f}\")\n",
    "\n",
    "# this code trains a Random Forest regression model on the scaled training data, \n",
    "# evaluates its performance using cross-validation (calculating the mean absolute\n",
    "# error), and makes predictions on the test set. Finally,"
   ]
  },
  {
   "cell_type": "code",
   "execution_count": 108,
   "id": "9504cd74-14f0-42fb-a6eb-00b25f84468b",
   "metadata": {},
   "outputs": [
    {
     "name": "stdout",
     "output_type": "stream",
     "text": [
      "Gradient Boosting CV MAE: 0.37\n",
      "Gradient Boosting MAE: 0.37, R-squared: 0.16\n"
     ]
    }
   ],
   "source": [
    "# Initialize the Gradient Boosting model\n",
    "gb_model = GradientBoostingRegressor(random_state=42)\n",
    "\n",
    "# Train the model\n",
    "gb_model.fit(X_train_scaled, y_train)\n",
    "\n",
    "# Cross-validation score\n",
    "gb_cv_scores = cross_val_score(gb_model, X_train_scaled, y_train, cv=5, scoring='neg_mean_absolute_error')\n",
    "print(f\"Gradient Boosting CV MAE: {-gb_cv_scores.mean():.2f}\")\n",
    "\n",
    "# Predict on the test set\n",
    "gb_y_pred = gb_model.predict(X_test_scaled)\n",
    "\n",
    "# Test set evaluation\n",
    "gb_mae = mean_absolute_error(y_test, gb_y_pred)\n",
    "gb_r2 = r2_score(y_test, gb_y_pred)\n",
    "\n",
    "print(f\"Gradient Boosting MAE: {gb_mae:.2f}, R-squared: {gb_r2:.2f}\")\n",
    "\n",
    "# this code trains a Gradient Boosting regression model on the scaled training \n",
    "# data, evaluates its performance using cross-validation (calculating the mean \n",
    "# absolute error), and makes predictions on the test set.\n"
   ]
  },
  {
   "cell_type": "code",
   "execution_count": 109,
   "id": "be2fb509-6d8b-43b1-a7d1-a5ed5ca6d9c8",
   "metadata": {},
   "outputs": [
    {
     "name": "stdout",
     "output_type": "stream",
     "text": [
      "SVR CV MAE: 0.39\n",
      "SVR MAE: 0.40, R-squared: 0.07\n"
     ]
    }
   ],
   "source": [
    "# Initialize the SVR model\n",
    "svr_model = SVR()\n",
    "\n",
    "# Train the model\n",
    "svr_model.fit(X_train_scaled, y_train)\n",
    "\n",
    "# Cross-validation score\n",
    "svr_cv_scores = cross_val_score(svr_model, X_train_scaled, y_train, cv=5, scoring='neg_mean_absolute_error')\n",
    "print(f\"SVR CV MAE: {-svr_cv_scores.mean():.2f}\")\n",
    "\n",
    "# Predict on the test set\n",
    "svr_y_pred = svr_model.predict(X_test_scaled)\n",
    "\n",
    "# Test set evaluation\n",
    "svr_mae = mean_absolute_error(y_test, svr_y_pred)\n",
    "svr_r2 = r2_score(y_test, svr_y_pred)\n",
    "\n",
    "print(f\"SVR MAE: {svr_mae:.2f}, R-squared: {svr_r2:.2f}\")\n"
   ]
  },
  {
   "cell_type": "code",
   "execution_count": 110,
   "id": "f2cd1eb4-663f-43f5-b728-2c52d009308d",
   "metadata": {},
   "outputs": [
    {
     "name": "stdout",
     "output_type": "stream",
     "text": [
      "\n",
      "Model Performance Comparison:\n",
      "Linear Regression - MAE: 0.38, R-squared: 0.17\n",
      "Decision Tree - MAE: 0.31, R-squared: -0.34\n",
      "Random Forest - MAE: 0.34, R-squared: 0.20\n",
      "Gradient Boosting - MAE: 0.37, R-squared: 0.16\n",
      "SVR - MAE: 0.40, R-squared: 0.07\n"
     ]
    }
   ],
   "source": [
    "# Summary of results\n",
    "models = ['Linear Regression', 'Decision Tree', 'Random Forest', 'Gradient Boosting', 'SVR']\n",
    "mae_values = [lr_mae, dt_mae, rf_mae, gb_mae, svr_mae]\n",
    "r2_values = [lr_r2, dt_r2, rf_r2, gb_r2, svr_r2]\n",
    "\n",
    "# Print the table\n",
    "print(\"\\nModel Performance Comparison:\")\n",
    "for i in range(len(models)):\n",
    "    print(f\"{models[i]} - MAE: {mae_values[i]:.2f}, R-squared: {r2_values[i]:.2f}\")\n",
    "\n",
    "# The code effectively summarizes the performance metrics of the evaluated\n",
    "# regression models, allowing for easy comparison of their predictive capabilities. "
   ]
  },
  {
   "cell_type": "code",
   "execution_count": 111,
   "id": "f7b80e9d-47a3-4440-ad7d-814ccca952ed",
   "metadata": {},
   "outputs": [
    {
     "name": "stdout",
     "output_type": "stream",
     "text": [
      "Fitting 3 folds for each of 27 candidates, totalling 81 fits\n",
      "Best parameters for Random Forest: {'max_depth': 10, 'min_samples_split': 10, 'n_estimators': 200}\n"
     ]
    }
   ],
   "source": [
    "from sklearn.model_selection import GridSearchCV\n",
    "\n",
    "# Example for Random Forest\n",
    "param_grid = {\n",
    "    'n_estimators': [100, 200, 300],\n",
    "    'max_depth': [10, 20, 30],\n",
    "    'min_samples_split': [2, 5, 10]\n",
    "}\n",
    "\n",
    "# Create an instance of the Random Forest model (assuming rf_model is defined)\n",
    "# rf_model = RandomForestRegressor()  # Uncomment this line if you haven't defined rf_model yet\n",
    "\n",
    "grid_search = GridSearchCV(estimator=rf_model, param_grid=param_grid, cv=3, n_jobs=-1, verbose=2)\n",
    "grid_search.fit(X_train_scaled, y_train)\n",
    "\n",
    "# Best parameters\n",
    "print(f\"Best parameters for Random Forest: {grid_search.best_params_}\")\n",
    "\n",
    "\n",
    "# This code effectively sets up a grid search for tuning hyperparameters of the \n",
    "# Random Forest model. It defines a range of values to test for specific \n",
    "# hyperparameters, runs cross-validation to evaluate each combination, and \n",
    "# outputs the best-performing set of parameters."
   ]
  },
  {
   "cell_type": "code",
   "execution_count": 112,
   "id": "bc534cce-216d-466e-a6c3-573e71b317fd",
   "metadata": {},
   "outputs": [
    {
     "name": "stdout",
     "output_type": "stream",
     "text": [
      "\n",
      "Model Performance Comparison:\n",
      "Model                MAE (Lower is better) R-squared (Higher is better)\n",
      "------------------------------------------------------------\n",
      "Linear Regression    0.38                 0.17                \n",
      "Decision Tree        0.31                 -0.34               \n",
      "Random Forest        0.34                 0.20                \n",
      "Gradient Boosting    0.37                 0.16                \n",
      "SVR                  0.40                 0.07                \n"
     ]
    }
   ],
   "source": [
    "# Model names\n",
    "models = ['Linear Regression', 'Decision Tree', 'Random Forest', 'Gradient Boosting', 'SVR']\n",
    "\n",
    "# Mean Absolute Error for each model\n",
    "mae_values = [lr_mae, dt_mae, rf_mae, gb_mae, svr_mae]\n",
    "\n",
    "# R-squared for each model\n",
    "r2_values = [lr_r2, dt_r2, rf_r2, gb_r2, svr_r2]\n",
    "\n",
    "# Print the summary of test results\n",
    "print(\"\\nModel Performance Comparison:\")\n",
    "print(\"{:<20} {:<20} {:<20}\".format('Model', 'MAE (Lower is better)', 'R-squared (Higher is better)'))\n",
    "print(\"-\" * 60)\n",
    "for i in range(len(models)):\n",
    "    print(f\"{models[i]:<20} {mae_values[i]:<20.2f} {r2_values[i]:<20.2f}\")\n",
    "\n",
    "# This code creates a neatly formatted summary table that compares the performance\n",
    "# of several regression models based on their Mean Absolute Error and R-squared\n",
    "# values. \n"
   ]
  },
  {
   "cell_type": "code",
   "execution_count": 114,
   "id": "ef192ffe-1317-4a8a-81fc-f4ffb1afe35b",
   "metadata": {},
   "outputs": [
    {
     "name": "stdout",
     "output_type": "stream",
     "text": [
      "Fitting 5 folds for each of 36 candidates, totalling 180 fits\n",
      "Best parameters found:  {'classifier__max_depth': None, 'classifier__min_samples_leaf': 1, 'classifier__min_samples_split': 2}\n",
      "Accuracy: 52.50%\n",
      "\n",
      "Classification Report:\n",
      "               precision    recall  f1-score   support\n",
      "\n",
      "       False       0.59      0.57      0.58        23\n",
      "        True       0.44      0.47      0.46        17\n",
      "\n",
      "    accuracy                           0.53        40\n",
      "   macro avg       0.52      0.52      0.52        40\n",
      "weighted avg       0.53      0.53      0.53        40\n",
      "\n"
     ]
    }
   ],
   "source": [
    " from sklearn.pipeline import Pipeline\n",
    "\n",
    "# Generate a larger synthetic dataset\n",
    "np.random.seed(42)\n",
    "data_size = 200  # Increased size for better training\n",
    "job_titles = ['Cybersecurity Analyst', 'Marketing Specialist', 'AI Researcher', 'Sales Manager']\n",
    "job_growth_projection = ['True', 'False']\n",
    "\n",
    "# Create a DataFrame\n",
    "data = {\n",
    "    'Job_Title': np.random.choice(job_titles, size=data_size),\n",
    "    'Job_Growth_Projection': np.random.choice(job_growth_projection, size=data_size)\n",
    "}\n",
    "\n",
    "df = pd.DataFrame(data)\n",
    "\n",
    "# Define features and target variable\n",
    "X = df[['Job_Title']]\n",
    "y = df['Job_Growth_Projection'].map({\"True\": True, \"False\": False})  # Map to boolean\n",
    "\n",
    "# One-hot encode the categorical feature\n",
    "X_encoded = pd.get_dummies(X, drop_first=True)\n",
    "\n",
    "# Split the dataset into training and testing sets\n",
    "X_train, X_test, y_train, y_test = train_test_split(X_encoded, y, test_size=0.2, random_state=42)\n",
    "\n",
    "# Create a pipeline for the Decision Tree Classifier\n",
    "pipeline = Pipeline([\n",
    "    ('classifier', DecisionTreeClassifier(random_state=42))\n",
    "])\n",
    "\n",
    "# Hyperparameter tuning using Grid Search\n",
    "param_grid = {\n",
    "    'classifier__max_depth': [None, 5, 10, 15],\n",
    "    'classifier__min_samples_split': [2, 5, 10],\n",
    "    'classifier__min_samples_leaf': [1, 2, 4]\n",
    "}\n",
    "\n",
    "grid_search = GridSearchCV(pipeline, param_grid, cv=5, n_jobs=-1, verbose=2)\n",
    "grid_search.fit(X_train, y_train)\n",
    "\n",
    "# Best parameters from Grid Search\n",
    "print(\"Best parameters found: \", grid_search.best_params_)\n",
    "\n",
    "# Predict on the test set\n",
    "y_pred = grid_search.predict(X_test)\n",
    "\n",
    "# Calculate accuracy\n",
    "accuracy = accuracy_score(y_test, y_pred)\n",
    "report = classification_report(y_test, y_pred)\n",
    "\n",
    "# Output results\n",
    "print(f\"Accuracy: {accuracy * 100:.2f}%\")\n",
    "print(\"\\nClassification Report:\\n\", report)\n"
   ]
  },
  {
   "cell_type": "code",
   "execution_count": null,
   "id": "62ab39cf-cf1d-48e8-8580-68b1c0cba86c",
   "metadata": {},
   "outputs": [],
   "source": []
  },
  {
   "cell_type": "code",
   "execution_count": null,
   "id": "bf7ee4bf-4fff-4e4a-8b52-5b6d001af86b",
   "metadata": {},
   "outputs": [],
   "source": []
  }
 ],
 "metadata": {
  "kernelspec": {
   "display_name": "Python 3 (ipykernel)",
   "language": "python",
   "name": "python3"
  },
  "language_info": {
   "codemirror_mode": {
    "name": "ipython",
    "version": 3
   },
   "file_extension": ".py",
   "mimetype": "text/x-python",
   "name": "python",
   "nbconvert_exporter": "python",
   "pygments_lexer": "ipython3",
   "version": "3.12.4"
  }
 },
 "nbformat": 4,
 "nbformat_minor": 5
}
